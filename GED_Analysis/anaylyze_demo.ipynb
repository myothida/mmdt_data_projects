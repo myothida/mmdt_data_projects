{
 "cells": [
  {
   "cell_type": "markdown",
   "metadata": {},
   "source": [
    "### Description\n",
    "This project will focus on understanding the demographics of students who participated in the GED training program. By examining key demographic factors, we hope to uncover patterns or trends that may influence participants' levels of commitment and engagement with the program. Understanding these patterns will allow us to identify which demographic groups benefited the most and pinpoint areas where outreach or support could be improved for future programs.\n",
    "\n",
    "### Data Points\n",
    "- Age\n",
    "- Gender\n",
    "- Socio-economic background\n",
    "- Prior education levels\n",
    "- Geographic location\n",
    "\n",
    "### Methodology\n",
    "- Collect demographic data through surveys and registration forms.\n",
    "- Use statistical analysis techniques to segment participants by different demographic factors.\n",
    "- Visualize the data using charts and graphs to highlight trends and disparities.\n",
    "\n",
    "### Expected Outcomes\n",
    "- **Insights into the demographic composition of participants**.\n",
    "- **Insights into how different demographic groups vary in their commitment to and engagement with the program**.\n",
    "- **Identification of underserved groups or gaps in participation that need attention**.\n",
    "- **Data-driven recommendations** for tailoring future GED programs to better meet the needs of diverse populations, with an emphasis on improving outreach and support mechanisms."
   ]
  },
  {
   "cell_type": "code",
   "execution_count": null,
   "metadata": {},
   "outputs": [],
   "source": [
    "import pandas as pd\n",
    "import matplotlib.pyplot as plt"
   ]
  },
  {
   "cell_type": "code",
   "execution_count": null,
   "metadata": {},
   "outputs": [],
   "source": [
    "df1 = pd.read_csv('./data/first_batch.csv', index_col = 0)\n",
    "df2 = pd.read_csv('./data/second_batch.csv', index_col = 0)\n",
    "df = pd.concat([df1,df2]).reindex()\n",
    "df.head()\n"
   ]
  },
  {
   "cell_type": "code",
   "execution_count": null,
   "metadata": {},
   "outputs": [],
   "source": [
    "first_batch = df1['Gender'].value_counts().reset_index()\n",
    "second_batch = df2['Gender'].value_counts().reset_index()\n",
    "df_gen = pd.merge(first_batch, second_batch, on = \"Gender\")\n",
    "df_gen.columns = ['Gender', 'Batch_01', 'Batch_02']\n",
    "df_gen['total'] = df_gen['Batch_01']+ df_gen['Batch_02']\n",
    "df_gen"
   ]
  },
  {
   "cell_type": "code",
   "execution_count": null,
   "metadata": {},
   "outputs": [],
   "source": [
    "plt.figure(figsize =(6,8))\n",
    "\n",
    "plt.pie(\n",
    "    df_gen['total'], \n",
    "    labels=df_gen.Gender,\n",
    "    colors=['yellowgreen','skyblue'], \n",
    "    autopct='%0.2f%%', \n",
    "    textprops={'color': 'black'},  # Set font color to white\n",
    "    wedgeprops={'width': 0.73}  # Create the donut effect by setting the width of the wedges\n",
    ")\n",
    "plt.show()"
   ]
  },
  {
   "cell_type": "code",
   "execution_count": null,
   "metadata": {},
   "outputs": [],
   "source": [
    "emp_status = list(df['Employment'].unique())\n",
    "student_terms = [\"student\", \"Student\", \"ကျောင်းသူ\", \"CDM student\", \"English Class\", \"CDM Student\", \"ကျောင်းနားထားပါတယ်ရှင့်\", \"Grade 10\", \"Grade-11\", \"BEHS Zoke Thoke\", \"institute\", \"University\", 'Institute', \"Federal\"]\n",
    "noedu_terms = [\"Not applicable\", \"Unknown\", \"No\", \"Nothing\", \"-\", \".\", \"မတက်ပါ\", \"မရှိပါ\", \"I'm currently at home.\",  \"haven't joined\"]\n",
    "\n",
    "df[df['Employment'].isin(noedu_terms)]\n",
    "def text_clean(text):\n",
    "    if any(term in text for term in student_terms):\n",
    "        return 'student'\n",
    "    elif any(term in text for term in noedu_terms):\n",
    "        return 'edu break'\n",
    "    else:\n",
    "        return 'low-level-job'\n",
    "\n",
    "df['Employ_status'] = df['Employment'].apply(text_clean)\n",
    "df.head()"
   ]
  },
  {
   "cell_type": "code",
   "execution_count": null,
   "metadata": {},
   "outputs": [],
   "source": [
    "df_community = df['Employ_status'].value_counts()\n",
    "plt.figure(figsize=(12, 8))\n",
    "bars = df_community.plot(kind='bar', color='yellowgreen')\n",
    "\n",
    "for idx, bar in enumerate(bars.patches):\n",
    "    plt.text(\n",
    "        bar.get_x() + bar.get_width() / 2,  # Position text slightly to the right of the bar\n",
    "        bar.get_height()-0.5,  f'{bar.get_height()}', \n",
    "        va='center'  \n",
    "    )\n",
    "\n",
    "plt.title('Employment Status of Participants')\n",
    "plt.xlabel('')\n",
    "plt.ylabel('Number of Participants', fontsize = 12)\n",
    "plt.xticks(rotation = 0)  \n",
    "plt.grid(axis='y', linestyle='--', alpha=0.7)\n",
    "plt.show()"
   ]
  },
  {
   "cell_type": "code",
   "execution_count": null,
   "metadata": {},
   "outputs": [],
   "source": [
    "location_counts = pd.read_csv('./data/data_accept_region.csv', index_col = 0)\n",
    "mean_acceptance_rate = location_counts['Acceptance Rate (%)'].mean()\n",
    "std_acceptance_rate = location_counts['Acceptance Rate (%)'].std()\n",
    "underserved_threshold = mean_acceptance_rate - std_acceptance_rate\n",
    "high_threshold = mean_acceptance_rate + std_acceptance_rate\n",
    "location_counts"
   ]
  },
  {
   "cell_type": "code",
   "execution_count": null,
   "metadata": {},
   "outputs": [],
   "source": [
    "\n",
    "plt.figure(figsize=(10, 6))\n",
    "bars = plt.barh(location_counts['Location'], location_counts['Acceptance Rate (%)'], color='skyblue')\n",
    "labels = list(location_counts['labels'])\n",
    "\n",
    "for idx, bar in enumerate(bars):\n",
    "    plt.text(\n",
    "        bar.get_width() + 0.9,  # Position text slightly to the right of the bar\n",
    "        bar.get_y() + bar.get_height() / 2,  # Position text in the middle of the bar height\n",
    "        f'{labels[idx]}', \n",
    "        va='center'  # Align text vertically centered\n",
    "    )\n",
    "\n",
    "\n",
    "plt.axvline(x=mean_acceptance_rate, color='green', linestyle='--', label='Mean Acceptance Rate')\n",
    "plt.axvline(x=underserved_threshold, color='red', linestyle='--', label='Underserved Threshold (Mean - 1 SD)')\n",
    "plt.axvline(x=high_threshold, color='purple', linestyle='--', label='High Threshold (Mean + 1 SD)')\n",
    "plt.title('Acceptance Rate by Location')\n",
    "plt.xlabel('Acceptance Rate (%)')\n",
    "plt.ylabel('Location')\n",
    "plt.xlim(0, 100)\n",
    "plt.legend()\n",
    "plt.tight_layout()\n",
    "\n",
    "\n",
    "plt.show()"
   ]
  },
  {
   "cell_type": "code",
   "execution_count": null,
   "metadata": {},
   "outputs": [],
   "source": [
    "Edu_level_list = ['Pass 7th Grade', 'Pass 8th Grade', 'Pass 9th Grade', 'Pass 10th Grade','Diploma Graduate', 'Pass University First Year', 'Other']\n",
    "df_edu = df['Education'].value_counts().reindex(Edu_level_list)\n",
    "plt.figure(figsize=(12, 8))\n",
    "bars = df_edu.plot(kind='bar', color='skyblue')\n",
    "\n",
    "for idx, bar in enumerate(bars.patches):\n",
    "    plt.text(\n",
    "        bar.get_x() + bar.get_width() / 2,  # Position text slightly to the right of the bar\n",
    "        bar.get_height()-0.5,  f'{bar.get_height()}', \n",
    "        va='center'  \n",
    "    )\n",
    "\n",
    "plt.title('Education Level of Participants')\n",
    "plt.xlabel('')\n",
    "plt.ylabel('Number of Participants', fontsize = 12)\n",
    "plt.xticks(rotation=15, ha='right')  # Rotate the x-axis labels for readability\n",
    "plt.grid(axis='y', linestyle='--', alpha=0.7)\n",
    "plt.show()"
   ]
  },
  {
   "cell_type": "code",
   "execution_count": null,
   "metadata": {},
   "outputs": [],
   "source": [
    "import seaborn as sns\n",
    "\n",
    "q1 = df['Age'].quantile(0.25)\n",
    "q2 = df['Age'].mean()\n",
    "q3 = df['Age'].quantile(0.75)\n",
    "\n",
    "plt.figure(figsize=(10, 8))\n",
    "sns.histplot(df['Age'], kde=True, bins = 20, stat = 'density', color='skyblue', linewidth=3)\n",
    "\n",
    "plt.title('Age Distribution of Participants', fontsize=16)\n",
    "plt.xlabel('Age', fontsize=14)\n",
    "plt.ylabel('Density', fontsize=14)"
   ]
  },
  {
   "cell_type": "code",
   "execution_count": null,
   "metadata": {},
   "outputs": [],
   "source": [
    "import seaborn as sns\n",
    "status_list = ['low-level-job', 'edu break', 'student']\n",
    "df_com_employ = df.groupby(['Commitment', 'Employ_status'], observed = True)['Employ_status'].size().unstack()\n",
    "df_com_employ = df_com_employ[status_list]\n",
    "\n",
    "\n",
    "plt.figure(figsize = (12,6))\n",
    "sns.heatmap(df_com_employ, cmap='viridis', annot=True, fmt='.2f')\n",
    "plt.title('Commitment vs. Employment Status')\n",
    "plt.xlabel('Employment Status')\n",
    "plt.show()\n"
   ]
  },
  {
   "cell_type": "code",
   "execution_count": null,
   "metadata": {},
   "outputs": [],
   "source": [
    "df_com_gender = df.groupby(['Commitment', 'Gender'], observed = True)['Gender'].size().unstack().T\n",
    "df_com_gender_percentage = df_com_gender.div(df_com_gender.sum(axis=1), axis=0) * 100\n",
    "df_com_gender"
   ]
  },
  {
   "cell_type": "code",
   "execution_count": null,
   "metadata": {},
   "outputs": [],
   "source": [
    "from matplotlib.colors import ListedColormap \n",
    "\n",
    "fig, ax = plt.subplots(figsize=(12, 6))\n",
    "df_com_gender_percentage.plot(kind='bar', stacked=True, color=['#FFD700', '#4B0082'], ax = ax)\n",
    "plt.xticks(rotation=0)\n",
    "plt.ylabel('Percentage')\n",
    "plt.title('Commitment Levels by Gender (Percentage)')\n",
    "for i, gender in enumerate(df_com_gender.index):\n",
    "    cumulative = 0\n",
    "    for commitment in df_com_gender.columns:\n",
    "        value = df_com_gender.loc[gender, commitment]          # Actual count for annotation\n",
    "        percent = df_com_gender_percentage.loc[gender, commitment]  # Percentage height for each segment\n",
    "        ax.text(i, cumulative + percent / 2, f'{percent:.2f}%', ha='center', va='center', color='black', fontsize=10)\n",
    "        cumulative += percent  # Update cumulative percentage for next segment\n",
    "\n",
    "plt.show()"
   ]
  },
  {
   "cell_type": "code",
   "execution_count": null,
   "metadata": {},
   "outputs": [],
   "source": [
    "df_region_com = df.groupby(['Commitment', 'Location']).size().unstack().fillna(0).T\n",
    "df_region_com\n",
    "\n",
    "df_region_com_per = df_region_com.div(df_region_com.sum(axis=1), axis=0) * 100\n",
    "df_region_com_per = df_region_com_per.sort_values(by='High', ascending = False)\n",
    "df_region_com_per\n"
   ]
  },
  {
   "cell_type": "code",
   "execution_count": null,
   "metadata": {},
   "outputs": [],
   "source": [
    "fig, ax = plt.subplots(figsize=(12, 6))\n",
    "df_region_com_per.plot(kind='barh', stacked=True, color=['#FFD700', '#4B0082'], ax = ax)\n",
    "plt.xticks(rotation=0)\n",
    "plt.ylabel('')\n",
    "plt.title('Comparisions of Commitment Levels by Location')\n",
    "plt.legend(loc = 'upper right', bbox_to_anchor=(1.12,0.99))\n",
    "\n",
    "plt.show()"
   ]
  },
  {
   "cell_type": "code",
   "execution_count": null,
   "metadata": {},
   "outputs": [],
   "source": [
    "df_age_com = df.groupby(['Commitment', 'Age']).size().unstack().fillna(0).T\n",
    "df_age_com\n",
    "\n",
    "df_age_com_per = df_age_com.div(df_age_com.sum(axis=1), axis=0) * 100\n",
    "df_age_com_per = df_age_com_per.sort_index()\n",
    "df_age_com_per"
   ]
  },
  {
   "cell_type": "code",
   "execution_count": null,
   "metadata": {},
   "outputs": [],
   "source": [
    "fig, ax = plt.subplots(figsize=(12, 6))\n",
    "df_age_com_per.plot(kind='barh', stacked=True, color=['#FFD700', '#4B0082'], ax = ax)\n",
    "plt.xticks(rotation=0)\n",
    "plt.ylabel('')\n",
    "plt.title('Comparisions of Commitment Levels by Age')\n",
    "plt.legend(loc = 'upper right', bbox_to_anchor=(1.12,0.99))\n",
    "\n",
    "plt.show()"
   ]
  },
  {
   "cell_type": "markdown",
   "metadata": {},
   "source": [
    "The **Chi-Square test** (also known as the **Chi-Square test of independence**) is a statistical method used to determine whether there is a significant association between two categorical variables. It compares the observed frequencies in a contingency table to the expected frequencies, assuming the variables are independent.\n",
    "\n",
    "1. **Observed Frequencies (O)**: These are the actual counts you observe in your data for each category or combination of categories.\n",
    "\n",
    "2. **Expected Frequencies (E)**: These are the counts that you would expect to observe if the two variables were **independent**. \n",
    "$$\n",
    "E_{rc} = \\frac{\n",
    "    \\text{Row Total} \\times \\text{Column Total}}{\n",
    "    \\text{Grand Total}}\n",
    "$$\n",
    "\n",
    "3. **Chi-Square Statistic (\\(\\chi^2\\))**: This statistic measures the difference between the observed and expected frequencies. It is calculated using the formula:\n",
    "\n",
    "   $$\n",
    "   \\chi^2 = \\sum \\frac{(O - E)^2}{E}\n",
    "   $$\n",
    "\n",
    "   Where:\n",
    "   - **O** is the observed frequency.\n",
    "   - **E** is the expected frequency.\n",
    "\n",
    "   The sum is taken over all the cells in the contingency table.\n",
    "\n",
    "4. **P-Value**: The p-value is used to determine whether the observed difference between the observed and expected frequencies is statistically significant. A **low p-value** (typically below 0.05) suggests that the difference is unlikely to have occurred by chance, indicating a significant association between the two variables.\n",
    "\n",
    "5. **Degrees of Freedom (df)**: The degrees of freedom for the Chi-Square test is calculated as:\n",
    "\n",
    "   $$\n",
    "   \\text{df} = (r - 1) \\times (c - 1)\n",
    "   $$\n",
    "\n",
    "   Where:\n",
    "   - **r** is the number of rows in the contingency table.\n",
    "   - **c** is the number of columns in the contingency table.\n",
    "\n",
    "#### Steps in a Chi-Square Test\n",
    "\n",
    "1. **Determine Null Hypothesis**: There is no significance relationship between commitment and other feature. \n",
    "\n",
    "2. **Compute the Chi-Square Statistic**: Use the formula to calculate the Chi-Square statistic, which quantifies the difference between observed and expected values.\n",
    "\n",
    "3. **Find the p-value**: Compare the Chi-Square statistic to the Chi-Square distribution (with the appropriate degrees of freedom) to find the p-value.\n",
    "\n",
    "4. **Interpret the Results**:\n",
    "   - If the **p-value** is less than the significance level (typically 0.05), reject the null hypothesis, which states that the variables are independent.\n",
    "   - If the **p-value** is greater than 0.05, fail to reject the null hypothesis, which suggests no significant relationship between the variables. \n",
    "   For example: In the **Gender** and **Commitment** test, the **p-value is 0.55**, which is **greater** than `0.05`, so we fail to reject the null hypothesis. This means that we do not have enough evidence to say that that the **Gender** and **Commitment level** are related using this dataset. The likelihood of a person having a High or Low commitment level is not influenced by their gender.\n",
    "\n",
    "#### Remark\n",
    "\n",
    "The Chi-Square test is a useful tool for analyzing categorical data. It helps you determine whether two categorical variables are independent or associated with each other. By comparing observed and expected frequencies, you can assess the statistical significance of the relationship between the variables.\n"
   ]
  },
  {
   "cell_type": "code",
   "execution_count": null,
   "metadata": {},
   "outputs": [],
   "source": [
    "import numpy as np\n",
    "from scipy.stats import chi2_contingency\n",
    "\n",
    "feature_list = ['Gender', 'Age', 'Employ_status', 'Education']\n",
    "\n",
    "result = {}\n",
    "for col in feature_list:\n",
    "    data = df.groupby(['Commitment', col]).size().unstack().fillna(0).T\n",
    "    data['Total'] = data.sum(axis=1)\n",
    "    chi2, p, dof, expected = chi2_contingency(data)\n",
    "    if col not in result.keys():\n",
    "        result[col] = (round(chi2,2), round(p,2), round(dof,2), np.round(expected,2))\n",
    "\n",
    "result_df = pd.DataFrame(result, index=['chi2', 'p', 'dof', 'expected'])\n",
    "result_df\n"
   ]
  }
 ],
 "metadata": {
  "kernelspec": {
   "display_name": ".venv",
   "language": "python",
   "name": "python3"
  },
  "language_info": {
   "codemirror_mode": {
    "name": "ipython",
    "version": 3
   },
   "file_extension": ".py",
   "mimetype": "text/x-python",
   "name": "python",
   "nbconvert_exporter": "python",
   "pygments_lexer": "ipython3",
   "version": "3.12.2"
  }
 },
 "nbformat": 4,
 "nbformat_minor": 2
}
