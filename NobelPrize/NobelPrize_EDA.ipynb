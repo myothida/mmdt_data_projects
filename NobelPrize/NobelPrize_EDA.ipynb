{
 "cells": [
  {
   "cell_type": "markdown",
   "id": "db5bd2ce-918a-4f7d-a927-a3ea74c4b456",
   "metadata": {},
   "source": [
    "The Nobel Prize has been among the most prestigious international awards since 1901. Each year, awards are bestowed in chemistry, literature, physics, physiology or medicine, economics, and peace. In addition to the honor, prestige, and substantial prize money, the recipient also gets a gold medal with an image of Alfred Nobel (1833 - 1896), who established the prize.\n",
    "\n",
    "![](Nobel_Prize.png)\n",
    "\n",
    "The Nobel Foundation has made a dataset available of all prize winners from the outset of the awards from 1901 to 2023. The dataset used in this project is from the Nobel Prize API and is available in the `nobel.csv` file in the `data` folder.\n",
    "\n",
    "In this project, you'll get a chance to explore and answer several questions related to this prizewinning data. And we encourage you then to explore further questions that you're interested in!"
   ]
  },
  {
   "cell_type": "code",
   "execution_count": null,
   "id": "11fd5946-7bd1-495c-aa7f-ff6e7e4a350b",
   "metadata": {
    "executionCancelledAt": null,
    "executionTime": 9,
    "lastExecutedAt": 1730424444568,
    "lastExecutedByKernel": "ff3ed5e8-a9cc-4b0a-9fce-f15fe6d2f295",
    "lastScheduledRunId": null,
    "lastSuccessfullyExecutedCode": "# Loading in required libraries\nimport pandas as pd\nimport seaborn as sns\nimport numpy as np\n\n# Start coding here!"
   },
   "outputs": [],
   "source": [
    "# Loading in required libraries\n",
    "import pandas as pd\n",
    "import seaborn as sns\n",
    "import matplotlib.pyplot as plt\n",
    "import numpy as np\n",
    "\n",
    "# Start coding here!"
   ]
  },
  {
   "cell_type": "code",
   "execution_count": null,
   "id": "2915c17a",
   "metadata": {},
   "outputs": [],
   "source": [
    "df = pd.read_csv('./data/nobel.csv')\n",
    "cat_list = list(df['category'].unique())\n",
    "cat_list\n"
   ]
  },
  {
   "cell_type": "code",
   "execution_count": null,
   "id": "af324220",
   "metadata": {},
   "outputs": [],
   "source": [
    "df_cat = df.groupby(['year', 'category'])['category'].count().unstack(fill_value=0)\n",
    "df_cat['total'] = df_cat.sum(axis = 1)\n",
    "plt.figure(figsize = (12, 6))\n",
    "sns.lineplot(data = df_cat, x = df_cat.index, y = 'total', marker = 's')\n",
    "plt.xlim([1900, 2024])\n",
    "plt.ylim([0, 20])\n",
    "plt.xticks(range(1900,2024, 7))\n",
    "plt.xlabel('')\n",
    "plt.ylabel('Total awards per year')\n",
    "plt.title('Trend in number of Nobel Prizes over time')\n",
    "plt.show()"
   ]
  },
  {
   "cell_type": "code",
   "execution_count": null,
   "id": "f5eef257",
   "metadata": {},
   "outputs": [],
   "source": [
    "from matplotlib.colors import ListedColormap \n",
    "\n",
    "\n",
    "plt.figure(figsize = (16,6))\n",
    "color_map = ListedColormap(['green', 'blue', 'yellow', 'purple'])\n",
    "\n",
    "for idx, column in enumerate(cat_list):   \n",
    "    plt.scatter(df_cat.index, [idx]*len(df_cat), c= df_cat[column], cmap =color_map, s=100, marker = \"s\")\n",
    "\n",
    "plt.yticks(range(0,len(cat_list)), cat_list)\n",
    "cbar = plt.colorbar(ticks = [0, 1, 2, 3])\n",
    "plt.show()"
   ]
  },
  {
   "cell_type": "code",
   "execution_count": null,
   "id": "632d7f92",
   "metadata": {},
   "outputs": [],
   "source": [
    "import geopandas as gpd\n",
    "import matplotlib.pyplot as plt\n",
    "import pandas as pd"
   ]
  },
  {
   "cell_type": "code",
   "execution_count": null,
   "id": "a8c3493f",
   "metadata": {},
   "outputs": [],
   "source": [
    "url = \"./data/ne_10m_admin_0_countries.shp\"\n",
    "world = gpd.read_file(url)\n",
    "world = world[['geometry', 'NAME']].copy()\n",
    "world['Country'] = world['NAME']\n",
    "\n",
    "df_country = df.groupby('birth_country').size().reset_index()\n",
    "df_country.columns = ['Country', \"Number_of_Prizes\"]\n",
    "nobel_map = pd.merge(world, df_country, on = \"Country\", how='inner')\n"
   ]
  },
  {
   "cell_type": "code",
   "execution_count": null,
   "id": "7c775915",
   "metadata": {},
   "outputs": [],
   "source": [
    "df_country.sort_values(by = 'Number_of_Prizes', ascending = False).head(10)"
   ]
  },
  {
   "cell_type": "code",
   "execution_count": null,
   "id": "a75897d6",
   "metadata": {},
   "outputs": [],
   "source": [
    "fig, ax = plt.subplots(1, 1, figsize=(18, 12))\n",
    "nobel_map.plot(column='Number_of_Prizes', ax=ax, legend=True, \n",
    "               legend_kwds={'label': \"Number of Nobel Prize Winners by Country\", \n",
    "                            'orientation': \"horizontal\"},\n",
    "               cmap='coolwarm')\n",
    "ax.set_title(\"Nobel Prize Winners Around the Globe\")\n",
    "for x, y, label in zip(nobel_map.geometry.centroid.x, nobel_map.geometry.centroid.y, nobel_map['Number_of_Prizes']):\n",
    "    ax.text(x, y, str(int(label)) if label>5 else '', fontsize=10, ha='center', color='black')\n",
    "plt.show()"
   ]
  },
  {
   "cell_type": "markdown",
   "id": "2a4bfd53",
   "metadata": {},
   "source": [
    "##### What is the most commonly awarded gender and birth country?\n",
    "***Store your answers as string variables top_gender and top_country.***\n",
    "##### Which decade had the highest ratio of US-born Nobel Prize winners to total winners in all categories?\n",
    "***Store this as an integer called max_decade_usa.***\n",
    "##### Which decade and Nobel Prize category combination had the highest proportion of female laureates?\n",
    "***Store this as a dictionary called max_female_dict where the decade is the key and the category is the value. There should only be one key:value pair.***\n",
    "##### Who was the first woman to receive a Nobel Prize, and in what category?\n",
    "***Save your string answers as first_woman_name and first_woman_category.***\n",
    "##### Which individuals or organizations have won more than one Nobel Prize throughout the years?\n",
    "***Store the full names in a list named repeat_list.***\n"
   ]
  },
  {
   "cell_type": "code",
   "execution_count": null,
   "id": "19eeea36",
   "metadata": {},
   "outputs": [],
   "source": [
    "top_gender = df['sex'].mode().values[0]\n",
    "top_country = df['birth_country'].mode().values[0]\n",
    "top_country"
   ]
  },
  {
   "cell_type": "code",
   "execution_count": null,
   "id": "b75abb36",
   "metadata": {},
   "outputs": [],
   "source": [
    "df_decade = df.copy()\n",
    "df_decade['decade'] = (df['year']//10)*10\n",
    "total_awards = df_decade.groupby('decade').size().reset_index()\n",
    "total_awards.columns = ['decade', 'total_awards']\n",
    "total_awards_country = df_decade.groupby(['decade', 'birth_country']).size().reset_index()\n",
    "total_awards_country.columns = ['decade', 'birth_country', 'total_awards']\n",
    "total_awards_country\n",
    "\n",
    "merged_df = pd.merge(total_awards_country, total_awards, on = 'decade', how = 'inner')\n",
    "merged_df.columns = ['decade', 'birth_country', 'total_awards_country', 'total_awards']\n",
    "merged_df['percentage'] = merged_df['total_awards_country']/merged_df['total_awards']\n",
    "us_df = merged_df[merged_df['birth_country'] == 'United States of America']\n",
    "us_df = us_df.sort_values(by = 'percentage', ascending= False)\n",
    "max_decade_usa = int(us_df['decade'].values[0])\n",
    "max_decade_usa"
   ]
  },
  {
   "cell_type": "code",
   "execution_count": null,
   "id": "3a48c112",
   "metadata": {},
   "outputs": [],
   "source": [
    "decade_category = df_decade.groupby(['decade', 'category']).size().reset_index()\n",
    "decade_category.columns = ['decade', 'category', 'total_awards']\n",
    "gender_category = df_decade.groupby(['decade', 'category', 'sex']).size().reset_index()\n",
    "gender_category.columns = ['decade', 'category','gender', 'gender_awards']\n",
    "merged_df = pd.merge(decade_category, gender_category, on = ['decade', 'category'], how = 'inner')\n",
    "merged_df['percentage'] = merged_df['gender_awards']/merged_df['total_awards']\n",
    "merged_df = merged_df[merged_df['gender'] == 'Female'].sort_values(by = 'gender_awards', ascending = False) \n",
    "max_female_dict = {int(merged_df.decade.values[0]): merged_df.category.values[0]}\n",
    "max_female_dict"
   ]
  },
  {
   "cell_type": "code",
   "execution_count": null,
   "id": "6c7d7881",
   "metadata": {},
   "outputs": [],
   "source": [
    "df_women = df[df['sex']=='Female'].sort_values(by = 'year', ascending = True)\n",
    "first_woman_name  = df_women.iloc[0]['full_name']\n",
    "first_woman_category = df_women.iloc[0]['category']\n",
    "print(first_woman_name, first_woman_category)"
   ]
  },
  {
   "cell_type": "code",
   "execution_count": null,
   "id": "f87adeb8",
   "metadata": {},
   "outputs": [],
   "source": [
    "repeat_list = list(df[df['full_name'].duplicated()]['full_name'].unique())\n",
    "repeat_list"
   ]
  }
 ],
 "metadata": {
  "editor": "DataCamp Workspace",
  "kernelspec": {
   "display_name": ".venv",
   "language": "python",
   "name": "python3"
  },
  "language_info": {
   "codemirror_mode": {
    "name": "ipython",
    "version": 3
   },
   "file_extension": ".py",
   "mimetype": "text/x-python",
   "name": "python",
   "nbconvert_exporter": "python",
   "pygments_lexer": "ipython3",
   "version": "3.12.2"
  }
 },
 "nbformat": 4,
 "nbformat_minor": 5
}
