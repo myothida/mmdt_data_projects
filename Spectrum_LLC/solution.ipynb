{
 "cells": [
  {
   "cell_type": "markdown",
   "id": "8d0bcede-0826-475c-8678-72835c042b37",
   "metadata": {},
   "source": [
    "# Solution: Spectrum Shades LLC\n",
    "Spectrum Shades LLC is a prominent supplier of concrete color solutions, offering a wide range of pigments and coloring systems used in various concrete applications, including decorative concrete, precast concrete, and concrete pavers. The company prides itself on delivering high-quality colorants that meet the unique needs of its diverse clientele, including contractors, architects, and construction companies.\n",
    "</br></br>\n",
    "The company has recently observed a growing number of customer complaints regarding inconsistent color quality in their products. The discrepancies have led to a decline in customer satisfaction and a potential increase in product returns.\n",
    "By identifying and mitigating the factors causing color variations, the company can enhance product reliability, reduce customer complaints, and minimize return rates.\n",
    "</br></br>\n",
    "You are part of the data analysis team tasked with providing actionable insights to help Spectrum Shades LLC address the issues of inconsistent color quality and improve customer satisfaction."
   ]
  },
  {
   "cell_type": "markdown",
   "id": "c0d5a3bb-bbae-4d39-a6c6-daa46c470347",
   "metadata": {},
   "source": [
    "# Task 1\n",
    "\n",
    "Before you can start any analysis, you need to confirm that the data is accurate and reflects what you expect to see. \n",
    "\n",
    "It is known that there are some issues with the `production_data` table, and the data team have provided the following data description. \n",
    "\n",
    "Write a query to ensure the data matches the description provided, including identifying and cleaning all invalid values. You must match all column names and description criteria.\n",
    "</br>\n",
    "\n",
    "- You should start with the data in the file \"production_data.csv\".\n",
    "- Your output should be a DataFrame named clean_data.\n",
    "- All column names and values should match the table below.\n",
    "</br>\n",
    "\n",
    "| Column Name             | Criteria                                                                                         |\n",
    "|--------------------------|--------------------------------------------------------------------------------------------------|\n",
    "| batch_id | Discrete. Identifier for each batch. Missing values are not possible. |\n",
    "| production_date | Date. Date when the batch was produced.|\n",
    "| raw_material_supplier | Categorical. Supplier of the raw materials. (1='national_supplier', 2='international_supplier'). <br> Missing values should be replaced with 'national_supplier'.|\n",
    "| pigment_type           | Nominal. Type of pigment used. ['type_a', 'type_b', 'type_c']. <br> Missing values should be replaced with 'other'. |\n",
    "| pigment_quantity       | Continuous. Amount of pigment added (in kilograms) (Range: 1 - 100). <br> Missing values should be replaced with median. |\n",
    "| mixing_time           | Continuous. Duration of the mixing process (in minutes). <br> Missing values should be replaced with mean. |\n",
    "| mixing_speed          | Categorical. Speed of the mixing process represented as categories: 'Low', 'Medium', 'High'.</br> Missing values should be replaced with 'Not Specified'. |\n",
    "| product_quality_score | Continuous. Overall quality score of the final product (rating on a scale of 1 to 10). <br> Missing values should be replaced with mean. |\n"
   ]
  },
  {
   "cell_type": "code",
   "execution_count": null,
   "id": "5ce18b54-29af-4beb-bc8c-79c4e21bcd52",
   "metadata": {
    "executionCancelledAt": null,
    "executionTime": 79,
    "lastExecutedAt": 1732735913888,
    "lastExecutedByKernel": "2219b603-d05a-4fcc-9666-eabdccfcbaa0",
    "lastScheduledRunId": null,
    "lastSuccessfullyExecutedCode": "# Write your answer to Task 1 here\nimport pandas as pd\n\ndf = pd.read_csv('production_data.csv')\ndf['batch_id'] = df['batch_id'].dropna()\n\ndf['production_date'] = pd.to_datetime(df['production_date'], errors = 'coerce')\ndf = df.dropna(subset=['production_date']) \n\ndf['raw_material_supplier']= df['raw_material_supplier'].fillna('national_supplier')\n\ndf['pigment_type'] = df['pigment_type'].apply(lambda data: str(data).lower())\nvalid_pigment_types = ['type_a', 'type_b', 'type_c']\ndf['pigment_type'] = df['pigment_type'].fillna('other')\ndf['pigment_type'] = df['pigment_type'].apply(lambda x: x if x in valid_pigment_types else 'other')\n\npigment_quantity_median = df['pigment_quantity'].median()\ndf['pigment_quantity'] = df['pigment_quantity'].fillna(pigment_quantity_median)\ndf['pigment_quantity'] = df['pigment_quantity'].clip(lower=1, upper=100)\n\nmixing_time_mean = df['mixing_time'].mean()\ndf['mixing_time'] = df['mixing_time'].fillna(mixing_time_mean)\n\nvalid_mixing_speeds = ['Low', 'Medium', 'High']\ndf['mixing_speed'] = df['mixing_speed'].fillna('Not Specified')\ndf['mixing_speed'] = df['mixing_speed'].apply(lambda x: x if x in valid_mixing_speeds else 'Not Specified')\n\nproduct_quality_score_mean = df['product_quality_score'].mean()\ndf['product_quality_score'] = df['product_quality_score'].fillna(product_quality_score_mean)\ndf['product_quality_score'] = df['product_quality_score'].clip(lower=1, upper=10)\n\nclean_data = df.copy()\nclean_data\n",
    "outputsMetadata": {
     "0": {
      "height": 542,
      "type": "dataFrame"
     }
    }
   },
   "outputs": [],
   "source": [
    "# Write your answer to Task 1 here\n",
    "import pandas as pd\n",
    "\n",
    "df = pd.read_csv('production_data.csv')\n",
    "df['batch_id'] = df['batch_id'].dropna()\n",
    "\n",
    "df['production_date'] = pd.to_datetime(df['production_date'], errors = 'coerce')\n",
    "df = df.dropna(subset=['production_date']) \n",
    "\n",
    "df['raw_material_supplier']= df['raw_material_supplier'].fillna('national_supplier')\n",
    "\n",
    "df['pigment_type'] = df['pigment_type'].apply(lambda data: str(data).lower())\n",
    "valid_pigment_types = ['type_a', 'type_b', 'type_c']\n",
    "df['pigment_type'] = df['pigment_type'].fillna('other')\n",
    "df['pigment_type'] = df['pigment_type'].apply(lambda x: x if x in valid_pigment_types else 'other')\n",
    "\n",
    "pigment_quantity_median = df['pigment_quantity'].median()\n",
    "df['pigment_quantity'] = df['pigment_quantity'].fillna(pigment_quantity_median)\n",
    "df['pigment_quantity'] = df['pigment_quantity'].clip(lower=1, upper=100)\n",
    "\n",
    "mixing_time_mean = df['mixing_time'].mean()\n",
    "df['mixing_time'] = df['mixing_time'].fillna(mixing_time_mean)\n",
    "\n",
    "valid_mixing_speeds = ['Low', 'Medium', 'High']\n",
    "df['mixing_speed'] = df['mixing_speed'].fillna('Not Specified')\n",
    "df['mixing_speed'] = df['mixing_speed'].apply(lambda x: x if x in valid_mixing_speeds else 'Not Specified')\n",
    "\n",
    "product_quality_score_mean = df['product_quality_score'].mean()\n",
    "df['product_quality_score'] = df['product_quality_score'].fillna(product_quality_score_mean)\n",
    "df['product_quality_score'] = df['product_quality_score'].clip(lower=1, upper=10)\n",
    "\n",
    "clean_data = df.copy()\n",
    "clean_data\n"
   ]
  },
  {
   "cell_type": "markdown",
   "id": "026b3c30-d3b0-4762-ae10-0f2880873bdc",
   "metadata": {},
   "source": [
    "# Task 2\n",
    "\n",
    "You want to understand how the supplier type and quantity of materials affect the final product attributes.\n",
    "\n",
    "Calculate the average `product_quality_score` and `pigment_quantity` grouped by `raw_material_supplier`.\n",
    "\n",
    "- You should start with the data in the file 'production_data.csv'. \n",
    "- Your output should be a DataFrame named aggregated_data.\n",
    "- It should include the three columns: `raw_material_supplier`, `avg_product_quality_score`, and `avg_pigment_quantity`.\n",
    "- Your answers should be rounded to 2 decimal places.\n"
   ]
  },
  {
   "cell_type": "code",
   "execution_count": null,
   "id": "6d47e440-c4ab-45cf-af40-53181764bac4",
   "metadata": {
    "executionCancelledAt": null,
    "executionTime": 48,
    "lastExecutedAt": 1732735913936,
    "lastExecutedByKernel": "2219b603-d05a-4fcc-9666-eabdccfcbaa0",
    "lastScheduledRunId": null,
    "lastSuccessfullyExecutedCode": "# Write your answer to Task 2 here\n\ndf = pd.read_csv('production_data.csv')\naggregated_data = df.groupby('raw_material_supplier')[['product_quality_score', 'pigment_quantity']].mean()\naggregated_data = aggregated_data.round(2).reset_index()\naggregated_data.columns = ['raw_material_supplier','avg_product_quality_score', 'avg_pigment_quantity']\naggregated_data\n",
    "outputsMetadata": {
     "0": {
      "height": 137,
      "type": "dataFrame"
     }
    }
   },
   "outputs": [],
   "source": [
    "# Write your answer to Task 2 here\n",
    "\n",
    "df = pd.read_csv('production_data.csv')\n",
    "aggregated_data = df.groupby('raw_material_supplier')[['product_quality_score', 'pigment_quantity']].mean()\n",
    "aggregated_data = aggregated_data.round(2).reset_index()\n",
    "aggregated_data.columns = ['raw_material_supplier','avg_product_quality_score', 'avg_pigment_quantity']\n",
    "aggregated_data\n"
   ]
  },
  {
   "cell_type": "markdown",
   "id": "cb821882-c29a-42e7-bff8-e281dc068a9b",
   "metadata": {},
   "source": [
    "# Task 3\n",
    "\n",
    "Identify the average `product_quality_score` for batches with a `raw_material_supplier` of 2 and a `pigment_quantity` greater than 35 kg.\n",
    "\n",
    "Write a query to return the average `avg_product_quality_score` for these filtered batches. Use the original production data table, not the output of Task 2.\n",
    "\n",
    "- You should start with the data in the file 'production_data.csv'. \n",
    "- Your output should be a DataFrame named pigment_data.\n",
    "- It should include the columns: `raw_material_supplier`, `pigment_quantity`, and `avg_product_quality_score`.\n",
    "- Your answers should be rounded to 2 decimal places.\n"
   ]
  },
  {
   "cell_type": "code",
   "execution_count": null,
   "id": "b30f8d6b-21cc-4de7-9c88-dffeb602f9d3",
   "metadata": {
    "executionCancelledAt": null,
    "executionTime": 52,
    "lastExecutedAt": 1732735913988,
    "lastExecutedByKernel": "2219b603-d05a-4fcc-9666-eabdccfcbaa0",
    "lastScheduledRunId": null,
    "lastSuccessfullyExecutedCode": "# Write your answer to Task 3 here\n\ndf = pd.read_csv('production_data.csv')\n\nfiltered_df = df[(df['raw_material_supplier'] == 2) & (df['pigment_quantity'] > 35)].copy()\navg_product_quality_score = filtered_df['product_quality_score'].mean()\npigment_data = filtered_df[['raw_material_supplier', 'pigment_quantity']].copy()\npigment_data['avg_product_quality_score'] = avg_product_quality_score\n\npigment_data = pigment_data.round(2)\n\npigment_data",
    "outputsMetadata": {
     "0": {
      "height": 542,
      "type": "dataFrame"
     }
    }
   },
   "outputs": [],
   "source": [
    "# Write your answer to Task 3 here\n",
    "\n",
    "df = pd.read_csv('production_data.csv')\n",
    "\n",
    "filtered_df = df[(df['raw_material_supplier'] == 2) & (df['pigment_quantity'] > 35)].copy()\n",
    "avg_product_quality_score = filtered_df['product_quality_score'].mean()\n",
    "pigment_data = filtered_df[['raw_material_supplier', 'pigment_quantity']].copy()\n",
    "pigment_data['avg_product_quality_score'] = avg_product_quality_score\n",
    "\n",
    "pigment_data = pigment_data.round(2)\n",
    "\n",
    "pigment_data"
   ]
  },
  {
   "cell_type": "markdown",
   "id": "42718e48-205a-48ab-8ddc-a93857b71726",
   "metadata": {},
   "source": [
    "# Task 4\n",
    "\n",
    "In order to proceed with further analysis later, you need to analyze how various factors relate to product quality. Start by calculating the mean and standard deviation for the following columns: `pigment_quantity`, and `product_quality_score`. </br> These statistics will help in understanding the central tendency and variability of the data related to product quality.\n",
    "</br> </br >\n",
    "Next, calculate the Pearson correlation coefficient between the following variables: `pigment_quantity`, and `product_quality_score`.\n",
    "</br>\n",
    "These correlation coefficients will provide insights into the strength and direction of the relationships between the factors and overall product quality.\n",
    "\n",
    "\n",
    "- You should start with the data in the file 'production_data.csv'.\n",
    "- Calculate the mean and standard deviation for the columns pigment_quantity and product_quality_score as: `product_quality_score_mean`, `product_quality_score_sd`, `pigment_quantity_mean`, `pigment_quantity_sd`.\n",
    "- Calculate the Pearson correlation coefficient between pigment_quantity and product_quality_score as: `corr_coef`\n",
    "- Your output should be a DataFrame named product_quality.\n",
    "- It should include the columns: `product_quality_score_mean`, `product_quality_score_sd`, `pigment_quantity_mean`, `pigment_quantity_sd`, `corr_coef`.\n",
    "- Ensure that your answers are rounded to 2 decimal places.\n"
   ]
  },
  {
   "cell_type": "code",
   "execution_count": null,
   "id": "eb9b11fd-07d5-4a39-b2fa-afaa69285e3b",
   "metadata": {
    "executionCancelledAt": null,
    "executionTime": 56,
    "lastExecutedAt": 1732735914044,
    "lastExecutedByKernel": "2219b603-d05a-4fcc-9666-eabdccfcbaa0",
    "lastScheduledRunId": null,
    "lastSuccessfullyExecutedCode": "# Write your answer to Task 4 here\n\ndf = pd.read_csv('production_data.csv')\n\nproduct_quality_score_mean = df['product_quality_score'].mean().round(2)\nproduct_quality_score_sd = df['product_quality_score'].std().round(2)\n\npigment_quantity_mean = df['pigment_quantity'].mean().round(2)\npigment_quantity_sd = df['pigment_quantity'].std().round(2)\n\ncorr_coef = df[['pigment_quantity', 'product_quality_score']].corr().iloc[0,1].round(2)\n\n\nproduct_quality = pd.DataFrame( \n                               {'product_quality_score_mean': [product_quality_score_mean], \n                                'product_quality_score_sd': [product_quality_score_sd], \n                                'pigment_quantity_mean':[pigment_quantity_mean], \n                                'pigment_quantity_sd':[pigment_quantity_sd], \n                                'corr_coef':[corr_coef] })\n\nproduct_quality = product_quality.round(2)\nproduct_quality",
    "outputsMetadata": {
     "0": {
      "height": 109,
      "type": "dataFrame"
     }
    }
   },
   "outputs": [],
   "source": [
    "# Write your answer to Task 4 here\n",
    "\n",
    "df = pd.read_csv('production_data.csv')\n",
    "\n",
    "product_quality_score_mean = df['product_quality_score'].mean().round(2)\n",
    "product_quality_score_sd = df['product_quality_score'].std().round(2)\n",
    "\n",
    "pigment_quantity_mean = df['pigment_quantity'].mean().round(2)\n",
    "pigment_quantity_sd = df['pigment_quantity'].std().round(2)\n",
    "\n",
    "corr_coef = df[['pigment_quantity', 'product_quality_score']].corr().iloc[0,1].round(2)\n",
    "\n",
    "\n",
    "product_quality = pd.DataFrame( \n",
    "                               {'product_quality_score_mean': [product_quality_score_mean], \n",
    "                                'product_quality_score_sd': [product_quality_score_sd], \n",
    "                                'pigment_quantity_mean':[pigment_quantity_mean], \n",
    "                                'pigment_quantity_sd':[pigment_quantity_sd], \n",
    "                                'corr_coef':[corr_coef] })\n",
    "\n",
    "product_quality = product_quality.round(2)\n",
    "product_quality"
   ]
  }
 ],
 "metadata": {
  "colab": {
   "name": "Welcome to DataCamp Workspaces.ipynb",
   "provenance": []
  },
  "editor": "DataLab",
  "kernelspec": {
   "display_name": ".venv",
   "language": "python",
   "name": "python3"
  },
  "language_info": {
   "codemirror_mode": {
    "name": "ipython",
    "version": 3
   },
   "file_extension": ".py",
   "mimetype": "text/x-python",
   "name": "python",
   "nbconvert_exporter": "python",
   "pygments_lexer": "ipython3",
   "version": "3.12.2"
  }
 },
 "nbformat": 4,
 "nbformat_minor": 5
}
