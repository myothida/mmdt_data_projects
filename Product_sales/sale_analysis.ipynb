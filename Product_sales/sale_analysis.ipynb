{
 "cells": [
  {
   "cell_type": "code",
   "execution_count": null,
   "metadata": {},
   "outputs": [],
   "source": [
    "import pandas as pd\n",
    "import seaborn as sns\n",
    "import matplotlib.pyplot as plt\n",
    "import numpy as np\n",
    "import geopandas as gpd\n"
   ]
  },
  {
   "cell_type": "markdown",
   "metadata": {},
   "source": [
    "**Business Questions:**\n",
    "- How many customers were there for each approach?\n",
    "- What does the spread of the revenue look like overall? And for each method?\n",
    "- Was there any difference in revenue over time for each of the methods?\n",
    "- Based on the data, which method would you recommend we continue to use? Some of these methods take more time from the team so they may not be the best for us to use if the results are similar.\n",
    "\n",
    "**Notes:** We don’t really know if there are other differences between the customers in each group, so anything you can tell us would be really helpful to give some context to what went well.\n",
    "\n",
    "**Data-set from the Sale Department.** \n",
    "The data only relates to the new products sold. As there are multiple different products, the revenue will vary depending on which products were sold.\n",
    "The data hasn't been validated. \n",
    "\n",
    "**Below are the details of the data-set.**\n",
    "\n",
    "| Column Name         | Details                                                                                      |\n",
    "|---------------------|----------------------------------------------------------------------------------------------|\n",
    "| week                | Week sale was made, counted as weeks since product launch                                    |\n",
    "| sales_method        | Character, which of the three sales methods were used for that customer                      |\n",
    "| customer_id         | Character, unique identifier for the customer                                                |\n",
    "| nb_sold             | Numeric, number of new products sold                                                         |\n",
    "| revenue             | Numeric, revenue from the sales, rounded to 2 decimal places                                 |\n",
    "| years_as_customer   | Numeric, number of years customer has been buying from us (company founded in 1984)          |\n",
    "| nb_site_visits      | Numeric, number of times the customer has visited our website in the last 6 months           |\n",
    "| state               | Character, location of the customer i.e., where orders are shipped                           |\n"
   ]
  },
  {
   "cell_type": "markdown",
   "metadata": {},
   "source": [
    "#### Data Cleaning Process\n",
    "\n",
    "#### 1. **Data Inspection**\n",
    "   - The dataset contains 15,000 entries and 8 columns.\n",
    "   - **Data types:** All data types appear correct. The \"week\" and \"state\" columns are of type `object`, while the remaining columns are numeric.\n",
    "   - **Null values:** `1,074` Null values were found in revenue colum, as verified using the `df.info()` `df.isnull().sum()`method.\n",
    "   \n",
    "   - **Solution:** Revenue depends on the type of product as well as the number of items sold. Since we do not have information about the product type, imputing missing values using the mean or median is not feasible, as it could oversimplify the data. Additionally, with only `1,074` `NaN` values (`544` out of `7,466` for the `email` method, `349` out of `4,982` for the `call` method, and `181` out of `2,572` for `email+call` method), I decided to remove the rows where revenue is missing, as this approach will not significantly impact the dataset size.\n",
    "\n",
    "   - **Data Entries Consistency:** Checking the sales method, it shows that entry names are not consistent. For instance, variations like `email`, `Email`, and `em` are used to indicate the `Email` sales method.\n",
    "   - **Solution:** Names are standardized. \n",
    "   \n",
    "   - **Outliers:** Checking the number of years as cusomers, it shows that there are 2 customers with 47 and 63. Since Pens and Printers was founded only in 1984, the maximum years of the customers can not be more than `40`. Hence, both numbers are replaced with `40`. \n",
    "\n",
    "   - **Data set:** The clean dataset contains 13,926 records and 8 columns. \n",
    "  \n",
    "\n",
    "#### 2. **Checking Duplicates**\n",
    "   - **Duplicates:** No duplicate rows were detected in the dataset, as verified by the `df.duplicated()` method.\n"
   ]
  },
  {
   "cell_type": "code",
   "execution_count": null,
   "metadata": {},
   "outputs": [],
   "source": [
    "# **Data Inspection**\n",
    "\n",
    "df = pd.read_csv('./data/product_sales.csv')\n",
    "#print(df.info())\n",
    "#print(df.describe())\n",
    "df['sales_method'].value_counts()\n",
    "df['sales_method'] = df['sales_method'].str.strip()\n",
    "df['sales_method'] = df['sales_method'].str.title()\n",
    "given_names = list(df['sales_method'].unique())\n",
    "df['sales_method'] = df['sales_method'].replace({given_names[3]: given_names[1]})\n",
    "\n",
    "df['years_as_customer'] = df['years_as_customer'].apply(lambda x: 40 if x>40 else x)\n",
    "with_null = df['sales_method'].value_counts()\n",
    "\n",
    "missing_revenues = df[df['revenue'].isnull()]['sales_method'].value_counts()\n",
    "\n",
    "\n",
    "color_code = {'Email + Call': '#FFD700', \"Call\": '#ADFF2F', \"Email\": '#32CD32'}\n",
    "custom_palette = list(color_code.values())\n",
    "\n",
    "with_null = with_null.reindex(color_code.keys())\n",
    "missing_revenues = missing_revenues.reindex(color_code.keys())\n",
    "\n",
    "plt.figure(figsize=(10, 6))\n",
    "plt.bar(with_null.index, with_null, color=custom_palette)\n",
    "plt.bar(missing_revenues.index, missing_revenues, bottom=with_null, label='Entries with Missing Revenue', color='lightcoral')\n",
    "\n",
    "plt.title('Sales Method Distribution: All Data vs. Missing Revenue')\n",
    "plt.xlabel('')\n",
    "plt.ylabel('Count')\n",
    "plt.legend()\n",
    "plt.show()\n",
    "\n"
   ]
  },
  {
   "cell_type": "markdown",
   "metadata": {},
   "source": [
    "#### 1. Customer Segmentation Analysis:\n",
    "- How many unique customers were there for each of the three sales methods? \n",
    "- Are there any significant differences in the number of customers for each sales method?\n",
    "\n",
    "- **Insights:** The email and call combination has the fewest customers, with 2,223—half the number of customers from calls alone. Email, the highest-engagement method, draws 2,000 more customers than calls, representing a 33% higher engagement than the call alone."
   ]
  },
  {
   "cell_type": "code",
   "execution_count": null,
   "metadata": {},
   "outputs": [],
   "source": [
    "df_clean = df.dropna(subset=['revenue'])\n",
    "print(df_clean.shape)\n",
    "df_clean.duplicated(subset='customer_id')\n",
    "df_customers = df_clean.drop_duplicates(subset='customer_id')\n",
    "print(df_customers.shape)\n",
    "cus_segmenation = df_customers['sales_method'].value_counts().reset_index()\n",
    "cus_segmenation = cus_segmenation.sort_values(by = \"count\")\n",
    "\n",
    "plt.figure(figsize=(10, 8))\n",
    "ax = sns.barplot(cus_segmenation, x=\"sales_method\", y=\"count\", errorbar=None, hue = \"sales_method\", palette = custom_palette)\n",
    "for k in range(len(ax.containers)):\n",
    "    ax.bar_label(ax.containers[k], fontsize=10)\n",
    "\n",
    "plt.title('Number of Unique Customers by Sales Methods', fontsize = 15)\n",
    "plt.xlabel('')\n",
    "plt.ylabel('Number of customers')\n",
    "plt.show()\n",
    "\n"
   ]
  },
  {
   "cell_type": "markdown",
   "metadata": {},
   "source": [
    "#### 2. Revenue Distribution Analysis:\n",
    "- What is the overall distribution of revenue for all customers, and how does it differ by sales method?\n",
    "- Are there any outliers in revenue for any sales method? \n",
    "- Based on the revenue data, which sales method generates the highest average revenue per customer?\n",
    "\n",
    "**Insights** \n",
    "- Overall, most of the sales are relatively low, with 75% of the sales having a revenue of 107 or less. The lowest sale is 32.54, and the highest sale is 238.\n",
    "- The `Email-only method` generates the highest total revenue, but the `Email and Call` combination produces the highest average revenue per customer at 183.65. The `Email-only` method has an average of 97.13, while `Call-only` has the lowest average at 47.60.\n",
    "- The `Email and Call` combination also shows the most variation in sales, but there are no extreme values. However, `Email` has 87 cases with unusually high sales, and `Call` has 12, though the overall range of sales remains relatively narrow for both.\n",
    "- Based on the revenue data, `Email and Call` combination method generates the **highest average revenue per customer**.  \n",
    "- In general, it can be assumed that the `Email and Call` method takes longer than both the `Email-only` and `Call-only` methods. However, given the significantly higher revenue it generates—**twice as much as the Email-only method** and nearly **four times as much as the Call-only method**—this method should be recommended"
   ]
  },
  {
   "cell_type": "code",
   "execution_count": null,
   "metadata": {},
   "outputs": [],
   "source": [
    "mean_revenue = df_clean['revenue'].mean()\n",
    "Q1 = df_clean['revenue'].quantile(0.25)\n",
    "Q3 = df_clean['revenue'].quantile(0.75)\n",
    "range_revenue = df_clean['revenue'].max() - df_clean['revenue'].min()\n",
    "\n",
    "plt.figure(figsize=(12, 6))\n",
    "sns.kdeplot(df_clean['revenue'], color='yellowgreen', linewidth=2)\n",
    "\n",
    "plt.axvline(mean_revenue, color='red', linestyle='--', linewidth=1.5, label=f'Average sale: {mean_revenue:.2f}')\n",
    "plt.axvline(Q1, color='blue', linestyle='--', linewidth=1.5, label=f'25% of sales has revenue lower than: {Q1:.2f}')\n",
    "plt.axvline(Q3, color='darkblue', linestyle='--', linewidth=1.5, label=f'75% of sales has revenue lower than: {Q3:.2f}')\n",
    "plt.axvline(df_clean['revenue'].min(), color='purple', linestyle='--', linewidth=1.5, label=f'Min: {df_clean['revenue'].min():.2f}')\n",
    "plt.axvline(df_clean['revenue'].max(), color='purple', linestyle='--', linewidth=1.5, label=f'Max: {df_clean['revenue'].max():.2f}')\n",
    "\n",
    "plt.title('Total Revenue Distribution', fontsize=15)\n",
    "plt.xlabel('Revenue')\n",
    "plt.ylabel('Density')\n",
    "plt.legend(loc='upper right', bbox_to_anchor=(0.85,0.95))\n",
    "plt.tight_layout()\n",
    "plt.show()\n"
   ]
  },
  {
   "cell_type": "code",
   "execution_count": null,
   "metadata": {},
   "outputs": [],
   "source": [
    "ordered_methods = color_code.keys()\n",
    "\n",
    "df_total_revenue = df_clean.groupby('sales_method')['revenue'].sum().reindex(ordered_methods)\n",
    "plt.figure(figsize=(10, 8))\n",
    "df_total_revenue.plot(kind='bar', color=custom_palette)\n",
    "plt.title('Total Revenue by Sales Method')\n",
    "plt.xlabel('Sales Method')\n",
    "plt.ylabel('Revenue')\n",
    "plt.show()"
   ]
  },
  {
   "cell_type": "code",
   "execution_count": null,
   "metadata": {},
   "outputs": [],
   "source": [
    "\n",
    "outliers_dict = {}\n",
    "rpc_dict = {}\n",
    "for method in ordered_methods:\n",
    "    data = df_clean[df_clean['sales_method']==method]['revenue']\n",
    "    lower_bound = data.quantile(0.25) - 1.5*(data.quantile(0.75) - data.quantile(0.25))\n",
    "    uppper_bound = data.quantile(0.75) + 1.5*(data.quantile(0.75) - data.quantile(0.25))\n",
    "    outliers = data[(data < lower_bound) | (data > uppper_bound)]\n",
    "    outliers_dict[method] = len(outliers)\n",
    "    rpc_dict[method] = data.mean()\n",
    "\n",
    "print(outliers_dict)\n",
    "\n",
    "means = df_clean.groupby('sales_method', observed=False)['revenue'].mean()\n",
    "plt.figure(figsize=(12, 8))\n",
    "ax = sns.boxplot(data=df_clean, x='sales_method', y='revenue', hue = 'sales_method', order = ordered_methods, palette = custom_palette, \n",
    "            showmeans=True, meanprops={\"marker\":\"o\",\"markerfacecolor\":\"white\", \"markeredgecolor\":\"black\"})\n",
    "for i, method in enumerate(ordered_methods):\n",
    "    ax.text(i, means[method]-6, f'{means[method]:.2f}', color='black', ha='center', fontsize=10)\n",
    "plt.title('Revenue Distribution by Sales Method', fontsize=15)\n",
    "plt.xlabel('')\n",
    "plt.ylabel('Revenue Distribution')\n",
    "plt.title('Revenue Distribution by Sales Method')\n",
    "plt.show()"
   ]
  },
  {
   "cell_type": "markdown",
   "metadata": {},
   "source": [
    "#### 3. Revenue Trend Over Time:\n",
    "- How does the revenue trend change over time for each of the sales methods? \n",
    "- Are there any noticeable patterns or fluctuations in revenue based on the week the sale was made?\n",
    "- Does the revenue for a particular sales method increase or decrease as time progresses (i.e., week-on-week comparison)?\n",
    "\n",
    "**Insights** - Sales increase over time, with a slight downturn observed in week 3 after the product launch, followed by a rise in week 4. The `Email+Call` combination shows a steeper upward trend after week 4 compared to the other two methods."
   ]
  },
  {
   "cell_type": "code",
   "execution_count": null,
   "metadata": {},
   "outputs": [],
   "source": [
    "plt.figure(figsize=(12, 8))\n",
    "sns.lineplot(data=df_clean, x='week', y='revenue', hue='sales_method', marker = 's', palette=custom_palette)\n",
    "plt.title('Revenue Trend by Sales Method', fontsize=15)\n",
    "plt.xlabel('Week since the product launch')\n",
    "plt.ylabel('Average Revenue')\n",
    "plt.show()"
   ]
  },
  {
   "cell_type": "markdown",
   "metadata": {},
   "source": [
    "#### 4. Customer Behavior Insights:\n",
    "- Are there any significant differences in revenue for customers who have been buying from us for many years compared to newer customers? \n",
    "- How do customer behaviors such as the number of site visits or years as a customer influence the revenue?\n",
    "- Is there a correlation between the number of site visits and the revenue generated by customers?\n",
    "\n",
    "**Insights**\n",
    "- There is **no significant differences** in revenue between long-time customers and newer customers. \n",
    "- However, the number of site visits does influence revenue, with a notable impact only when site visits **exceed 30**.\n",
    "- The `Email and Call` combination method generates the **highest average revenue per customer** within each engagement level. "
   ]
  },
  {
   "cell_type": "code",
   "execution_count": null,
   "metadata": {},
   "outputs": [],
   "source": [
    "bins = [0, 5, 10, df_clean['years_as_customer'].max()]\n",
    "labels = ['Less than 5 years', 'Regular: 5–10 years', 'Loyal: 10+ years']\n",
    "df_clean.loc[:,'customer_type'] = pd.cut(df_clean['years_as_customer'], bins=bins, labels=labels, right=False)\n",
    "\n",
    "bins = [0, 20, 30, df_clean['nb_site_visits'].max()]\n",
    "labels = ['Low: less than 20 visits', 'Moderate: between 20 and 30 visits', 'High: more than 30 visits']\n",
    "df_clean.loc[:,'engagement_level'] = pd.cut(df_clean['nb_site_visits'], bins=bins, labels=labels, right=False)\n",
    "df_clean.loc[:,'engagement_level'] = df_clean['engagement_level'].astype('category')\n"
   ]
  },
  {
   "cell_type": "code",
   "execution_count": null,
   "metadata": {},
   "outputs": [],
   "source": [
    "plt.figure(figsize=(12, 8))\n",
    "sns.boxplot(data=df_clean, x='customer_type', y='revenue', hue='customer_type', palette=custom_palette)\n",
    "plt.title('Revenue vs. Years as Customer', fontsize=15)\n",
    "plt.xlabel('Years as Customer')\n",
    "plt.ylabel('Revenue')\n",
    "plt.legend(title='Customer Type', loc='upper right', bbox_to_anchor = (1.22,0.95))\n",
    "plt.show()\n",
    "\n",
    "plt.figure(figsize=(12, 8))\n",
    "sns.boxplot(data=df_clean, x='engagement_level', y='revenue', hue='engagement_level', palette=custom_palette)\n",
    "plt.title('Revenue vs. Years as Customer', fontsize=15)\n",
    "plt.xlabel('Engagement Level')\n",
    "plt.ylabel('Revenue')\n",
    "plt.legend(title='Engagement Level')\n",
    "plt.show()"
   ]
  },
  {
   "cell_type": "code",
   "execution_count": null,
   "metadata": {},
   "outputs": [],
   "source": [
    "plt.figure(figsize=(12, 8))\n",
    "sns.heatmap(df_clean.groupby(['engagement_level', 'sales_method'], observed = True)['revenue'].mean().unstack(), cmap='viridis', annot=True, fmt='.2f')\n",
    "plt.title('Average Revenue by Engagement Level and Sales Method', fontsize=15)\n",
    "plt.xlabel('')\n",
    "plt.ylabel('')\n",
    "plt.show()"
   ]
  },
  {
   "cell_type": "markdown",
   "metadata": {},
   "source": [
    "#### 5. Geographical Differences:\n",
    "- Do different states show significant differences in revenue or sales methods?\n",
    "- Are there particular regions (states) where one sales method is more effective than others?\n",
    "\n",
    "**Insights**\n",
    "- `California` (CA) leads in total revenue with $161,040.89, followed by `Texas` (TX) and New York (NY). This trend correlates with the large number of customers—1,739 in `California`, 1,109 in `Texas`, and 899 in New York—as well as higher engagement (e.g., site visits). The higher revenue and site visits suggest that these states are major markets.\n",
    "- States like North and South Dakota, along with Delaware, have smaller customer bases (less than 100 customers) but exhibit higher revenue per customer, with North Dakota leading at $104.75 and South Dakota at $104.07. This indicates that customers in these states spend more on average, suggesting these high-value markets have significant growth potential if their customer bases can be expanded.\n",
    "- `North` and `South` Dakota have the highest average revenue per customer, at $104.75 and $104.07, respectively, indicating that customers in these states spend more on average than those in other states.\n",
    "- While `California` and  `Texas` generate higher total revenue, states like `North` and `South` Dakota have more lucrative customers on a per-customer basis.\n",
    "\n",
    "- States like '`Dakota`' and `Delaware` have a smaller customer base (less than 100) but show a higher revenue per customer, indicating potential for further growth if the customer base could be expanded in these high-value markets.\n",
    "\n",
    "\n",
    "- Most states have a **similar average site visit per customer** (around 25 visits), suggesting a consistent level of engagement across different regions. `Targeting states with high average revenue per customer` for specific growth strategies could increase profitability.\n",
    "\n",
    "-Further analysis of the 15 states with the highest revenue reveals that the highest revenue figures are linked to the Email-only sales method, with `California` generating the highest revenue at $83,163.31. The `Email + Call` method shows strong performance in certain states, such as `California` ($48,133.97) and `Texas` ($34,823.26), but it does not reach the same revenue levels as the Email-only method. In terms of revenue per customer, the `Email + Call method` yields the highest return.\n"
   ]
  },
  {
   "cell_type": "markdown",
   "metadata": {},
   "source": [
    "**Data Source** https://www.weather.gov/gis/USStates\n",
    "\n",
    "**Shapefile Attributes**\n",
    "\n",
    "| Field Name | Type       | Width, Dec | Description                      |\n",
    "|------------|------------|------------|----------------------------------|\n",
    "| STATE      | character  | 2          | State abbrev [aa]                |\n",
    "| NAME       | character  | 24         | State name                       |\n",
    "| FIPS       | character  | 2          | State FIPS Code [ss]             |\n",
    "| LON        | numeric    | 10,5       | Longitude of centroid [decimal degrees] |\n",
    "| LAT        | numeric    | 9,5        | Latitude of centroid [decimal degrees]  |\n",
    "\n",
    "\n"
   ]
  },
  {
   "cell_type": "code",
   "execution_count": null,
   "metadata": {},
   "outputs": [],
   "source": [
    "url = \"./data/s_05mr24/s_05mr24.shp\"\n",
    "us_states = gpd.read_file(url)\n",
    "us_states = us_states.to_crs(epsg=4326)\n",
    "us_states = us_states[['STATE', 'NAME', 'geometry']]\n",
    "\n",
    "df_states_revenue = df_clean.groupby('state', observed = True)[['revenue', 'nb_site_visits']].agg(revenue_sum=('revenue', 'sum'),\n",
    "    revenue_mean=('revenue', 'mean'),\n",
    "    visits_sum=('nb_site_visits', 'sum'),\n",
    "    visits_mean=('nb_site_visits', 'mean'),\n",
    "    num_of_customers =('revenue', 'size')).reset_index()\n",
    "df_states_map = pd.merge(us_states, df_states_revenue, left_on='NAME', right_on='state', how='inner')"
   ]
  },
  {
   "cell_type": "code",
   "execution_count": null,
   "metadata": {},
   "outputs": [],
   "source": [
    "df_islands = df_states_map[df_states_map['STATE'].isin(['AK', 'HI', 'AS', 'GU', 'MP', 'VI', 'FM', 'MH', 'PW'])]\n",
    "df_islands"
   ]
  },
  {
   "cell_type": "code",
   "execution_count": null,
   "metadata": {},
   "outputs": [],
   "source": [
    "mainland_us_states = df_states_map[~df_states_map['STATE'].isin(['AK', 'HI', 'AS', 'GU', 'MP', 'VI', 'FM', 'MH', 'PW'])]\n",
    "top_15_states = df_states_map.sort_values(by=\"revenue_sum\", ascending=False).head(15)\n",
    "top_15_states"
   ]
  },
  {
   "cell_type": "code",
   "execution_count": null,
   "metadata": {},
   "outputs": [],
   "source": [
    "top_15_states_avg = df_states_map.sort_values(by=\"revenue_mean\", ascending=False).head(15)\n",
    "top_15_states_avg"
   ]
  },
  {
   "cell_type": "code",
   "execution_count": null,
   "metadata": {},
   "outputs": [],
   "source": [
    "# Plot the mainland US states\n",
    "\n",
    "fig, ax = plt.subplots(figsize=(12, 6))\n",
    "mainland_us_states.plot(column = 'revenue_sum', ax=ax,  legend=True, \n",
    "               legend_kwds={'label': \"Total Revenue by State\", \n",
    "                            'orientation': \"horizontal\"},\n",
    "               cmap='coolwarm')\n",
    "plt.title('Revenue Distribution across United States')\n",
    "for x, y, label in zip(top_15_states.geometry.centroid.x, top_15_states.geometry.centroid.y, top_15_states['revenue_sum']):\n",
    "    ax.text(x, y, f\"{int(label):,}\" if label>5 else '', fontsize=8, ha='center', color='black')\n",
    "plt.show()\n",
    "\n"
   ]
  },
  {
   "cell_type": "code",
   "execution_count": null,
   "metadata": {},
   "outputs": [],
   "source": [
    "# Plot the mainland US states\n",
    "\n",
    "fig, ax = plt.subplots(figsize=(10, 6))\n",
    "mainland_us_states.plot(column = 'revenue_mean', ax=ax,  legend=True, \n",
    "               legend_kwds={'label': \"Average Revenue per Cusomter by State\", \n",
    "                            'orientation': \"horizontal\"},\n",
    "               cmap='coolwarm')\n",
    "plt.title('Spending Per Customer accross states')\n",
    "for x, y, label in zip(mainland_us_states.geometry.centroid.x, mainland_us_states.geometry.centroid.y, mainland_us_states['revenue_mean']):\n",
    "    ax.text(x, y, f\"{int(label):,}\" if label>5 else '', fontsize=8, ha='center', color='black')\n",
    "plt.show()\n",
    "\n",
    "# Show the map\n",
    "plt.show()"
   ]
  },
  {
   "cell_type": "code",
   "execution_count": null,
   "metadata": {},
   "outputs": [],
   "source": [
    "top_15_states_list = list(top_15_states['NAME'].unique())\n",
    "df_top_15_states = df_clean[df_clean['state'].isin(top_15_states_list)]\n",
    "\n",
    "top_15_states_sales = df_top_15_states.groupby(['state', 'sales_method'])['revenue'].agg(total = 'sum', average = 'mean').reset_index()\n",
    "top_15_states_sales = top_15_states_sales.sort_values(by='total', ascending = False)\n",
    "#top_15_states_sales['sales_method'] = pd.Categorical(top_15_states_sales['sales_method'],categories= color_code.keys(), ordered=True)\n",
    "sales_method_order = top_15_states_sales['sales_method'].unique()\n",
    "colr_order = [color_code[method] for method in sales_method_order]\n",
    "\n",
    "plt.figure(figsize = (20,6))\n",
    "sns.barplot(data = top_15_states_sales, x = 'state', hue = 'sales_method', y = 'total', errorbar=None,palette=colr_order)\n",
    "plt.legend(loc='upper right', bbox_to_anchor=(1.12,0.95))\n",
    "plt.title(\"Total revenue per sales method in Top 15 stats that have highest revenue\")\n",
    "plt.show()\n",
    "\n",
    "\n",
    "top_15_states_sales = top_15_states_sales.sort_values(by='average', ascending = False)\n",
    "sales_method_order = top_15_states_sales['sales_method'].unique()\n",
    "colr_order = [color_code[method] for method in sales_method_order]\n",
    "plt.figure(figsize = (20,6))\n",
    "sns.barplot(data = top_15_states_sales, x = 'state', hue = 'sales_method', y = 'average', errorbar=None,palette=colr_order)\n",
    "plt.legend(loc='upper right', bbox_to_anchor=(1.12,0.95))\n",
    "plt.title(\"Average revenue per customer per sales method in Top 15 stats that have highest revenue\")\n",
    "plt.show()\n",
    "\n",
    "\n"
   ]
  },
  {
   "cell_type": "code",
   "execution_count": null,
   "metadata": {},
   "outputs": [],
   "source": [
    "top_15_states_sales = df_top_15_states.groupby(['state', 'sales_method'])['revenue'].agg(total = 'sum', average = 'mean').reset_index()"
   ]
  },
  {
   "cell_type": "markdown",
   "metadata": {},
   "source": [
    "#### 7. Proposed Metric for Business Monitoring\n",
    "\n",
    "**Metric**: Revenue Per Customer (RPC) by Sales Method\n",
    "\n",
    "**Description**: This metric calculates the average revenue generated by each customer for each sales method. It helps evaluate the profitability and effectiveness of different sales strategies (e.g., Email-only, Call-only, and Email + Call) by measuring how much revenue each customer brings in on average.\n",
    "\n",
    "**How the Business Should Use the Metric to Monitor the Business Problem**:\n",
    "\n",
    "- **Track Sales Effectiveness**: By calculating RPC for each sales method, the business can identify which method provides the highest return per customer. For instance, if the RPC for the Email + Call combination is significantly higher than that of other methods, the business can prioritize or optimize this method.\n",
    "- **Assess Profitability**: RPC allows the business to evaluate the profitability of each customer segment depending on the sales method. If one method yields a higher RPC, it suggests that customers engaged through this method are more valuable, justifying further investment in optimizing or scaling that method.\n",
    "- **Evaluate Growth Strategies**: If the business is targeting regions or customer segments with lower RPC, they can design tailored strategies to increase the revenue per customer in these areas. For example, if North Dakota shows a higher RPC but has a smaller customer base, efforts could be focused on expanding this customer base to further increase revenue.\n",
    "- **Monitor Long-Term Trends**: By tracking RPC over time, businesses can identify shifts in customer behavior. If the RPC decreases, it may indicate that customer engagement is declining, or the business may need to refine its sales strategies.\n",
    "\n",
    "**Estimate Initial Value(s) for the Metric Based on Current Data**:\n",
    "- RPC (Email + Call) = 183.65\n",
    "- RPC (Email-only) = 97.13\n",
    "- RPC (Call-only) = 47.60\n",
    "\n",
    "**Insights and Actionable Recommendations**:\n",
    "- **Highest RPC**: The Email + Call combination method has the highest revenue per customer, making it the most profitable engagement method.\n",
    "- **Targeted Strategy**: The business should focus on increasing the customer base for the Email + Call method, as it shows higher profitability compared to the other methods.\n",
    "- **Scalability**: While the Email-only and Call-only methods generate significant revenue, the Email + Call method has the highest potential for profitability per customer. Efforts should be made to scale this method through marketing campaigns or by refining the process.\n",
    "\n"
   ]
  }
 ],
 "metadata": {
  "kernelspec": {
   "display_name": ".venv",
   "language": "python",
   "name": "python3"
  },
  "language_info": {
   "codemirror_mode": {
    "name": "ipython",
    "version": 3
   },
   "file_extension": ".py",
   "mimetype": "text/x-python",
   "name": "python",
   "nbconvert_exporter": "python",
   "pygments_lexer": "ipython3",
   "version": "3.12.2"
  }
 },
 "nbformat": 4,
 "nbformat_minor": 2
}
