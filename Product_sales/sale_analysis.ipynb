{
 "cells": [
  {
   "cell_type": "code",
   "execution_count": 7,
   "metadata": {},
   "outputs": [],
   "source": [
    "import pandas as pd\n",
    "import seaborn as sns\n",
    "import matplotlib.pyplot as plt\n",
    "import numpy as np\n",
    "import geopandas as gpd\n",
    "import matplotlib.pyplot as plt\n",
    "import pandas as pd\n",
    "\n",
    "df = pd.read_csv('product_sales.csv')"
   ]
  },
  {
   "cell_type": "code",
   "execution_count": 15,
   "metadata": {},
   "outputs": [
    {
     "data": {
      "text/html": [
       "<div>\n",
       "<style scoped>\n",
       "    .dataframe tbody tr th:only-of-type {\n",
       "        vertical-align: middle;\n",
       "    }\n",
       "\n",
       "    .dataframe tbody tr th {\n",
       "        vertical-align: top;\n",
       "    }\n",
       "\n",
       "    .dataframe thead th {\n",
       "        text-align: right;\n",
       "    }\n",
       "</style>\n",
       "<table border=\"1\" class=\"dataframe\">\n",
       "  <thead>\n",
       "    <tr style=\"text-align: right;\">\n",
       "      <th></th>\n",
       "      <th>geometry</th>\n",
       "      <th>Country</th>\n",
       "    </tr>\n",
       "  </thead>\n",
       "  <tbody>\n",
       "    <tr>\n",
       "      <th>154</th>\n",
       "      <td>MULTIPOLYGON (((-122.75302 48.99251, -122.6532...</td>\n",
       "      <td>United States of America</td>\n",
       "    </tr>\n",
       "  </tbody>\n",
       "</table>\n",
       "</div>"
      ],
      "text/plain": [
       "                                              geometry  \\\n",
       "154  MULTIPOLYGON (((-122.75302 48.99251, -122.6532...   \n",
       "\n",
       "                      Country  \n",
       "154  United States of America  "
      ]
     },
     "execution_count": 15,
     "metadata": {},
     "output_type": "execute_result"
    }
   ],
   "source": [
    "url = \"./data/ne_10m_admin_0_countries.shp\"\n",
    "world = gpd.read_file(url)\n",
    "world = world[['geometry', 'NAME']].copy()\n",
    "world.rename(columns={'NAME': 'Country'}, inplace=True)\n",
    "df_us = world[world['Country'] == 'United States of America']\n",
    "df_us\n"
   ]
  },
  {
   "cell_type": "code",
   "execution_count": null,
   "metadata": {},
   "outputs": [],
   "source": [
    "df_us = pd.merge(world, df_country, on = \"Country\", how='inner')"
   ]
  },
  {
   "cell_type": "code",
   "execution_count": null,
   "metadata": {},
   "outputs": [],
   "source": [
    "fig, ax = plt.subplots(1, 1, figsize=(18, 12))\n",
    "nobel_map.plot(column='Number_of_Prizes', ax=ax, legend=True, \n",
    "               legend_kwds={'label': \"Number of Nobel Prize Winners by Country\", \n",
    "                            'orientation': \"horizontal\"},\n",
    "               cmap='coolwarm')\n",
    "ax.set_title(\"Nobel Prize Winners Around the Globe\")\n",
    "for x, y, label in zip(nobel_map.geometry.centroid.x, nobel_map.geometry.centroid.y, nobel_map['Number_of_Prizes']):\n",
    "    ax.text(x, y, str(int(label)) if label>5 else '', fontsize=10, ha='center', color='black')\n",
    "plt.show()"
   ]
  }
 ],
 "metadata": {
  "kernelspec": {
   "display_name": ".venv",
   "language": "python",
   "name": "python3"
  },
  "language_info": {
   "codemirror_mode": {
    "name": "ipython",
    "version": 3
   },
   "file_extension": ".py",
   "mimetype": "text/x-python",
   "name": "python",
   "nbconvert_exporter": "python",
   "pygments_lexer": "ipython3",
   "version": "3.12.2"
  }
 },
 "nbformat": 4,
 "nbformat_minor": 2
}
