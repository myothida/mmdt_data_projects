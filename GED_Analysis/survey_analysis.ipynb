{
 "cells": [
  {
   "cell_type": "markdown",
   "metadata": {},
   "source": [
    "## Project 03: Feedback and Satisfaction Survey Analysis\n",
    "### Description\n",
    "This project will analyze participant feedback from surveys to enhance future training sessions and understand the participants’ experiences better.\n",
    "\n",
    "### Data Points\n",
    "- Satisfaction scores on various aspects of the program (content, teaching methods, etc.)\n",
    "- Qualitative feedback from open-ended survey questions\n",
    "- Suggestions for improvement\n",
    "### Methodology\n",
    "- Administer satisfaction surveys to all participants at the end of the training.\n",
    "- Perform quantitative analysis of satisfaction scores and conduct sentiment analysis on qualitative feedback.\n",
    "- Identify common themes and suggestions for program improvement.\n",
    "### Expected Outcomes\n",
    "- Comprehensive understanding of participants' satisfaction with the program.\n",
    "- Actionable recommendations for enhancing future GED training sessions.\n",
    "- Increased participant engagement through responsive program adjustments."
   ]
  },
  {
   "cell_type": "code",
   "execution_count": null,
   "metadata": {},
   "outputs": [],
   "source": [
    "import pandas as pd\n",
    "import matplotlib.pyplot as plt\n",
    "import seaborn as sns\n",
    "from ged_module import *"
   ]
  },
  {
   "cell_type": "code",
   "execution_count": null,
   "metadata": {},
   "outputs": [],
   "source": [
    "df = pd.read_csv('./data/survey.csv', index_col = 0)\n",
    "df.head()"
   ]
  },
  {
   "cell_type": "code",
   "execution_count": null,
   "metadata": {},
   "outputs": [],
   "source": [
    "col_name = 'Online_Learning_Difficulty'\n",
    "ylabels = ['Internet Instablity', 'Electricity Instablity', 'Device-Computer Issue', 'Noisy Environment', 'Other']\n",
    "df_temp = df[[col_name]].copy()\n",
    "df_temp[col_name] = df_temp[col_name].str.split(',')\n",
    "df_exploded = df_temp.explode(col_name)\n",
    "df_exploded[col_name] = df_exploded[col_name].str.strip().str.title()\n",
    "print(df_temp.shape, df_exploded.shape)\n",
    "d_counts = df_exploded[col_name].value_counts()\n",
    "d_more_than_once = list(d_counts[d_counts > 1].index)\n",
    "df_exploded[col_name]  = df_exploded[col_name].apply(lambda x: x.title() if x in d_more_than_once else 'Other')\n",
    "order = df_exploded[col_name].value_counts().index\n",
    "\n",
    "\n",
    "plt.figure(figsize = (12,6))\n",
    "ax = sns.countplot(data=df_exploded, y=col_name, order=order, edgecolor='black', orient = 'h', color='#4682B4')\n",
    "for container in ax.containers:\n",
    "    ax.bar_label(container, label_type = 'edge', fontsize = 12, padding = 5)\n",
    "plt.title(\"Challenges that Hinders Learning\", fontsize = 15)\n",
    "plt.yticks(ticks = range(len(ylabels)), labels = ylabels)\n",
    "plt.ylabel(\"\")\n",
    "plt.xlabel('Number of Responses', fontsize = 12)\n",
    "plt.show()"
   ]
  },
  {
   "cell_type": "code",
   "execution_count": null,
   "metadata": {},
   "outputs": [],
   "source": [
    "col_name = 'Training_Likes_Category'\n",
    "\n",
    "df_temp = df[[col_name]].copy()\n",
    "df_temp[col_name] = df_temp[col_name].str.split(',')\n",
    "df_exploded = df_temp.explode(col_name)\n",
    "df_exploded[col_name] = df_exploded[col_name].str.strip().str.title()\n",
    "print(df_temp.shape, df_exploded.shape)\n",
    "d_counts = df_exploded[col_name].value_counts()\n",
    "d_more_than_once = list(d_counts[d_counts > 1].index)\n",
    "df_exploded[col_name]  = df_exploded[col_name].apply(lambda x: x.title() if x in d_more_than_once else 'Other')\n",
    "df_exploded[col_name]  = df_exploded[col_name].apply(lambda x: x.upper() if x==\"Lms\" else x)\n",
    "order = df_exploded[col_name].value_counts().index\n",
    "\n",
    "plt.figure(figsize = (12,6))\n",
    "ax = sns.countplot(data=df_exploded, y=col_name, order=order, edgecolor='black', orient = 'h', color='yellowgreen')\n",
    "for container in ax.containers:\n",
    "    ax.bar_label(container, label_type = 'edge', fontsize = 12, padding = 5)\n",
    "plt.title(\"Favourite Training Aspects\")\n",
    "plt.yticks(ticks = range(len(order)), labels = order)\n",
    "plt.ylabel(\"\")\n",
    "plt.xlabel('Number of Responses', fontsize = 12)\n",
    "plt.show()"
   ]
  },
  {
   "cell_type": "code",
   "execution_count": null,
   "metadata": {},
   "outputs": [],
   "source": [
    "col_name = 'Top_GED_Contributors_List'\n",
    "df_exploded = split_category(df,col_name, 'Top_GED_Contributors')\n",
    "order = df_exploded[col_name].value_counts().index\n",
    "plt.figure(figsize = (12,6))\n",
    "ax1 = sns.countplot(data=df_exploded, y=col_name, hue= col_name, palette='Set2', order=order, edgecolor='black')\n",
    "for container in ax1.containers:\n",
    "    ax1.bar_label(container, label_type = 'edge', fontsize = 12, padding = 5)\n",
    "plt.title(\"Factors Contributing to Students' Improvement\")\n",
    "plt.xlabel('Number of Responses')\n",
    "plt.ylabel('')\n",
    "plt.show()"
   ]
  },
  {
   "cell_type": "code",
   "execution_count": null,
   "metadata": {},
   "outputs": [],
   "source": [
    "plot_each_subjects_analysis('Factors Related to Mathematics', df, 'Math_Teaching_Effectiveness', 'Math_Time_Sufficient', 'Math_Content_Satisfaction', 'Math_Skills_Improved', '#6AAD97')\n",
    "plot_each_subjects_analysis('Factors Related to Social Studies', df, 'SS_Teaching_Effectiveness', 'SS_Time_Sufficient', 'SS_Content_Satisfaction', 'SS_Skills_Improved', '#E18B6A')\n",
    "plot_each_subjects_analysis('Factors Related to RLA', df, 'RLA_Teaching_Effectiveness', 'RLA_Time_Sufficient', 'RLA_Content_Satisfaction', 'RLA_Skills_Improved', '#8D97BB')\n",
    "plot_each_subjects_analysis('Factors Related to Science', df, 'Science_Teaching_Effectiveness', 'Science_Time_Sufficient', 'Science_Content_Satisfaction', 'Science_Skills_Improved', '#D48BB8')"
   ]
  },
  {
   "cell_type": "code",
   "execution_count": null,
   "metadata": {},
   "outputs": [],
   "source": [
    "col_name = 'GED_Improvement_Recommendations_List'\n",
    "df_exploded = split_category(df, 'GED_Improvement_Recommendations_List', 'GED_Improvement_Recommendations')\n",
    "order = df_exploded[col_name].value_counts().index\n",
    "\n",
    "plt.figure(figsize = (12,6))\n",
    "ax = sns.countplot(data=df_exploded, y=col_name,hue = col_name, palette='Set2', order=order, edgecolor='black')\n",
    "for container in ax.containers:\n",
    "    ax.bar_label(container, label_type = 'edge', fontsize = 12, padding = 5)\n",
    "\n",
    "plt.title(\"Sugesstions for Improvement\")\n",
    "plt.xlabel('Number of Responses')\n",
    "plt.ylabel('')\n",
    "plt.show()\n"
   ]
  }
 ],
 "metadata": {
  "kernelspec": {
   "display_name": ".venv",
   "language": "python",
   "name": "python3"
  },
  "language_info": {
   "codemirror_mode": {
    "name": "ipython",
    "version": 3
   },
   "file_extension": ".py",
   "mimetype": "text/x-python",
   "name": "python",
   "nbconvert_exporter": "python",
   "pygments_lexer": "ipython3",
   "version": "3.13.1"
  }
 },
 "nbformat": 4,
 "nbformat_minor": 2
}
