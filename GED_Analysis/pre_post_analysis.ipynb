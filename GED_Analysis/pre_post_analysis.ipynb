{
 "cells": [
  {
   "cell_type": "markdown",
   "metadata": {},
   "source": [
    "### Project 02: Post-Training Knowledge Assessment\n",
    "#### Description\n",
    "This project aims to evaluate the knowledge and skills acquired by GED students following the completion of the training program. . By analyzing both pre-training (entrance scores) and post-training assessment data, we can evaluate the effectiveness of the program in enhancing students' academic abilities and their readiness for the GED exam. Comparing pre- and post-training data will provide insights into individual student growth and the overall impact of the program.\n",
    "\n",
    "#### Data Points\n",
    "- Pre-training (entrance) scores\n",
    "- Post-training assessment scores\n",
    "- Subject areas covered (math, science, RLA, Social Studies.)\n",
    "- Student feedback on perceived knowledge gained\n",
    "- Attendance and participation rates\n",
    "#### Methodology\n",
    "- Administer post-training assessments to measure knowledge acquisition after completing the program.\n",
    "- Collect quantitative/qualitative feedback from students regarding their perceived improvements in knowledge and skills.\n",
    "- Compare pre- and post-training scores to assess individual and group progress across different subject areas.\n",
    "- Identify patterns in knowledge growth, and correlate those with attendance, participation rates, and student feedback.\n",
    "- Use visualizations to present the findings, highlighting any correlations between attendance, participation, and assessment scores.\n",
    "#### Expected Outcomes\n",
    "- Comprehensive understanding of knowledge gained by participants, measured by improvements from pre- to post-training.\n",
    "- Insights into subject areas where students showed significant improvement or encountered challenges.\n",
    "- Identification of correlations between attendance/participation and academic performance.\n",
    "- Recommendations for program enhancements based on assessment results and student feedback to improve future training sessions."
   ]
  },
  {
   "cell_type": "code",
   "execution_count": null,
   "metadata": {},
   "outputs": [],
   "source": [
    "import pandas as pd\n",
    "import matplotlib.pyplot as plt\n",
    "import seaborn as sns"
   ]
  },
  {
   "cell_type": "code",
   "execution_count": null,
   "metadata": {},
   "outputs": [],
   "source": [
    "df = pd.read_csv('./data/pre_post_data_02.csv', index_col = 0)\n",
    "df_copy = df.drop([col for col in df.columns if 'avg' in col], axis = 1)\n",
    "df_copy = df_copy.rename(columns = {'n_math_test1':'math_test1'}).sort_index(axis=1)\n",
    "df_copy.head()"
   ]
  },
  {
   "cell_type": "code",
   "execution_count": null,
   "metadata": {},
   "outputs": [],
   "source": [
    "sub_list = ['math', 'ss', 'rla', 'sci']\n",
    "for sub in sub_list:\n",
    "    data_cols = [col for col in df_copy.columns if sub in col]\n",
    "    data = df_copy[data_cols].copy()\n",
    "    medians = data.median()\n",
    "    plt.figure(figsize = (12,6))\n",
    "    ax =sns.boxplot(data=data)\n",
    "    for xtick, median in zip(ax.get_xticks(), medians):\n",
    "        ax.text(xtick, median + 0.1, f'{median:.2f}', horizontalalignment='center', color='black', weight='bold')    \n",
    "    plt.show()"
   ]
  },
  {
   "cell_type": "markdown",
   "metadata": {},
   "source": [
    "**Insights** The students performed consistently well in their module-end tests. However, we cannot conclusively determine the relationship between pre- and post-training improvements, as these tests are based on module-specific content. Additionally, the students' pre-test does not accurately reflect their knowledge of the GED material; it only measures whether the students are ready for the GED program."
   ]
  },
  {
   "cell_type": "code",
   "execution_count": null,
   "metadata": {},
   "outputs": [],
   "source": [
    "df_avg = df[[col for col in df.columns if 'avg' in col]].copy()\n",
    "df_avg = pd.merge(df_avg, df[['Pre_Math', 'Pre_Eng']], left_index = True, right_index = True)\n",
    "cor_matrix = df_avg.corr().iloc[4:6, 0:4]\n",
    "cor_matrix"
   ]
  },
  {
   "cell_type": "code",
   "execution_count": null,
   "metadata": {},
   "outputs": [],
   "source": [
    "plt.figure(figsize = (8,6))\n",
    "sns.heatmap(cor_matrix, cmap='viridis', annot=True, fmt='.2f')\n",
    "plt.show()"
   ]
  },
  {
   "cell_type": "markdown",
   "metadata": {},
   "source": [
    "**Insights**\n",
    "- Given that Pre_Eng has a moderate positive correlation with subjects like **RLA and Social Studies**, students' English proficiency helps them perform better during the training. \n"
   ]
  },
  {
   "cell_type": "code",
   "execution_count": null,
   "metadata": {},
   "outputs": [],
   "source": [
    "df_att = pd.read_csv('./data/attendance.csv', index_col = 0)\n",
    "df_att[df_att==0] = pd.NA\n",
    "df_att =df_att.fillna(df_att.mean())\n",
    "\n",
    "df_att.describe()"
   ]
  },
  {
   "cell_type": "code",
   "execution_count": null,
   "metadata": {},
   "outputs": [],
   "source": [
    "plt.figure(figsize=(12, 8))\n",
    "label_list = ['Math', 'Social Study', 'RLA', 'Science']\n",
    "\n",
    "for idx, sub in enumerate(sub_list):\n",
    "    plt.subplot(2, 2, idx+1)\n",
    "    sns.regplot(x='att_'+sub, y='avg_'+sub, data=df_att, ci = 95, label = label_list[idx])\n",
    "    plt.xlabel(label_list[idx]+ '-attendance %')\n",
    "    plt.ylabel(label_list[idx])\n",
    "    plt.legend(loc = 'lower left')\n",
    "plt.tight_layout()\n",
    "plt.show()\n"
   ]
  },
  {
   "cell_type": "markdown",
   "metadata": {},
   "source": [
    "**Insights** There is a linear correlation between attendance and module performance, with a stronger correlation observed in Social Studies and Science."
   ]
  },
  {
   "cell_type": "code",
   "execution_count": null,
   "metadata": {},
   "outputs": [],
   "source": [
    "df_con = pd.read_csv('./data/confidence.csv', index_col = 0)\n",
    "df_con = df_con.dropna()\n",
    "df_melted = pd.melt(df_con, var_name='subject_confidence', value_name='confidence_score')\n",
    "df_melted['subject'] = df_melted['subject_confidence'].apply(lambda x: x.split('_')[2])  # Math, RLA, etc.\n",
    "df_melted['before_after'] = df_melted['subject_confidence'].apply(lambda x: 'Before' if 'bef' in x else 'After')\n",
    "df_con.head()"
   ]
  },
  {
   "cell_type": "code",
   "execution_count": null,
   "metadata": {},
   "outputs": [],
   "source": [
    "plt.figure(figsize=(10, 6))\n",
    "ax=sns.boxplot(data=df_melted, x='subject', y='confidence_score', hue='before_after', palette=\"Set2\")\n",
    "for i, subject in enumerate(df_melted['subject'].unique()):\n",
    "\n",
    "    median_before = df_melted[(df_melted['subject'] == subject) & (df_melted['before_after'] == 'Before')]['confidence_score'].mean()\n",
    "    median_after = df_melted[(df_melted['subject'] == subject) & (df_melted['before_after'] == 'After')]['confidence_score'].mean()\n",
    "    \n",
    "\n",
    "    ax.text(i - 0.2, median_before+0.1, f'{median_before:.2f}', color='black', ha=\"center\", va=\"center\")\n",
    "    ax.text(i + 0.2, median_after+0.1, f'{median_after:.2f}', color='black', ha=\"center\", va=\"center\")\n",
    "\n",
    "\n",
    "plt.title('Confidence Before and After Training for each Subject')\n",
    "plt.ylabel('Confidence Score')\n",
    "plt.xlabel('Subject')\n",
    "plt.xticks([0,1,2,3],labels = ['Math', 'RLA', 'Science', 'Social Study'])\n",
    "plt.legend(loc = 'upper right', bbox_to_anchor=(1.15,0.99))\n",
    "plt.show()"
   ]
  }
 ],
 "metadata": {
  "kernelspec": {
   "display_name": ".venv",
   "language": "python",
   "name": "python3"
  },
  "language_info": {
   "codemirror_mode": {
    "name": "ipython",
    "version": 3
   },
   "file_extension": ".py",
   "mimetype": "text/x-python",
   "name": "python",
   "nbconvert_exporter": "python",
   "pygments_lexer": "ipython3",
   "version": "3.12.2"
  }
 },
 "nbformat": 4,
 "nbformat_minor": 2
}
