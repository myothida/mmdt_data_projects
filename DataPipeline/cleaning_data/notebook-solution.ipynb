{
 "cells": [
  {
   "cell_type": "markdown",
   "id": "42b5f3ae-35a8-499f-b1e3-85f17df0f6c1",
   "metadata": {},
   "source": [
    "# Cleaning Data in Python\n",
    "Welcome to your webinar workspace! You can follow along as we go though an introduction to data cleaning in Python.\n",
    "\n",
    "The first cell imports the main packages we will be using."
   ]
  },
  {
   "cell_type": "code",
   "execution_count": 6,
   "id": "d0eb4f16-5a99-460d-a5ba-706b7ef0bbe7",
   "metadata": {
    "executionTime": 148,
    "id": "bA5ajAmk7XH6",
    "lastSuccessfullyExecutedCode": "# Import libraries\nimport pandas as pd\nimport numpy as np\nimport matplotlib.pyplot as plt"
   },
   "outputs": [],
   "source": [
    "# Import libraries\n",
    "import pandas as pd\n",
    "import numpy as np\n",
    "import matplotlib.pyplot as plt"
   ]
  },
  {
   "cell_type": "markdown",
   "id": "0a7e03e3-23d7-4e83-9965-40f526f2d9ec",
   "metadata": {},
   "source": [
    "## Task 1: Loading and Inspecting the Data\n",
    "\n",
    "We will be working with a dataset of audiobooks downloaded from audible.in from 1998 to 2025 (pre-planned releases). [Source](https://www.kaggle.com/datasets/snehangsude/audible-dataset)\n",
    "\n",
    "The first thing we will do is load the raw audible data.\n",
    "\n",
    "### Instructions:\n",
    "* Using pandas, read the `audible_raw.csv` file that is located inside the `data` folder in our local directory. Assign to `audible`.\n",
    "* Show the first few rows of the `audible` data frame."
   ]
  },
  {
   "cell_type": "code",
   "execution_count": 7,
   "id": "d11e4c3e-94ec-4ba7-a492-3f3211ba274c",
   "metadata": {
    "executionTime": 1116,
    "lastSuccessfullyExecutedCode": "# Load the audible_raw.csv file\naudible = pd.read_csv(\"data/audible_raw.csv\")\n\n# View the first rows of the dataframe\naudible",
    "outputsMetadata": {
     "0": {
      "height": 323,
      "type": "dataFrame"
     }
    }
   },
   "outputs": [
    {
     "data": {
      "text/html": [
       "<div>\n",
       "<style scoped>\n",
       "    .dataframe tbody tr th:only-of-type {\n",
       "        vertical-align: middle;\n",
       "    }\n",
       "\n",
       "    .dataframe tbody tr th {\n",
       "        vertical-align: top;\n",
       "    }\n",
       "\n",
       "    .dataframe thead th {\n",
       "        text-align: right;\n",
       "    }\n",
       "</style>\n",
       "<table border=\"1\" class=\"dataframe\">\n",
       "  <thead>\n",
       "    <tr style=\"text-align: right;\">\n",
       "      <th></th>\n",
       "      <th>name</th>\n",
       "      <th>author</th>\n",
       "      <th>narrator</th>\n",
       "      <th>time</th>\n",
       "      <th>releasedate</th>\n",
       "      <th>language</th>\n",
       "      <th>stars</th>\n",
       "      <th>price</th>\n",
       "    </tr>\n",
       "  </thead>\n",
       "  <tbody>\n",
       "    <tr>\n",
       "      <th>0</th>\n",
       "      <td>Geronimo Stilton #11 &amp; #12</td>\n",
       "      <td>Writtenby:GeronimoStilton</td>\n",
       "      <td>Narratedby:BillLobely</td>\n",
       "      <td>2 hrs and 20 mins</td>\n",
       "      <td>04-08-08</td>\n",
       "      <td>English</td>\n",
       "      <td>5 out of 5 stars34 ratings</td>\n",
       "      <td>468.00</td>\n",
       "    </tr>\n",
       "    <tr>\n",
       "      <th>1</th>\n",
       "      <td>The Burning Maze</td>\n",
       "      <td>Writtenby:RickRiordan</td>\n",
       "      <td>Narratedby:RobbieDaymond</td>\n",
       "      <td>13 hrs and 8 mins</td>\n",
       "      <td>01-05-18</td>\n",
       "      <td>English</td>\n",
       "      <td>4.5 out of 5 stars41 ratings</td>\n",
       "      <td>820.00</td>\n",
       "    </tr>\n",
       "  </tbody>\n",
       "</table>\n",
       "</div>"
      ],
      "text/plain": [
       "                         name                     author  \\\n",
       "0  Geronimo Stilton #11 & #12  Writtenby:GeronimoStilton   \n",
       "1            The Burning Maze      Writtenby:RickRiordan   \n",
       "\n",
       "                   narrator               time releasedate language  \\\n",
       "0     Narratedby:BillLobely  2 hrs and 20 mins    04-08-08  English   \n",
       "1  Narratedby:RobbieDaymond  13 hrs and 8 mins    01-05-18  English   \n",
       "\n",
       "                          stars   price  \n",
       "0    5 out of 5 stars34 ratings  468.00  \n",
       "1  4.5 out of 5 stars41 ratings  820.00  "
      ]
     },
     "execution_count": 7,
     "metadata": {},
     "output_type": "execute_result"
    }
   ],
   "source": [
    "# Load the audible_raw.csv file\n",
    "audible = pd.read_csv(\"../data/audible_raw.csv\")\n",
    "\n",
    "# View the first rows of the dataframe\n",
    "audible.head(2)"
   ]
  },
  {
   "cell_type": "markdown",
   "id": "0e5fec85-ae7b-4c7b-a8b9-7e8cf47b1bcb",
   "metadata": {},
   "source": [
    "### 💾 The data\n",
    "\n",
    "- \"name\" - The name of the audiobook.\n",
    "- \"author\" - The audiobook's author.\n",
    "- \"narrator\" - The audiobook's narrator.\n",
    "- \"time\" -  The audiobook's duration, in hours and minutes.\n",
    "- \"releasedate\" -  The date the audiobook was published.\n",
    "- \"language\" -  The audiobook's language.\n",
    "- \"stars\" -  The average number of stars (out of 5) and the number of ratings (if available).\n",
    "- \"price\" -  The audiobook's price in INR (Indian Rupee)."
   ]
  },
  {
   "cell_type": "markdown",
   "id": "b34a10b0-67fe-402f-b4aa-24577d0857fa",
   "metadata": {},
   "source": [
    " We can use the `.info()` method to inspect the data types of the columns"
   ]
  },
  {
   "cell_type": "code",
   "execution_count": 8,
   "id": "00ecf8cb-a271-4dbd-b08d-bd3b187964b2",
   "metadata": {
    "executionTime": 51,
    "lastSuccessfullyExecutedCode": "# Inspect the columns' data types\naudible.info()",
    "outputsMetadata": {
     "0": {
      "height": 317,
      "type": "stream"
     }
    }
   },
   "outputs": [
    {
     "name": "stdout",
     "output_type": "stream",
     "text": [
      "<class 'pandas.core.frame.DataFrame'>\n",
      "RangeIndex: 87489 entries, 0 to 87488\n",
      "Data columns (total 8 columns):\n",
      " #   Column       Non-Null Count  Dtype \n",
      "---  ------       --------------  ----- \n",
      " 0   name         87489 non-null  object\n",
      " 1   author       87489 non-null  object\n",
      " 2   narrator     87489 non-null  object\n",
      " 3   time         87489 non-null  object\n",
      " 4   releasedate  87489 non-null  object\n",
      " 5   language     87489 non-null  object\n",
      " 6   stars        87489 non-null  object\n",
      " 7   price        87489 non-null  object\n",
      "dtypes: object(8)\n",
      "memory usage: 5.3+ MB\n"
     ]
    }
   ],
   "source": [
    "# Inspect the columns' data types\n",
    "audible.info()"
   ]
  },
  {
   "cell_type": "markdown",
   "id": "47940552-2d24-40f5-8a87-153abc54e9d9",
   "metadata": {},
   "source": [
    "## Task 2: Clean text data in Author and Narrator columns\n",
    "\n",
    "We will start cleaning some of the text columns like `author` and `narrator`. We can remove the `Writtenby:` and `Narratedby:` portions of the text in those columns.\n",
    "\n",
    "For this, we will use the `.str.replace()` method\n",
    "\n",
    "### Instructions:\n",
    "* Remove 'Writtenby:' from the `author` column\n",
    "* Remove 'Narratedby:' from the `narrator` column\n",
    "* Check the results"
   ]
  },
  {
   "cell_type": "code",
   "execution_count": 9,
   "id": "f6eacd20-36df-4841-9cdc-034c93477ff3",
   "metadata": {
    "executionTime": 684,
    "lastSuccessfullyExecutedCode": "# Remove Writtenby: from the author column\naudible['author'] = audible['author'].str.replace('Writtenby:', '')\n\n# Remove Narratedby: from the narrator column\naudible['narrator'] = audible['narrator'].str.replace('Narratedby:', '')\n\n# check the results\naudible",
    "outputsMetadata": {
     "0": {
      "height": 323,
      "type": "dataFrame"
     }
    }
   },
   "outputs": [
    {
     "data": {
      "text/html": [
       "<div>\n",
       "<style scoped>\n",
       "    .dataframe tbody tr th:only-of-type {\n",
       "        vertical-align: middle;\n",
       "    }\n",
       "\n",
       "    .dataframe tbody tr th {\n",
       "        vertical-align: top;\n",
       "    }\n",
       "\n",
       "    .dataframe thead th {\n",
       "        text-align: right;\n",
       "    }\n",
       "</style>\n",
       "<table border=\"1\" class=\"dataframe\">\n",
       "  <thead>\n",
       "    <tr style=\"text-align: right;\">\n",
       "      <th></th>\n",
       "      <th>name</th>\n",
       "      <th>author</th>\n",
       "      <th>narrator</th>\n",
       "      <th>time</th>\n",
       "      <th>releasedate</th>\n",
       "      <th>language</th>\n",
       "      <th>stars</th>\n",
       "      <th>price</th>\n",
       "    </tr>\n",
       "  </thead>\n",
       "  <tbody>\n",
       "    <tr>\n",
       "      <th>0</th>\n",
       "      <td>Geronimo Stilton #11 &amp; #12</td>\n",
       "      <td>GeronimoStilton</td>\n",
       "      <td>BillLobely</td>\n",
       "      <td>2 hrs and 20 mins</td>\n",
       "      <td>04-08-08</td>\n",
       "      <td>English</td>\n",
       "      <td>5 out of 5 stars34 ratings</td>\n",
       "      <td>468.00</td>\n",
       "    </tr>\n",
       "    <tr>\n",
       "      <th>1</th>\n",
       "      <td>The Burning Maze</td>\n",
       "      <td>RickRiordan</td>\n",
       "      <td>RobbieDaymond</td>\n",
       "      <td>13 hrs and 8 mins</td>\n",
       "      <td>01-05-18</td>\n",
       "      <td>English</td>\n",
       "      <td>4.5 out of 5 stars41 ratings</td>\n",
       "      <td>820.00</td>\n",
       "    </tr>\n",
       "    <tr>\n",
       "      <th>2</th>\n",
       "      <td>The Deep End</td>\n",
       "      <td>JeffKinney</td>\n",
       "      <td>DanRussell</td>\n",
       "      <td>2 hrs and 3 mins</td>\n",
       "      <td>06-11-20</td>\n",
       "      <td>English</td>\n",
       "      <td>4.5 out of 5 stars38 ratings</td>\n",
       "      <td>410.00</td>\n",
       "    </tr>\n",
       "    <tr>\n",
       "      <th>3</th>\n",
       "      <td>Daughter of the Deep</td>\n",
       "      <td>RickRiordan</td>\n",
       "      <td>SoneelaNankani</td>\n",
       "      <td>11 hrs and 16 mins</td>\n",
       "      <td>05-10-21</td>\n",
       "      <td>English</td>\n",
       "      <td>4.5 out of 5 stars12 ratings</td>\n",
       "      <td>615.00</td>\n",
       "    </tr>\n",
       "    <tr>\n",
       "      <th>4</th>\n",
       "      <td>The Lightning Thief: Percy Jackson, Book 1</td>\n",
       "      <td>RickRiordan</td>\n",
       "      <td>JesseBernstein</td>\n",
       "      <td>10 hrs</td>\n",
       "      <td>13-01-10</td>\n",
       "      <td>English</td>\n",
       "      <td>4.5 out of 5 stars181 ratings</td>\n",
       "      <td>820.00</td>\n",
       "    </tr>\n",
       "    <tr>\n",
       "      <th>...</th>\n",
       "      <td>...</td>\n",
       "      <td>...</td>\n",
       "      <td>...</td>\n",
       "      <td>...</td>\n",
       "      <td>...</td>\n",
       "      <td>...</td>\n",
       "      <td>...</td>\n",
       "      <td>...</td>\n",
       "    </tr>\n",
       "    <tr>\n",
       "      <th>87484</th>\n",
       "      <td>Last Days of the Bus Club</td>\n",
       "      <td>ChrisStewart</td>\n",
       "      <td>ChrisStewart</td>\n",
       "      <td>7 hrs and 34 mins</td>\n",
       "      <td>09-03-17</td>\n",
       "      <td>English</td>\n",
       "      <td>Not rated yet</td>\n",
       "      <td>596.00</td>\n",
       "    </tr>\n",
       "    <tr>\n",
       "      <th>87485</th>\n",
       "      <td>The Alps</td>\n",
       "      <td>StephenO'Shea</td>\n",
       "      <td>RobertFass</td>\n",
       "      <td>10 hrs and 7 mins</td>\n",
       "      <td>21-02-17</td>\n",
       "      <td>English</td>\n",
       "      <td>Not rated yet</td>\n",
       "      <td>820.00</td>\n",
       "    </tr>\n",
       "    <tr>\n",
       "      <th>87486</th>\n",
       "      <td>The Innocents Abroad</td>\n",
       "      <td>MarkTwain</td>\n",
       "      <td>FloGibson</td>\n",
       "      <td>19 hrs and 4 mins</td>\n",
       "      <td>30-12-16</td>\n",
       "      <td>English</td>\n",
       "      <td>Not rated yet</td>\n",
       "      <td>938.00</td>\n",
       "    </tr>\n",
       "    <tr>\n",
       "      <th>87487</th>\n",
       "      <td>A Sentimental Journey</td>\n",
       "      <td>LaurenceSterne</td>\n",
       "      <td>AntonLesser</td>\n",
       "      <td>4 hrs and 8 mins</td>\n",
       "      <td>23-02-11</td>\n",
       "      <td>English</td>\n",
       "      <td>Not rated yet</td>\n",
       "      <td>680.00</td>\n",
       "    </tr>\n",
       "    <tr>\n",
       "      <th>87488</th>\n",
       "      <td>Havana</td>\n",
       "      <td>MarkKurlansky</td>\n",
       "      <td>FleetCooper</td>\n",
       "      <td>6 hrs and 1 min</td>\n",
       "      <td>07-03-17</td>\n",
       "      <td>English</td>\n",
       "      <td>Not rated yet</td>\n",
       "      <td>569.00</td>\n",
       "    </tr>\n",
       "  </tbody>\n",
       "</table>\n",
       "<p>87489 rows × 8 columns</p>\n",
       "</div>"
      ],
      "text/plain": [
       "                                             name           author  \\\n",
       "0                      Geronimo Stilton #11 & #12  GeronimoStilton   \n",
       "1                                The Burning Maze      RickRiordan   \n",
       "2                                    The Deep End       JeffKinney   \n",
       "3                            Daughter of the Deep      RickRiordan   \n",
       "4      The Lightning Thief: Percy Jackson, Book 1      RickRiordan   \n",
       "...                                           ...              ...   \n",
       "87484                   Last Days of the Bus Club     ChrisStewart   \n",
       "87485                                    The Alps    StephenO'Shea   \n",
       "87486                        The Innocents Abroad        MarkTwain   \n",
       "87487                       A Sentimental Journey   LaurenceSterne   \n",
       "87488                                      Havana    MarkKurlansky   \n",
       "\n",
       "             narrator                time releasedate language  \\\n",
       "0          BillLobely   2 hrs and 20 mins    04-08-08  English   \n",
       "1       RobbieDaymond   13 hrs and 8 mins    01-05-18  English   \n",
       "2          DanRussell    2 hrs and 3 mins    06-11-20  English   \n",
       "3      SoneelaNankani  11 hrs and 16 mins    05-10-21  English   \n",
       "4      JesseBernstein              10 hrs    13-01-10  English   \n",
       "...               ...                 ...         ...      ...   \n",
       "87484    ChrisStewart   7 hrs and 34 mins    09-03-17  English   \n",
       "87485      RobertFass   10 hrs and 7 mins    21-02-17  English   \n",
       "87486       FloGibson   19 hrs and 4 mins    30-12-16  English   \n",
       "87487     AntonLesser    4 hrs and 8 mins    23-02-11  English   \n",
       "87488     FleetCooper     6 hrs and 1 min    07-03-17  English   \n",
       "\n",
       "                               stars   price  \n",
       "0         5 out of 5 stars34 ratings  468.00  \n",
       "1       4.5 out of 5 stars41 ratings  820.00  \n",
       "2       4.5 out of 5 stars38 ratings  410.00  \n",
       "3       4.5 out of 5 stars12 ratings  615.00  \n",
       "4      4.5 out of 5 stars181 ratings  820.00  \n",
       "...                              ...     ...  \n",
       "87484                  Not rated yet  596.00  \n",
       "87485                  Not rated yet  820.00  \n",
       "87486                  Not rated yet  938.00  \n",
       "87487                  Not rated yet  680.00  \n",
       "87488                  Not rated yet  569.00  \n",
       "\n",
       "[87489 rows x 8 columns]"
      ]
     },
     "execution_count": 9,
     "metadata": {},
     "output_type": "execute_result"
    }
   ],
   "source": [
    "# Remove Writtenby: from the author column\n",
    "audible['author'] = audible['author'].str.replace('Writtenby:', '')\n",
    "\n",
    "# Remove Narratedby: from the narrator column\n",
    "audible['narrator'] = audible['narrator'].str.replace('Narratedby:', '')\n",
    "\n",
    "# Check the results\n",
    "audible"
   ]
  },
  {
   "cell_type": "markdown",
   "id": "7a171579-a305-41b7-b060-c097e07f9c54",
   "metadata": {},
   "source": [
    "## Task 3: Extract number of stars and ratings from Stars column.\n",
    "\n",
    "The `stars` column combines the number of stars and the number of ratins. Let's turn this into numbers and split it into two columns: `rating_stars` and `n_ratings`.\n",
    "\n",
    "First we will use the `.sample()` method to get a glimpse at the type of entries in that column."
   ]
  },
  {
   "cell_type": "code",
   "execution_count": 10,
   "id": "d87f3a1c-b75d-4625-ace5-db1e8cf5a291",
   "metadata": {
    "executionTime": 42,
    "lastSuccessfullyExecutedCode": "# Get a glimpse of the stars column\naudible.stars.sample(n=10)"
   },
   "outputs": [
    {
     "data": {
      "text/plain": [
       "70998    Not rated yet\n",
       "80904    Not rated yet\n",
       "51193    Not rated yet\n",
       "66122    Not rated yet\n",
       "14182    Not rated yet\n",
       "84387    Not rated yet\n",
       "72226    Not rated yet\n",
       "20674    Not rated yet\n",
       "85587    Not rated yet\n",
       "29314    Not rated yet\n",
       "Name: stars, dtype: object"
      ]
     },
     "execution_count": 10,
     "metadata": {},
     "output_type": "execute_result"
    }
   ],
   "source": [
    "# Get a glimpse of the stars column\n",
    "audible.stars.sample(n=10)"
   ]
  },
  {
   "cell_type": "markdown",
   "id": "74f20a83-61ef-492a-adcc-eb09d722b231",
   "metadata": {},
   "source": [
    "Since there are many instances of `Not rated yet`, let's filter them out and sample again:"
   ]
  },
  {
   "cell_type": "code",
   "execution_count": 11,
   "id": "096674e7-8bdb-4aee-9a0e-7f8464c9affd",
   "metadata": {
    "executionTime": 32,
    "lastSuccessfullyExecutedCode": "# Explore the values of the star column that are not 'Not rated yet'\naudible[audible.stars != 'Not rated yet'].stars.sample(n=10)"
   },
   "outputs": [
    {
     "data": {
      "text/plain": [
       "9966       4 out of 5 stars2 ratings\n",
       "49849     4 out of 5 stars36 ratings\n",
       "20599       4 out of 5 stars1 rating\n",
       "54928    3.5 out of 5 stars5 ratings\n",
       "52653       1 out of 5 stars1 rating\n",
       "26126    3.5 out of 5 stars2 ratings\n",
       "66141      4 out of 5 stars6 ratings\n",
       "82663      4 out of 5 stars8 ratings\n",
       "33007       5 out of 5 stars1 rating\n",
       "57672       5 out of 5 stars1 rating\n",
       "Name: stars, dtype: object"
      ]
     },
     "execution_count": 11,
     "metadata": {},
     "output_type": "execute_result"
    }
   ],
   "source": [
    "# Explore the values of the star column that are not 'Not rated yet'\n",
    "audible[audible.stars != 'Not rated yet'].stars.sample(n=10)"
   ]
  },
  {
   "cell_type": "markdown",
   "id": "668b92e7-9a53-4f76-be13-e4721daebf56",
   "metadata": {},
   "source": [
    "As a first step, we can replace the instances of `Not rated yet` with `NaN`"
   ]
  },
  {
   "cell_type": "code",
   "execution_count": 12,
   "id": "b98dc637-16c5-4dba-857f-62e3fb290045",
   "metadata": {
    "executionTime": 0,
    "lastSuccessfullyExecutedCode": "# Replace 'Not rated yet' with NaN\naudible.stars.replace('Not rated yet', np.nan, inplace=True)"
   },
   "outputs": [
    {
     "name": "stderr",
     "output_type": "stream",
     "text": [
      "C:\\Users\\User\\AppData\\Local\\Temp\\ipykernel_29944\\3234901468.py:2: FutureWarning: A value is trying to be set on a copy of a DataFrame or Series through chained assignment using an inplace method.\n",
      "The behavior will change in pandas 3.0. This inplace method will never work because the intermediate object on which we are setting values always behaves as a copy.\n",
      "\n",
      "For example, when doing 'df[col].method(value, inplace=True)', try using 'df.method({col: value}, inplace=True)' or df[col] = df[col].method(value) instead, to perform the operation inplace on the original object.\n",
      "\n",
      "\n",
      "  audible.stars.replace('Not rated yet', np.nan, inplace=True)\n"
     ]
    }
   ],
   "source": [
    "# Replace 'Not rated yet' with NaN\n",
    "audible.stars.replace('Not rated yet', np.nan, inplace=True)"
   ]
  },
  {
   "cell_type": "markdown",
   "id": "86876dd4-20a8-41a4-b5ca-9dfbfcc1dec2",
   "metadata": {},
   "source": [
    "We can use `.str.extract()` to get the number of stars and the number of ratings into their own columns.\n",
    "\n",
    "### Instructions:\n",
    "* Extract the number of stars into the `rating_stars` column\n",
    "* Extract the number of ratings into the `n_ratings` column\n",
    "* Convert both new columns to float"
   ]
  },
  {
   "cell_type": "code",
   "execution_count": 13,
   "id": "80dfd44d-1ad1-443b-91c1-71092ce327b2",
   "metadata": {
    "executionTime": 266,
    "lastSuccessfullyExecutedCode": "# Extract number of stars into rating_stars and turn into float\naudible['rating_stars'] = audible['stars'].str.extract('^([\\d.]+)').astype(float)\n\n# Replace the comma, extract number of ratings into n_ratings and turn into float\naudible['n_ratings'] = audible['stars'].str.replace(',', '').str.extract('(\\d+) rating').astype(float)\n\n# Examine the new rating_stars and n_ratings columns\naudible[['rating_stars', 'n_ratings']]",
    "outputsMetadata": {
     "0": {
      "height": 323,
      "type": "dataFrame"
     }
    }
   },
   "outputs": [
    {
     "name": "stderr",
     "output_type": "stream",
     "text": [
      "<>:2: SyntaxWarning: invalid escape sequence '\\d'\n",
      "<>:5: SyntaxWarning: invalid escape sequence '\\d'\n",
      "<>:2: SyntaxWarning: invalid escape sequence '\\d'\n",
      "<>:5: SyntaxWarning: invalid escape sequence '\\d'\n",
      "C:\\Users\\User\\AppData\\Local\\Temp\\ipykernel_29944\\1011131359.py:2: SyntaxWarning: invalid escape sequence '\\d'\n",
      "  audible['rating_stars'] = audible['stars'].str.extract('^([\\d.]+)').astype(float)\n",
      "C:\\Users\\User\\AppData\\Local\\Temp\\ipykernel_29944\\1011131359.py:5: SyntaxWarning: invalid escape sequence '\\d'\n",
      "  audible['n_ratings'] = audible['stars'].str.replace(',', '').str.extract('(\\d+) rating').astype(float)\n"
     ]
    },
    {
     "data": {
      "text/html": [
       "<div>\n",
       "<style scoped>\n",
       "    .dataframe tbody tr th:only-of-type {\n",
       "        vertical-align: middle;\n",
       "    }\n",
       "\n",
       "    .dataframe tbody tr th {\n",
       "        vertical-align: top;\n",
       "    }\n",
       "\n",
       "    .dataframe thead th {\n",
       "        text-align: right;\n",
       "    }\n",
       "</style>\n",
       "<table border=\"1\" class=\"dataframe\">\n",
       "  <thead>\n",
       "    <tr style=\"text-align: right;\">\n",
       "      <th></th>\n",
       "      <th>rating_stars</th>\n",
       "      <th>n_ratings</th>\n",
       "    </tr>\n",
       "  </thead>\n",
       "  <tbody>\n",
       "    <tr>\n",
       "      <th>0</th>\n",
       "      <td>5.0</td>\n",
       "      <td>34.0</td>\n",
       "    </tr>\n",
       "    <tr>\n",
       "      <th>1</th>\n",
       "      <td>4.5</td>\n",
       "      <td>41.0</td>\n",
       "    </tr>\n",
       "    <tr>\n",
       "      <th>2</th>\n",
       "      <td>4.5</td>\n",
       "      <td>38.0</td>\n",
       "    </tr>\n",
       "    <tr>\n",
       "      <th>3</th>\n",
       "      <td>4.5</td>\n",
       "      <td>12.0</td>\n",
       "    </tr>\n",
       "    <tr>\n",
       "      <th>4</th>\n",
       "      <td>4.5</td>\n",
       "      <td>181.0</td>\n",
       "    </tr>\n",
       "    <tr>\n",
       "      <th>...</th>\n",
       "      <td>...</td>\n",
       "      <td>...</td>\n",
       "    </tr>\n",
       "    <tr>\n",
       "      <th>87484</th>\n",
       "      <td>NaN</td>\n",
       "      <td>NaN</td>\n",
       "    </tr>\n",
       "    <tr>\n",
       "      <th>87485</th>\n",
       "      <td>NaN</td>\n",
       "      <td>NaN</td>\n",
       "    </tr>\n",
       "    <tr>\n",
       "      <th>87486</th>\n",
       "      <td>NaN</td>\n",
       "      <td>NaN</td>\n",
       "    </tr>\n",
       "    <tr>\n",
       "      <th>87487</th>\n",
       "      <td>NaN</td>\n",
       "      <td>NaN</td>\n",
       "    </tr>\n",
       "    <tr>\n",
       "      <th>87488</th>\n",
       "      <td>NaN</td>\n",
       "      <td>NaN</td>\n",
       "    </tr>\n",
       "  </tbody>\n",
       "</table>\n",
       "<p>87489 rows × 2 columns</p>\n",
       "</div>"
      ],
      "text/plain": [
       "       rating_stars  n_ratings\n",
       "0               5.0       34.0\n",
       "1               4.5       41.0\n",
       "2               4.5       38.0\n",
       "3               4.5       12.0\n",
       "4               4.5      181.0\n",
       "...             ...        ...\n",
       "87484           NaN        NaN\n",
       "87485           NaN        NaN\n",
       "87486           NaN        NaN\n",
       "87487           NaN        NaN\n",
       "87488           NaN        NaN\n",
       "\n",
       "[87489 rows x 2 columns]"
      ]
     },
     "execution_count": 13,
     "metadata": {},
     "output_type": "execute_result"
    }
   ],
   "source": [
    "# Extract number of stars into rating_stars and turn into float\n",
    "audible['rating_stars'] = audible['stars'].str.extract('^([\\d.]+)').astype(float)\n",
    "\n",
    "# Replace the comma, extract number of ratings into n_ratings and turn into float\n",
    "audible['n_ratings'] = audible['stars'].str.replace(',', '').str.extract('(\\d+) rating').astype(float)\n",
    "\n",
    "# Examine the new rating_stars and n_ratings columns\n",
    "audible[['rating_stars', 'n_ratings']]"
   ]
  },
  {
   "cell_type": "markdown",
   "id": "fb4a3883-44f0-44fb-bb6c-29f074bf73bb",
   "metadata": {},
   "source": [
    "As a last step, let's delete the `stars` column using the `.drop` command:"
   ]
  },
  {
   "cell_type": "code",
   "execution_count": 14,
   "id": "c55c7d51-dc39-44d9-85d3-f01c81ac55a1",
   "metadata": {
    "executionTime": 663,
    "lastSuccessfullyExecutedCode": "# Dorp the stars column\naudible.drop('stars', axis=1, inplace=True)\n\n# Check the results\naudible",
    "outputsMetadata": {
     "0": {
      "height": 323,
      "type": "dataFrame"
     }
    }
   },
   "outputs": [
    {
     "data": {
      "text/html": [
       "<div>\n",
       "<style scoped>\n",
       "    .dataframe tbody tr th:only-of-type {\n",
       "        vertical-align: middle;\n",
       "    }\n",
       "\n",
       "    .dataframe tbody tr th {\n",
       "        vertical-align: top;\n",
       "    }\n",
       "\n",
       "    .dataframe thead th {\n",
       "        text-align: right;\n",
       "    }\n",
       "</style>\n",
       "<table border=\"1\" class=\"dataframe\">\n",
       "  <thead>\n",
       "    <tr style=\"text-align: right;\">\n",
       "      <th></th>\n",
       "      <th>name</th>\n",
       "      <th>author</th>\n",
       "      <th>narrator</th>\n",
       "      <th>time</th>\n",
       "      <th>releasedate</th>\n",
       "      <th>language</th>\n",
       "      <th>price</th>\n",
       "      <th>rating_stars</th>\n",
       "      <th>n_ratings</th>\n",
       "    </tr>\n",
       "  </thead>\n",
       "  <tbody>\n",
       "    <tr>\n",
       "      <th>0</th>\n",
       "      <td>Geronimo Stilton #11 &amp; #12</td>\n",
       "      <td>GeronimoStilton</td>\n",
       "      <td>BillLobely</td>\n",
       "      <td>2 hrs and 20 mins</td>\n",
       "      <td>04-08-08</td>\n",
       "      <td>English</td>\n",
       "      <td>468.00</td>\n",
       "      <td>5.0</td>\n",
       "      <td>34.0</td>\n",
       "    </tr>\n",
       "    <tr>\n",
       "      <th>1</th>\n",
       "      <td>The Burning Maze</td>\n",
       "      <td>RickRiordan</td>\n",
       "      <td>RobbieDaymond</td>\n",
       "      <td>13 hrs and 8 mins</td>\n",
       "      <td>01-05-18</td>\n",
       "      <td>English</td>\n",
       "      <td>820.00</td>\n",
       "      <td>4.5</td>\n",
       "      <td>41.0</td>\n",
       "    </tr>\n",
       "    <tr>\n",
       "      <th>2</th>\n",
       "      <td>The Deep End</td>\n",
       "      <td>JeffKinney</td>\n",
       "      <td>DanRussell</td>\n",
       "      <td>2 hrs and 3 mins</td>\n",
       "      <td>06-11-20</td>\n",
       "      <td>English</td>\n",
       "      <td>410.00</td>\n",
       "      <td>4.5</td>\n",
       "      <td>38.0</td>\n",
       "    </tr>\n",
       "    <tr>\n",
       "      <th>3</th>\n",
       "      <td>Daughter of the Deep</td>\n",
       "      <td>RickRiordan</td>\n",
       "      <td>SoneelaNankani</td>\n",
       "      <td>11 hrs and 16 mins</td>\n",
       "      <td>05-10-21</td>\n",
       "      <td>English</td>\n",
       "      <td>615.00</td>\n",
       "      <td>4.5</td>\n",
       "      <td>12.0</td>\n",
       "    </tr>\n",
       "    <tr>\n",
       "      <th>4</th>\n",
       "      <td>The Lightning Thief: Percy Jackson, Book 1</td>\n",
       "      <td>RickRiordan</td>\n",
       "      <td>JesseBernstein</td>\n",
       "      <td>10 hrs</td>\n",
       "      <td>13-01-10</td>\n",
       "      <td>English</td>\n",
       "      <td>820.00</td>\n",
       "      <td>4.5</td>\n",
       "      <td>181.0</td>\n",
       "    </tr>\n",
       "    <tr>\n",
       "      <th>...</th>\n",
       "      <td>...</td>\n",
       "      <td>...</td>\n",
       "      <td>...</td>\n",
       "      <td>...</td>\n",
       "      <td>...</td>\n",
       "      <td>...</td>\n",
       "      <td>...</td>\n",
       "      <td>...</td>\n",
       "      <td>...</td>\n",
       "    </tr>\n",
       "    <tr>\n",
       "      <th>87484</th>\n",
       "      <td>Last Days of the Bus Club</td>\n",
       "      <td>ChrisStewart</td>\n",
       "      <td>ChrisStewart</td>\n",
       "      <td>7 hrs and 34 mins</td>\n",
       "      <td>09-03-17</td>\n",
       "      <td>English</td>\n",
       "      <td>596.00</td>\n",
       "      <td>NaN</td>\n",
       "      <td>NaN</td>\n",
       "    </tr>\n",
       "    <tr>\n",
       "      <th>87485</th>\n",
       "      <td>The Alps</td>\n",
       "      <td>StephenO'Shea</td>\n",
       "      <td>RobertFass</td>\n",
       "      <td>10 hrs and 7 mins</td>\n",
       "      <td>21-02-17</td>\n",
       "      <td>English</td>\n",
       "      <td>820.00</td>\n",
       "      <td>NaN</td>\n",
       "      <td>NaN</td>\n",
       "    </tr>\n",
       "    <tr>\n",
       "      <th>87486</th>\n",
       "      <td>The Innocents Abroad</td>\n",
       "      <td>MarkTwain</td>\n",
       "      <td>FloGibson</td>\n",
       "      <td>19 hrs and 4 mins</td>\n",
       "      <td>30-12-16</td>\n",
       "      <td>English</td>\n",
       "      <td>938.00</td>\n",
       "      <td>NaN</td>\n",
       "      <td>NaN</td>\n",
       "    </tr>\n",
       "    <tr>\n",
       "      <th>87487</th>\n",
       "      <td>A Sentimental Journey</td>\n",
       "      <td>LaurenceSterne</td>\n",
       "      <td>AntonLesser</td>\n",
       "      <td>4 hrs and 8 mins</td>\n",
       "      <td>23-02-11</td>\n",
       "      <td>English</td>\n",
       "      <td>680.00</td>\n",
       "      <td>NaN</td>\n",
       "      <td>NaN</td>\n",
       "    </tr>\n",
       "    <tr>\n",
       "      <th>87488</th>\n",
       "      <td>Havana</td>\n",
       "      <td>MarkKurlansky</td>\n",
       "      <td>FleetCooper</td>\n",
       "      <td>6 hrs and 1 min</td>\n",
       "      <td>07-03-17</td>\n",
       "      <td>English</td>\n",
       "      <td>569.00</td>\n",
       "      <td>NaN</td>\n",
       "      <td>NaN</td>\n",
       "    </tr>\n",
       "  </tbody>\n",
       "</table>\n",
       "<p>87489 rows × 9 columns</p>\n",
       "</div>"
      ],
      "text/plain": [
       "                                             name           author  \\\n",
       "0                      Geronimo Stilton #11 & #12  GeronimoStilton   \n",
       "1                                The Burning Maze      RickRiordan   \n",
       "2                                    The Deep End       JeffKinney   \n",
       "3                            Daughter of the Deep      RickRiordan   \n",
       "4      The Lightning Thief: Percy Jackson, Book 1      RickRiordan   \n",
       "...                                           ...              ...   \n",
       "87484                   Last Days of the Bus Club     ChrisStewart   \n",
       "87485                                    The Alps    StephenO'Shea   \n",
       "87486                        The Innocents Abroad        MarkTwain   \n",
       "87487                       A Sentimental Journey   LaurenceSterne   \n",
       "87488                                      Havana    MarkKurlansky   \n",
       "\n",
       "             narrator                time releasedate language   price  \\\n",
       "0          BillLobely   2 hrs and 20 mins    04-08-08  English  468.00   \n",
       "1       RobbieDaymond   13 hrs and 8 mins    01-05-18  English  820.00   \n",
       "2          DanRussell    2 hrs and 3 mins    06-11-20  English  410.00   \n",
       "3      SoneelaNankani  11 hrs and 16 mins    05-10-21  English  615.00   \n",
       "4      JesseBernstein              10 hrs    13-01-10  English  820.00   \n",
       "...               ...                 ...         ...      ...     ...   \n",
       "87484    ChrisStewart   7 hrs and 34 mins    09-03-17  English  596.00   \n",
       "87485      RobertFass   10 hrs and 7 mins    21-02-17  English  820.00   \n",
       "87486       FloGibson   19 hrs and 4 mins    30-12-16  English  938.00   \n",
       "87487     AntonLesser    4 hrs and 8 mins    23-02-11  English  680.00   \n",
       "87488     FleetCooper     6 hrs and 1 min    07-03-17  English  569.00   \n",
       "\n",
       "       rating_stars  n_ratings  \n",
       "0               5.0       34.0  \n",
       "1               4.5       41.0  \n",
       "2               4.5       38.0  \n",
       "3               4.5       12.0  \n",
       "4               4.5      181.0  \n",
       "...             ...        ...  \n",
       "87484           NaN        NaN  \n",
       "87485           NaN        NaN  \n",
       "87486           NaN        NaN  \n",
       "87487           NaN        NaN  \n",
       "87488           NaN        NaN  \n",
       "\n",
       "[87489 rows x 9 columns]"
      ]
     },
     "execution_count": 14,
     "metadata": {},
     "output_type": "execute_result"
    }
   ],
   "source": [
    "# Dorp the stars column\n",
    "audible.drop('stars', axis=1, inplace=True)\n",
    "\n",
    "# Check the results\n",
    "audible"
   ]
  },
  {
   "cell_type": "markdown",
   "id": "4ce12839-cd89-4ca3-8797-1c69f5b63f89",
   "metadata": {},
   "source": [
    "## Task 4: Change data types\n",
    "\n",
    "Another important step is to have our data in the correct data types\n",
    "\n",
    "### Instructions:\n",
    "* Set `price` to float\n",
    "* Turn `rating_stars` to category\n",
    "* Convert `releasedate` to datetime"
   ]
  },
  {
   "cell_type": "code",
   "execution_count": 15,
   "id": "da9ccac2-9a44-4976-88fd-563dce45d5ae",
   "metadata": {
    "executionTime": 32,
    "lastSuccessfullyExecutedCode": "# Explore the price column\naudible.price.sample(n=10)"
   },
   "outputs": [
    {
     "data": {
      "text/plain": [
       "45880      844.00\n",
       "34238      500.00\n",
       "54550      586.00\n",
       "12577        Free\n",
       "40149    1,338.00\n",
       "67874       22.00\n",
       "10131      164.00\n",
       "28752      516.00\n",
       "43117      668.00\n",
       "59889    1,172.00\n",
       "Name: price, dtype: object"
      ]
     },
     "execution_count": 15,
     "metadata": {},
     "output_type": "execute_result"
    }
   ],
   "source": [
    "# Explore the price column\n",
    "audible.price.sample(n=10)"
   ]
  },
  {
   "cell_type": "markdown",
   "id": "f84e4272-52c9-4f9d-974c-335c46c282bd",
   "metadata": {},
   "source": [
    "We need to get rid of the comma and the word 'Free' before we can convert the data."
   ]
  },
  {
   "cell_type": "code",
   "execution_count": 16,
   "id": "76e75c2f-818f-4ae0-88c6-de8fb65b2052",
   "metadata": {
    "executionTime": 0,
    "lastSuccessfullyExecutedCode": "# Replace the comma with ''\naudible['price'] = audible.price.str.replace(',', '')\n\n# Replace 'Free' with 0\naudible['price'] = audible.price.str.replace('Free', '0')\n\n# Turn price to float\naudible['price'] = audible.price.astype(float)"
   },
   "outputs": [],
   "source": [
    "# Replace the comma with ''\n",
    "audible['price'] = audible.price.str.replace(',', '')\n",
    "\n",
    "# Replace 'Free' with 0\n",
    "audible['price'] = audible.price.str.replace('Free', '0')\n",
    "\n",
    "# Turn price to float\n",
    "audible['price'] = audible.price.astype(float)"
   ]
  },
  {
   "cell_type": "markdown",
   "id": "6500fe18-8bf9-4a9a-9733-420afe328180",
   "metadata": {},
   "source": [
    "* Turn `rating_stars` to category\n",
    "\n",
    "Since `stars` can only take a small number of discrete values, the best data type for the column is `category`.\n",
    "\n",
    "Let's first look at the unique values in that column to confirm:"
   ]
  },
  {
   "cell_type": "code",
   "execution_count": 17,
   "id": "0c147230-c83f-46b8-a01b-f67b1a79157c",
   "metadata": {
    "executionTime": 35,
    "lastSuccessfullyExecutedCode": "# Look at the unique values in the rating_stars column\naudible.rating_stars.unique()"
   },
   "outputs": [
    {
     "data": {
      "text/plain": [
       "array([5. , 4.5, 4. , nan, 3.5, 3. , 1. , 2. , 2.5, 1.5])"
      ]
     },
     "execution_count": 17,
     "metadata": {},
     "output_type": "execute_result"
    }
   ],
   "source": [
    "# Look at the unique values in the rating_stars column\n",
    "audible.rating_stars.unique()"
   ]
  },
  {
   "cell_type": "markdown",
   "id": "d00d6894-506b-45b7-8fbc-c3c158d37b98",
   "metadata": {},
   "source": [
    "We can now use `.astype` to change the data type."
   ]
  },
  {
   "cell_type": "code",
   "execution_count": 18,
   "id": "9802dca4-e90a-48d6-a450-bb59c9f22f64",
   "metadata": {
    "executionTime": 0,
    "lastSuccessfullyExecutedCode": "# Turn rating_stars to category\naudible['rating_stars'] = audible.rating_stars.astype('category')"
   },
   "outputs": [],
   "source": [
    "# Turn rating_stars to category\n",
    "audible['rating_stars'] = audible.rating_stars.astype('category')"
   ]
  },
  {
   "cell_type": "markdown",
   "id": "4020a811-4a1e-4e4b-aee6-96db2cd89ac5",
   "metadata": {},
   "source": [
    "* Convert `releasedate` date to datetime\n",
    "\n",
    "Here we will use the `to_datetime()` function to turn the dates into datetime objects:"
   ]
  },
  {
   "cell_type": "code",
   "execution_count": 19,
   "id": "89b25e98-de84-4bb8-b650-676a81a4682c",
   "metadata": {
    "executionTime": 29,
    "lastSuccessfullyExecutedCode": "# Convert releasedate to datetime\naudible['releasedate'] = pd.to_datetime(audible.releasedate)\n\n# Inspect the dataframe \naudible.info()",
    "outputsMetadata": {
     "0": {
      "height": 337,
      "type": "stream"
     }
    }
   },
   "outputs": [
    {
     "name": "stderr",
     "output_type": "stream",
     "text": [
      "C:\\Users\\User\\AppData\\Local\\Temp\\ipykernel_29944\\1086812334.py:2: UserWarning: Could not infer format, so each element will be parsed individually, falling back to `dateutil`. To ensure parsing is consistent and as-expected, please specify a format.\n",
      "  audible['releasedate'] = pd.to_datetime(audible.releasedate)\n"
     ]
    },
    {
     "name": "stdout",
     "output_type": "stream",
     "text": [
      "<class 'pandas.core.frame.DataFrame'>\n",
      "RangeIndex: 87489 entries, 0 to 87488\n",
      "Data columns (total 9 columns):\n",
      " #   Column        Non-Null Count  Dtype         \n",
      "---  ------        --------------  -----         \n",
      " 0   name          87489 non-null  object        \n",
      " 1   author        87489 non-null  object        \n",
      " 2   narrator      87489 non-null  object        \n",
      " 3   time          87489 non-null  object        \n",
      " 4   releasedate   87489 non-null  datetime64[ns]\n",
      " 5   language      87489 non-null  object        \n",
      " 6   price         87489 non-null  float64       \n",
      " 7   rating_stars  15072 non-null  category      \n",
      " 8   n_ratings     15072 non-null  float64       \n",
      "dtypes: category(1), datetime64[ns](1), float64(2), object(5)\n",
      "memory usage: 5.4+ MB\n"
     ]
    }
   ],
   "source": [
    "# Convert releasedate to datetime\n",
    "audible['releasedate'] = pd.to_datetime(audible.releasedate)\n",
    "\n",
    "# Inspect the dataframe \n",
    "audible.info()"
   ]
  },
  {
   "cell_type": "markdown",
   "id": "a59566a9-7aaa-456e-a356-b063ac339d89",
   "metadata": {},
   "source": [
    "## Task 5: Extract hours and minutes from the `time` column\n",
    "\n",
    "The `time` column combines the number of hours and minutes into one column. We want to transform and consolidate the information into a new `time_minutes` column."
   ]
  },
  {
   "cell_type": "code",
   "execution_count": 20,
   "id": "120dc06a-96fb-45aa-8e3b-eb079da54a3a",
   "metadata": {
    "executionTime": 30,
    "lastSuccessfullyExecutedCode": "# Explore the values in the time column\naudible.time.sample(n=10)"
   },
   "outputs": [
    {
     "data": {
      "text/plain": [
       "85968              29 mins\n",
       "30119    6 hrs and 16 mins\n",
       "53560              42 mins\n",
       "71765    6 hrs and 21 mins\n",
       "30797    2 hrs and 40 mins\n",
       "27407    11 hrs and 9 mins\n",
       "66826    3 hrs and 18 mins\n",
       "13081    2 hrs and 29 mins\n",
       "39132    7 hrs and 36 mins\n",
       "6539     2 hrs and 23 mins\n",
       "Name: time, dtype: object"
      ]
     },
     "execution_count": 20,
     "metadata": {},
     "output_type": "execute_result"
    }
   ],
   "source": [
    "# Explore the values in the time column\n",
    "audible.time.sample(n=10)"
   ]
  },
  {
   "cell_type": "markdown",
   "id": "9e345ee7-94dd-4389-8799-2248782c5112",
   "metadata": {},
   "source": [
    "Let's see what other ways they have encoded `min` or `minutes`:"
   ]
  },
  {
   "cell_type": "code",
   "execution_count": 21,
   "id": "cb2df360-60a2-4c31-93e5-2bb322decbf6",
   "metadata": {
    "executionTime": 27,
    "lastSuccessfullyExecutedCode": "# Search the entries in the time column for different spellings of min. Let' try min, mins, minutes\naudible.time[audible.time.str.contains('min')].sample(n=10)"
   },
   "outputs": [
    {
     "data": {
      "text/plain": [
       "4641                10 mins\n",
       "76714     5 hrs and 57 mins\n",
       "23535      1 hr and 57 mins\n",
       "23943      7 hrs and 6 mins\n",
       "73049    12 hrs and 31 mins\n",
       "26332    11 hrs and 57 mins\n",
       "21350      8 hrs and 4 mins\n",
       "67752     5 hrs and 14 mins\n",
       "12416      1 hr and 16 mins\n",
       "60775    13 hrs and 42 mins\n",
       "Name: time, dtype: object"
      ]
     },
     "execution_count": 21,
     "metadata": {},
     "output_type": "execute_result"
    }
   ],
   "source": [
    "# Search the entries in the time column for different spellings of min. Let' try min, mins, minutes\n",
    "audible.time[audible.time.str.contains('min')].sample(n=10)"
   ]
  },
  {
   "cell_type": "markdown",
   "id": "d2bc14b0-253c-4f26-91ee-37ab37e8e8b2",
   "metadata": {},
   "source": [
    "We can see that we need to fix the following:\n",
    "* hr, hrs -> consolidate as `hr`\n",
    "* min, mins -> consolidate as `min`\n",
    "* Less than 1 minute -> round to 1 min"
   ]
  },
  {
   "cell_type": "code",
   "execution_count": 22,
   "id": "6f0817a3-4953-430e-98d1-2a743643c280",
   "metadata": {
    "executionTime": 0,
    "lastSuccessfullyExecutedCode": "# Replace hrs, mins, and 'Less than 1 minute'\naudible['time'] = audible.time.str.replace('hrs', 'hr')\naudible['time'] = audible.time.str.replace('mins', 'min')\naudible['time'] = audible.time.str.replace('Less than 1 minute', '1 min')"
   },
   "outputs": [],
   "source": [
    "# Replace hrs, mins, and 'Less than 1 minute'\n",
    "audible['time'] = audible.time.str.replace('hrs', 'hr')\n",
    "audible['time'] = audible.time.str.replace('mins', 'min')\n",
    "audible['time'] = audible.time.str.replace('Less than 1 minute', '1 min')"
   ]
  },
  {
   "cell_type": "markdown",
   "id": "0fbd3f46-a515-45de-a11d-95924ca328d2",
   "metadata": {},
   "source": [
    "Let's see how it looks now:"
   ]
  },
  {
   "cell_type": "code",
   "execution_count": 23,
   "id": "3bd64428-7256-44c6-b725-86cd38e86e63",
   "metadata": {
    "executionTime": 347,
    "lastSuccessfullyExecutedCode": "# Check the results\naudible[['time']]",
    "outputsMetadata": {
     "0": {
      "height": 323,
      "type": "dataFrame"
     }
    }
   },
   "outputs": [
    {
     "data": {
      "text/html": [
       "<div>\n",
       "<style scoped>\n",
       "    .dataframe tbody tr th:only-of-type {\n",
       "        vertical-align: middle;\n",
       "    }\n",
       "\n",
       "    .dataframe tbody tr th {\n",
       "        vertical-align: top;\n",
       "    }\n",
       "\n",
       "    .dataframe thead th {\n",
       "        text-align: right;\n",
       "    }\n",
       "</style>\n",
       "<table border=\"1\" class=\"dataframe\">\n",
       "  <thead>\n",
       "    <tr style=\"text-align: right;\">\n",
       "      <th></th>\n",
       "      <th>time</th>\n",
       "    </tr>\n",
       "  </thead>\n",
       "  <tbody>\n",
       "    <tr>\n",
       "      <th>0</th>\n",
       "      <td>2 hr and 20 min</td>\n",
       "    </tr>\n",
       "    <tr>\n",
       "      <th>1</th>\n",
       "      <td>13 hr and 8 min</td>\n",
       "    </tr>\n",
       "    <tr>\n",
       "      <th>2</th>\n",
       "      <td>2 hr and 3 min</td>\n",
       "    </tr>\n",
       "    <tr>\n",
       "      <th>3</th>\n",
       "      <td>11 hr and 16 min</td>\n",
       "    </tr>\n",
       "    <tr>\n",
       "      <th>4</th>\n",
       "      <td>10 hr</td>\n",
       "    </tr>\n",
       "    <tr>\n",
       "      <th>...</th>\n",
       "      <td>...</td>\n",
       "    </tr>\n",
       "    <tr>\n",
       "      <th>87484</th>\n",
       "      <td>7 hr and 34 min</td>\n",
       "    </tr>\n",
       "    <tr>\n",
       "      <th>87485</th>\n",
       "      <td>10 hr and 7 min</td>\n",
       "    </tr>\n",
       "    <tr>\n",
       "      <th>87486</th>\n",
       "      <td>19 hr and 4 min</td>\n",
       "    </tr>\n",
       "    <tr>\n",
       "      <th>87487</th>\n",
       "      <td>4 hr and 8 min</td>\n",
       "    </tr>\n",
       "    <tr>\n",
       "      <th>87488</th>\n",
       "      <td>6 hr and 1 min</td>\n",
       "    </tr>\n",
       "  </tbody>\n",
       "</table>\n",
       "<p>87489 rows × 1 columns</p>\n",
       "</div>"
      ],
      "text/plain": [
       "                   time\n",
       "0       2 hr and 20 min\n",
       "1       13 hr and 8 min\n",
       "2        2 hr and 3 min\n",
       "3      11 hr and 16 min\n",
       "4                 10 hr\n",
       "...                 ...\n",
       "87484   7 hr and 34 min\n",
       "87485   10 hr and 7 min\n",
       "87486   19 hr and 4 min\n",
       "87487    4 hr and 8 min\n",
       "87488    6 hr and 1 min\n",
       "\n",
       "[87489 rows x 1 columns]"
      ]
     },
     "execution_count": 23,
     "metadata": {},
     "output_type": "execute_result"
    }
   ],
   "source": [
    "# Check the results\n",
    "audible[['time']]"
   ]
  },
  {
   "cell_type": "markdown",
   "id": "032528c9-c3cf-45a9-aa09-d3cda2d5f73f",
   "metadata": {},
   "source": [
    "The next step is to extract the number of hours and minutes from the text, then combine in a new `time_mins` column.\n",
    "\n",
    "### Instructions: \n",
    "* Extract the number of hours from `time`. Assign to the `hours` variable.\n",
    "* Extract the number of minutes from `time`. Assign to the `mins` variable.\n",
    "* Create the `time_mins` column combining hours and minutes."
   ]
  },
  {
   "cell_type": "code",
   "execution_count": 24,
   "id": "8cf70611-a69a-4111-9c41-74de4fbf5863",
   "metadata": {
    "executionTime": 389,
    "lastSuccessfullyExecutedCode": "# Extract the number of hours, turn to integer\nhours = audible['time'].str.extract('(\\d+) hr').fillna(0).astype(int)\n\n# Extract the number of minutes, turn to integer\nmins = audible['time'].str.extract('(\\d+) min').fillna(0).astype(int)\n\n# Combine hours and minutes into the time_mins column\naudible['time_mins'] = 60 * hours + mins\n\n# Check the results\naudible[['time_mins']]",
    "outputsMetadata": {
     "0": {
      "height": 323,
      "type": "dataFrame"
     }
    }
   },
   "outputs": [
    {
     "name": "stderr",
     "output_type": "stream",
     "text": [
      "<>:2: SyntaxWarning: invalid escape sequence '\\d'\n",
      "<>:5: SyntaxWarning: invalid escape sequence '\\d'\n",
      "<>:2: SyntaxWarning: invalid escape sequence '\\d'\n",
      "<>:5: SyntaxWarning: invalid escape sequence '\\d'\n",
      "C:\\Users\\User\\AppData\\Local\\Temp\\ipykernel_29944\\593464601.py:2: SyntaxWarning: invalid escape sequence '\\d'\n",
      "  hours = audible['time'].str.extract('(\\d+) hr').fillna(0).astype(int)\n",
      "C:\\Users\\User\\AppData\\Local\\Temp\\ipykernel_29944\\593464601.py:5: SyntaxWarning: invalid escape sequence '\\d'\n",
      "  mins = audible['time'].str.extract('(\\d+) min').fillna(0).astype(int)\n"
     ]
    },
    {
     "data": {
      "text/html": [
       "<div>\n",
       "<style scoped>\n",
       "    .dataframe tbody tr th:only-of-type {\n",
       "        vertical-align: middle;\n",
       "    }\n",
       "\n",
       "    .dataframe tbody tr th {\n",
       "        vertical-align: top;\n",
       "    }\n",
       "\n",
       "    .dataframe thead th {\n",
       "        text-align: right;\n",
       "    }\n",
       "</style>\n",
       "<table border=\"1\" class=\"dataframe\">\n",
       "  <thead>\n",
       "    <tr style=\"text-align: right;\">\n",
       "      <th></th>\n",
       "      <th>time_mins</th>\n",
       "    </tr>\n",
       "  </thead>\n",
       "  <tbody>\n",
       "    <tr>\n",
       "      <th>0</th>\n",
       "      <td>140</td>\n",
       "    </tr>\n",
       "    <tr>\n",
       "      <th>1</th>\n",
       "      <td>788</td>\n",
       "    </tr>\n",
       "    <tr>\n",
       "      <th>2</th>\n",
       "      <td>123</td>\n",
       "    </tr>\n",
       "    <tr>\n",
       "      <th>3</th>\n",
       "      <td>676</td>\n",
       "    </tr>\n",
       "    <tr>\n",
       "      <th>4</th>\n",
       "      <td>600</td>\n",
       "    </tr>\n",
       "    <tr>\n",
       "      <th>...</th>\n",
       "      <td>...</td>\n",
       "    </tr>\n",
       "    <tr>\n",
       "      <th>87484</th>\n",
       "      <td>454</td>\n",
       "    </tr>\n",
       "    <tr>\n",
       "      <th>87485</th>\n",
       "      <td>607</td>\n",
       "    </tr>\n",
       "    <tr>\n",
       "      <th>87486</th>\n",
       "      <td>1144</td>\n",
       "    </tr>\n",
       "    <tr>\n",
       "      <th>87487</th>\n",
       "      <td>248</td>\n",
       "    </tr>\n",
       "    <tr>\n",
       "      <th>87488</th>\n",
       "      <td>361</td>\n",
       "    </tr>\n",
       "  </tbody>\n",
       "</table>\n",
       "<p>87489 rows × 1 columns</p>\n",
       "</div>"
      ],
      "text/plain": [
       "       time_mins\n",
       "0            140\n",
       "1            788\n",
       "2            123\n",
       "3            676\n",
       "4            600\n",
       "...          ...\n",
       "87484        454\n",
       "87485        607\n",
       "87486       1144\n",
       "87487        248\n",
       "87488        361\n",
       "\n",
       "[87489 rows x 1 columns]"
      ]
     },
     "execution_count": 24,
     "metadata": {},
     "output_type": "execute_result"
    }
   ],
   "source": [
    "# Extract the number of hours, turn to integer\n",
    "hours = audible['time'].str.extract('(\\d+) hr').fillna(0).astype(int)\n",
    "\n",
    "# Extract the number of minutes, turn to integer\n",
    "mins = audible['time'].str.extract('(\\d+) min').fillna(0).astype(int)\n",
    "\n",
    "# Combine hours and minutes into the time_mins column\n",
    "audible['time_mins'] = 60 * hours + mins\n",
    "\n",
    "# Check the results\n",
    "audible[['time_mins']]"
   ]
  },
  {
   "cell_type": "markdown",
   "id": "ec7ece51-0692-4dd4-ae0c-2735b016269a",
   "metadata": {},
   "source": [
    "And as final step, let's delete the columns we don't need any more:"
   ]
  },
  {
   "cell_type": "code",
   "execution_count": 25,
   "id": "54b40957-1dce-402f-8acc-632a5d3de756",
   "metadata": {
    "executionTime": 0,
    "lastSuccessfullyExecutedCode": "# Drop the time column\naudible.drop(columns=['time'], axis=1, inplace=True)"
   },
   "outputs": [],
   "source": [
    "# Drop the time column\n",
    "audible.drop(columns=['time'], axis=1, inplace=True)"
   ]
  },
  {
   "cell_type": "markdown",
   "id": "b03b6682-1165-4304-9722-b0f0e8065f0c",
   "metadata": {},
   "source": [
    "Here is how our dataframe looks now:"
   ]
  },
  {
   "cell_type": "code",
   "execution_count": 26,
   "id": "ade24183-d3f6-4b3d-b380-e4cfa8bb0684",
   "metadata": {
    "executionTime": 24,
    "lastSuccessfullyExecutedCode": "# Inspect the dataframe \naudible.info()",
    "outputsMetadata": {
     "0": {
      "height": 337,
      "type": "stream"
     }
    }
   },
   "outputs": [
    {
     "name": "stdout",
     "output_type": "stream",
     "text": [
      "<class 'pandas.core.frame.DataFrame'>\n",
      "RangeIndex: 87489 entries, 0 to 87488\n",
      "Data columns (total 9 columns):\n",
      " #   Column        Non-Null Count  Dtype         \n",
      "---  ------        --------------  -----         \n",
      " 0   name          87489 non-null  object        \n",
      " 1   author        87489 non-null  object        \n",
      " 2   narrator      87489 non-null  object        \n",
      " 3   releasedate   87489 non-null  datetime64[ns]\n",
      " 4   language      87489 non-null  object        \n",
      " 5   price         87489 non-null  float64       \n",
      " 6   rating_stars  15072 non-null  category      \n",
      " 7   n_ratings     15072 non-null  float64       \n",
      " 8   time_mins     87489 non-null  int64         \n",
      "dtypes: category(1), datetime64[ns](1), float64(2), int64(1), object(4)\n",
      "memory usage: 5.4+ MB\n"
     ]
    }
   ],
   "source": [
    "# Inspect the dataframe \n",
    "audible.info()"
   ]
  },
  {
   "cell_type": "markdown",
   "id": "bc18846c-6bab-4089-9471-4cbf62b9234c",
   "metadata": {},
   "source": [
    "## Task 6: Check data ranges\n",
    "\n",
    "Another important step is to confirm that the values in our columns are in the expected ranges and that we don't have out-of-range values.\n",
    "\n",
    "Let's create a histogram of the numeric columns to visually inspect ht ranges and the shape of the distribution:"
   ]
  },
  {
   "cell_type": "code",
   "execution_count": 27,
   "id": "71bc7a0f-95dd-47df-a72e-0210289291ea",
   "metadata": {
    "executionTime": 37,
    "lastSuccessfullyExecutedCode": "# Plot histograms of all the numerical columns\naudible.hist(figsize=(10,10), bins=100)\nplt.show()"
   },
   "outputs": [
    {
     "data": {
      "image/png": "[encoded data removed]",
      "text/plain": [
       "<Figure size 1000x1000 with 4 Axes>"
      ]
     },
     "metadata": {},
     "output_type": "display_data"
    }
   ],
   "source": [
    "# Plot histograms of all the numerical columns\n",
    "audible.hist(figsize=(10,10), bins=100)\n",
    "plt.show()"
   ]
  },
  {
   "cell_type": "markdown",
   "id": "9e14b4b0-a419-43d8-8738-bee3b8611991",
   "metadata": {},
   "source": [
    "Additionally, we can use `.describe()` to look at a summary of our data"
   ]
  },
  {
   "cell_type": "code",
   "execution_count": 28,
   "id": "39bc28a5-28b5-4387-81a5-092812b8e5e5",
   "metadata": {
    "executionTime": 26,
    "lastSuccessfullyExecutedCode": "# Look at the numeric columns\naudible.describe()",
    "outputsMetadata": {
     "0": {
      "height": 273,
      "type": "dataFrame"
     }
    }
   },
   "outputs": [
    {
     "data": {
      "text/html": [
       "<div>\n",
       "<style scoped>\n",
       "    .dataframe tbody tr th:only-of-type {\n",
       "        vertical-align: middle;\n",
       "    }\n",
       "\n",
       "    .dataframe tbody tr th {\n",
       "        vertical-align: top;\n",
       "    }\n",
       "\n",
       "    .dataframe thead th {\n",
       "        text-align: right;\n",
       "    }\n",
       "</style>\n",
       "<table border=\"1\" class=\"dataframe\">\n",
       "  <thead>\n",
       "    <tr style=\"text-align: right;\">\n",
       "      <th></th>\n",
       "      <th>releasedate</th>\n",
       "      <th>price</th>\n",
       "      <th>n_ratings</th>\n",
       "      <th>time_mins</th>\n",
       "    </tr>\n",
       "  </thead>\n",
       "  <tbody>\n",
       "    <tr>\n",
       "      <th>count</th>\n",
       "      <td>87489</td>\n",
       "      <td>87489.000000</td>\n",
       "      <td>15072.000000</td>\n",
       "      <td>87489.000000</td>\n",
       "    </tr>\n",
       "    <tr>\n",
       "      <th>mean</th>\n",
       "      <td>2018-06-22 01:35:29.780886528</td>\n",
       "      <td>559.009246</td>\n",
       "      <td>21.613190</td>\n",
       "      <td>417.497663</td>\n",
       "    </tr>\n",
       "    <tr>\n",
       "      <th>min</th>\n",
       "      <td>1998-12-27 00:00:00</td>\n",
       "      <td>0.000000</td>\n",
       "      <td>1.000000</td>\n",
       "      <td>1.000000</td>\n",
       "    </tr>\n",
       "    <tr>\n",
       "      <th>25%</th>\n",
       "      <td>2016-08-30 00:00:00</td>\n",
       "      <td>268.000000</td>\n",
       "      <td>1.000000</td>\n",
       "      <td>142.000000</td>\n",
       "    </tr>\n",
       "    <tr>\n",
       "      <th>50%</th>\n",
       "      <td>2020-01-30 00:00:00</td>\n",
       "      <td>585.000000</td>\n",
       "      <td>2.000000</td>\n",
       "      <td>386.000000</td>\n",
       "    </tr>\n",
       "    <tr>\n",
       "      <th>75%</th>\n",
       "      <td>2021-08-04 00:00:00</td>\n",
       "      <td>755.000000</td>\n",
       "      <td>7.000000</td>\n",
       "      <td>584.000000</td>\n",
       "    </tr>\n",
       "    <tr>\n",
       "      <th>max</th>\n",
       "      <td>2025-11-14 00:00:00</td>\n",
       "      <td>7198.000000</td>\n",
       "      <td>12573.000000</td>\n",
       "      <td>8595.000000</td>\n",
       "    </tr>\n",
       "    <tr>\n",
       "      <th>std</th>\n",
       "      <td>NaN</td>\n",
       "      <td>336.096642</td>\n",
       "      <td>207.479634</td>\n",
       "      <td>364.559399</td>\n",
       "    </tr>\n",
       "  </tbody>\n",
       "</table>\n",
       "</div>"
      ],
      "text/plain": [
       "                         releasedate         price     n_ratings     time_mins\n",
       "count                          87489  87489.000000  15072.000000  87489.000000\n",
       "mean   2018-06-22 01:35:29.780886528    559.009246     21.613190    417.497663\n",
       "min              1998-12-27 00:00:00      0.000000      1.000000      1.000000\n",
       "25%              2016-08-30 00:00:00    268.000000      1.000000    142.000000\n",
       "50%              2020-01-30 00:00:00    585.000000      2.000000    386.000000\n",
       "75%              2021-08-04 00:00:00    755.000000      7.000000    584.000000\n",
       "max              2025-11-14 00:00:00   7198.000000  12573.000000   8595.000000\n",
       "std                              NaN    336.096642    207.479634    364.559399"
      ]
     },
     "execution_count": 28,
     "metadata": {},
     "output_type": "execute_result"
    }
   ],
   "source": [
    "# Look at the numeric columns\n",
    "audible.describe()"
   ]
  },
  {
   "cell_type": "code",
   "execution_count": 29,
   "id": "3a61f89b-76d8-4793-8fe8-cb470ea84966",
   "metadata": {
    "chartConfig": {
     "bar": {
      "hasRoundedCorners": true,
      "stacked": false
     },
     "type": "bar",
     "version": "v1"
    },
    "executionTime": 101,
    "lastSuccessfullyExecutedCode": "# Look at the non numeric columns\naudible.describe(exclude=[np.number])",
    "outputsMetadata": {
     "0": {
      "height": 223,
      "type": "dataFrame"
     }
    },
    "visualizeDataframe": false
   },
   "outputs": [
    {
     "data": {
      "text/html": [
       "<div>\n",
       "<style scoped>\n",
       "    .dataframe tbody tr th:only-of-type {\n",
       "        vertical-align: middle;\n",
       "    }\n",
       "\n",
       "    .dataframe tbody tr th {\n",
       "        vertical-align: top;\n",
       "    }\n",
       "\n",
       "    .dataframe thead th {\n",
       "        text-align: right;\n",
       "    }\n",
       "</style>\n",
       "<table border=\"1\" class=\"dataframe\">\n",
       "  <thead>\n",
       "    <tr style=\"text-align: right;\">\n",
       "      <th></th>\n",
       "      <th>name</th>\n",
       "      <th>author</th>\n",
       "      <th>narrator</th>\n",
       "      <th>releasedate</th>\n",
       "      <th>language</th>\n",
       "      <th>rating_stars</th>\n",
       "    </tr>\n",
       "  </thead>\n",
       "  <tbody>\n",
       "    <tr>\n",
       "      <th>count</th>\n",
       "      <td>87489</td>\n",
       "      <td>87489</td>\n",
       "      <td>87489</td>\n",
       "      <td>87489</td>\n",
       "      <td>87489</td>\n",
       "      <td>15072.0</td>\n",
       "    </tr>\n",
       "    <tr>\n",
       "      <th>unique</th>\n",
       "      <td>82767</td>\n",
       "      <td>48374</td>\n",
       "      <td>29717</td>\n",
       "      <td>NaN</td>\n",
       "      <td>36</td>\n",
       "      <td>9.0</td>\n",
       "    </tr>\n",
       "    <tr>\n",
       "      <th>top</th>\n",
       "      <td>The Art of War</td>\n",
       "      <td>矢島雅弘,石橋遊</td>\n",
       "      <td>anonymous</td>\n",
       "      <td>NaN</td>\n",
       "      <td>English</td>\n",
       "      <td>5.0</td>\n",
       "    </tr>\n",
       "    <tr>\n",
       "      <th>freq</th>\n",
       "      <td>20</td>\n",
       "      <td>874</td>\n",
       "      <td>1034</td>\n",
       "      <td>NaN</td>\n",
       "      <td>61884</td>\n",
       "      <td>6761.0</td>\n",
       "    </tr>\n",
       "    <tr>\n",
       "      <th>mean</th>\n",
       "      <td>NaN</td>\n",
       "      <td>NaN</td>\n",
       "      <td>NaN</td>\n",
       "      <td>2018-06-22 01:35:29.780886528</td>\n",
       "      <td>NaN</td>\n",
       "      <td>NaN</td>\n",
       "    </tr>\n",
       "    <tr>\n",
       "      <th>min</th>\n",
       "      <td>NaN</td>\n",
       "      <td>NaN</td>\n",
       "      <td>NaN</td>\n",
       "      <td>1998-12-27 00:00:00</td>\n",
       "      <td>NaN</td>\n",
       "      <td>NaN</td>\n",
       "    </tr>\n",
       "    <tr>\n",
       "      <th>25%</th>\n",
       "      <td>NaN</td>\n",
       "      <td>NaN</td>\n",
       "      <td>NaN</td>\n",
       "      <td>2016-08-30 00:00:00</td>\n",
       "      <td>NaN</td>\n",
       "      <td>NaN</td>\n",
       "    </tr>\n",
       "    <tr>\n",
       "      <th>50%</th>\n",
       "      <td>NaN</td>\n",
       "      <td>NaN</td>\n",
       "      <td>NaN</td>\n",
       "      <td>2020-01-30 00:00:00</td>\n",
       "      <td>NaN</td>\n",
       "      <td>NaN</td>\n",
       "    </tr>\n",
       "    <tr>\n",
       "      <th>75%</th>\n",
       "      <td>NaN</td>\n",
       "      <td>NaN</td>\n",
       "      <td>NaN</td>\n",
       "      <td>2021-08-04 00:00:00</td>\n",
       "      <td>NaN</td>\n",
       "      <td>NaN</td>\n",
       "    </tr>\n",
       "    <tr>\n",
       "      <th>max</th>\n",
       "      <td>NaN</td>\n",
       "      <td>NaN</td>\n",
       "      <td>NaN</td>\n",
       "      <td>2025-11-14 00:00:00</td>\n",
       "      <td>NaN</td>\n",
       "      <td>NaN</td>\n",
       "    </tr>\n",
       "  </tbody>\n",
       "</table>\n",
       "</div>"
      ],
      "text/plain": [
       "                  name    author   narrator                    releasedate  \\\n",
       "count            87489     87489      87489                          87489   \n",
       "unique           82767     48374      29717                            NaN   \n",
       "top     The Art of War  矢島雅弘,石橋遊  anonymous                            NaN   \n",
       "freq                20       874       1034                            NaN   \n",
       "mean               NaN       NaN        NaN  2018-06-22 01:35:29.780886528   \n",
       "min                NaN       NaN        NaN            1998-12-27 00:00:00   \n",
       "25%                NaN       NaN        NaN            2016-08-30 00:00:00   \n",
       "50%                NaN       NaN        NaN            2020-01-30 00:00:00   \n",
       "75%                NaN       NaN        NaN            2021-08-04 00:00:00   \n",
       "max                NaN       NaN        NaN            2025-11-14 00:00:00   \n",
       "\n",
       "       language  rating_stars  \n",
       "count     87489       15072.0  \n",
       "unique       36           9.0  \n",
       "top     English           5.0  \n",
       "freq      61884        6761.0  \n",
       "mean        NaN           NaN  \n",
       "min         NaN           NaN  \n",
       "25%         NaN           NaN  \n",
       "50%         NaN           NaN  \n",
       "75%         NaN           NaN  \n",
       "max         NaN           NaN  "
      ]
     },
     "execution_count": 29,
     "metadata": {},
     "output_type": "execute_result"
    }
   ],
   "source": [
    "# Look at the non numeric columns\n",
    "audible.describe(exclude=[np.number])"
   ]
  },
  {
   "cell_type": "markdown",
   "id": "1e382f9e-0beb-4855-88fd-579106ba7b0a",
   "metadata": {},
   "source": [
    "We will transform the prices in `price` to USD for this exercise. We can use the exchange rate of 1 USD = 0.012 INR:"
   ]
  },
  {
   "cell_type": "code",
   "execution_count": 30,
   "id": "22cd90ab-53cc-40e2-a90a-2439991ddbfc",
   "metadata": {
    "collapsed": false,
    "executionTime": 38,
    "jupyter": {
     "outputs_hidden": false,
     "source_hidden": false
    },
    "lastSuccessfullyExecutedCode": "# Transform prices to USD (multiply times 0.012)\naudible['price'] = audible.price * .012\n\n# Check the results\naudible['price'].describe()"
   },
   "outputs": [
    {
     "data": {
      "text/plain": [
       "count    87489.000000\n",
       "mean         6.708111\n",
       "std          4.033160\n",
       "min          0.000000\n",
       "25%          3.216000\n",
       "50%          7.020000\n",
       "75%          9.060000\n",
       "max         86.376000\n",
       "Name: price, dtype: float64"
      ]
     },
     "execution_count": 30,
     "metadata": {},
     "output_type": "execute_result"
    }
   ],
   "source": [
    "# Transform prices to USD (multiply times 0.012)\n",
    "audible['price'] = audible.price * .012\n",
    "\n",
    "# Check the results\n",
    "audible['price'].describe()"
   ]
  },
  {
   "cell_type": "markdown",
   "id": "c04ca8b7-516d-4446-ab3a-1da7766c04b7",
   "metadata": {},
   "source": [
    "There values in the `language` column have different capitalization. Let's fix that."
   ]
  },
  {
   "cell_type": "code",
   "execution_count": 31,
   "id": "f5af1078-c6b0-4751-92f4-c9b914b0d3a6",
   "metadata": {
    "executionTime": 18,
    "lastSuccessfullyExecutedCode": "# Inspect the language column before making changes\naudible.language.unique()"
   },
   "outputs": [
    {
     "data": {
      "text/plain": [
       "array(['English', 'Hindi', 'spanish', 'german', 'french', 'catalan',\n",
       "       'swedish', 'italian', 'danish', 'finnish', 'dutch', 'hebrew',\n",
       "       'russian', 'polish', 'galician', 'afrikaans', 'icelandic',\n",
       "       'romanian', 'japanese', 'tamil', 'portuguese', 'urdu', 'hungarian',\n",
       "       'czech', 'bulgarian', 'mandarin_chinese', 'basque', 'korean',\n",
       "       'arabic', 'greek', 'turkish', 'ukrainian', 'slovene', 'norwegian',\n",
       "       'telugu', 'lithuanian'], dtype=object)"
      ]
     },
     "execution_count": 31,
     "metadata": {},
     "output_type": "execute_result"
    }
   ],
   "source": [
    "# Inspect the language column before making changes\n",
    "audible.language.unique()"
   ]
  },
  {
   "cell_type": "code",
   "execution_count": 32,
   "id": "2bbd1927-f090-45f7-b66b-ca3ee8bfba9d",
   "metadata": {
    "executionTime": 23,
    "lastSuccessfullyExecutedCode": "# Update capitalization in the language column\naudible['language'] = audible.language.str.capitalize()\n\n# Check the results\naudible.language.unique()"
   },
   "outputs": [
    {
     "data": {
      "text/plain": [
       "array(['English', 'Hindi', 'Spanish', 'German', 'French', 'Catalan',\n",
       "       'Swedish', 'Italian', 'Danish', 'Finnish', 'Dutch', 'Hebrew',\n",
       "       'Russian', 'Polish', 'Galician', 'Afrikaans', 'Icelandic',\n",
       "       'Romanian', 'Japanese', 'Tamil', 'Portuguese', 'Urdu', 'Hungarian',\n",
       "       'Czech', 'Bulgarian', 'Mandarin_chinese', 'Basque', 'Korean',\n",
       "       'Arabic', 'Greek', 'Turkish', 'Ukrainian', 'Slovene', 'Norwegian',\n",
       "       'Telugu', 'Lithuanian'], dtype=object)"
      ]
     },
     "execution_count": 32,
     "metadata": {},
     "output_type": "execute_result"
    }
   ],
   "source": [
    "# Update capitalization in the language column\n",
    "audible['language'] = audible.language.str.capitalize()\n",
    "\n",
    "# Check the results\n",
    "audible.language.unique()"
   ]
  },
  {
   "cell_type": "markdown",
   "id": "6b697677-a8bc-4b1b-9ce9-7d38906c5a23",
   "metadata": {},
   "source": [
    "## Task 7: Checking for duplicates\n",
    "\n",
    "How many duplicates do we have?\n",
    "\n",
    "As a first step look for duplicates using `.duplicated()` and `.sum()`:"
   ]
  },
  {
   "cell_type": "code",
   "execution_count": 33,
   "id": "f5d2ed76-44d5-4d68-bc39-41e70df5349b",
   "metadata": {
    "executionTime": 16,
    "lastSuccessfullyExecutedCode": "# Look for duplicate rows\naudible.duplicated().sum()"
   },
   "outputs": [
    {
     "data": {
      "text/plain": [
       "np.int64(0)"
      ]
     },
     "execution_count": 33,
     "metadata": {},
     "output_type": "execute_result"
    }
   ],
   "source": [
    "# Look for duplicate rows\n",
    "audible.duplicated().sum()"
   ]
  },
  {
   "cell_type": "markdown",
   "id": "07c5e07a-ea4b-4583-afa0-b8a9f96782ce",
   "metadata": {},
   "source": [
    "It is useful to look for duplicates only using a subset of the columns that make sense. We will use the following subset of columns:\n",
    "* name\n",
    "* author\n",
    "* narrator\n",
    "* time_mins\n",
    "* price\n",
    "\n",
    "Here we use `.duplicated()` again, but with our subset of columns."
   ]
  },
  {
   "cell_type": "code",
   "execution_count": 34,
   "id": "2ce4ccbb-4f84-4df9-ad8d-a6e91462ddf3",
   "metadata": {
    "executionTime": 24,
    "lastSuccessfullyExecutedCode": "# Create a list of our subset columns and assign to subset\nsubset_cols=['name', 'author', 'narrator', 'time_mins', 'price']\n\n# Check for duplicates using our subset of columns\naudible.duplicated(subset=subset_cols).sum()"
   },
   "outputs": [
    {
     "data": {
      "text/plain": [
       "np.int64(70)"
      ]
     },
     "execution_count": 34,
     "metadata": {},
     "output_type": "execute_result"
    }
   ],
   "source": [
    "# Create a list of our subset columns and assign to subset_cols\n",
    "subset_cols=['name', 'author', 'narrator', 'time_mins', 'price']\n",
    "\n",
    "# Check for duplicates using our subset of columns\n",
    "audible.duplicated(subset=subset_cols).sum()"
   ]
  },
  {
   "cell_type": "markdown",
   "id": "ad1dd974-3579-4443-96d1-46df909c54b1",
   "metadata": {},
   "source": [
    "Let's look at those values (use `keep=false`) and see what is going on:"
   ]
  },
  {
   "cell_type": "code",
   "execution_count": 35,
   "id": "6d1fe8ea-31f7-4d46-bf7f-9d55220e6137",
   "metadata": {
    "executionTime": 51,
    "lastSuccessfullyExecutedCode": "# Check the duplicated rows keeping the duplicates and order by the name column\naudible[audible.duplicated(subset=subset_cols, keep=False)].sort_values(by=['name'])",
    "outputsMetadata": {
     "0": {
      "height": 323,
      "type": "dataFrame"
     }
    }
   },
   "outputs": [
    {
     "data": {
      "text/html": [
       "<div>\n",
       "<style scoped>\n",
       "    .dataframe tbody tr th:only-of-type {\n",
       "        vertical-align: middle;\n",
       "    }\n",
       "\n",
       "    .dataframe tbody tr th {\n",
       "        vertical-align: top;\n",
       "    }\n",
       "\n",
       "    .dataframe thead th {\n",
       "        text-align: right;\n",
       "    }\n",
       "</style>\n",
       "<table border=\"1\" class=\"dataframe\">\n",
       "  <thead>\n",
       "    <tr style=\"text-align: right;\">\n",
       "      <th></th>\n",
       "      <th>name</th>\n",
       "      <th>author</th>\n",
       "      <th>narrator</th>\n",
       "      <th>releasedate</th>\n",
       "      <th>language</th>\n",
       "      <th>price</th>\n",
       "      <th>rating_stars</th>\n",
       "      <th>n_ratings</th>\n",
       "      <th>time_mins</th>\n",
       "    </tr>\n",
       "  </thead>\n",
       "  <tbody>\n",
       "    <tr>\n",
       "      <th>63978</th>\n",
       "      <td>\"Das Böse ist des Menschen beste Kraft\"</td>\n",
       "      <td>ChristianLiederer</td>\n",
       "      <td>ThomasKrause</td>\n",
       "      <td>2021-12-14</td>\n",
       "      <td>German</td>\n",
       "      <td>2.796</td>\n",
       "      <td>NaN</td>\n",
       "      <td>NaN</td>\n",
       "      <td>144</td>\n",
       "    </tr>\n",
       "    <tr>\n",
       "      <th>63965</th>\n",
       "      <td>\"Das Böse ist des Menschen beste Kraft\"</td>\n",
       "      <td>ChristianLiederer</td>\n",
       "      <td>ThomasKrause</td>\n",
       "      <td>2021-12-23</td>\n",
       "      <td>German</td>\n",
       "      <td>2.796</td>\n",
       "      <td>NaN</td>\n",
       "      <td>NaN</td>\n",
       "      <td>144</td>\n",
       "    </tr>\n",
       "    <tr>\n",
       "      <th>24625</th>\n",
       "      <td>90 Minutes in Heaven</td>\n",
       "      <td>DonPiper,CecilMurphey</td>\n",
       "      <td>DonPiper</td>\n",
       "      <td>2015-09-25</td>\n",
       "      <td>English</td>\n",
       "      <td>7.032</td>\n",
       "      <td>NaN</td>\n",
       "      <td>NaN</td>\n",
       "      <td>495</td>\n",
       "    </tr>\n",
       "    <tr>\n",
       "      <th>24116</th>\n",
       "      <td>90 Minutes in Heaven</td>\n",
       "      <td>DonPiper,CecilMurphey</td>\n",
       "      <td>DonPiper</td>\n",
       "      <td>2020-10-15</td>\n",
       "      <td>English</td>\n",
       "      <td>7.032</td>\n",
       "      <td>NaN</td>\n",
       "      <td>NaN</td>\n",
       "      <td>495</td>\n",
       "    </tr>\n",
       "    <tr>\n",
       "      <th>16971</th>\n",
       "      <td>Adagio in Dm</td>\n",
       "      <td>BillBrown</td>\n",
       "      <td>BillBrown</td>\n",
       "      <td>2021-06-08</td>\n",
       "      <td>English</td>\n",
       "      <td>5.472</td>\n",
       "      <td>NaN</td>\n",
       "      <td>NaN</td>\n",
       "      <td>78</td>\n",
       "    </tr>\n",
       "    <tr>\n",
       "      <th>...</th>\n",
       "      <td>...</td>\n",
       "      <td>...</td>\n",
       "      <td>...</td>\n",
       "      <td>...</td>\n",
       "      <td>...</td>\n",
       "      <td>...</td>\n",
       "      <td>...</td>\n",
       "      <td>...</td>\n",
       "      <td>...</td>\n",
       "    </tr>\n",
       "    <tr>\n",
       "      <th>18338</th>\n",
       "      <td>What I Talk About When I Talk About Running</td>\n",
       "      <td>HarukiMurakami</td>\n",
       "      <td>RayPorter</td>\n",
       "      <td>2016-07-07</td>\n",
       "      <td>English</td>\n",
       "      <td>4.776</td>\n",
       "      <td>4.5</td>\n",
       "      <td>193.0</td>\n",
       "      <td>263</td>\n",
       "    </tr>\n",
       "    <tr>\n",
       "      <th>38021</th>\n",
       "      <td>When Women Ruled the World</td>\n",
       "      <td>KaraCooney</td>\n",
       "      <td>KaraCooney</td>\n",
       "      <td>2018-11-30</td>\n",
       "      <td>English</td>\n",
       "      <td>10.032</td>\n",
       "      <td>4.5</td>\n",
       "      <td>14.0</td>\n",
       "      <td>555</td>\n",
       "    </tr>\n",
       "    <tr>\n",
       "      <th>20260</th>\n",
       "      <td>When Women Ruled the World</td>\n",
       "      <td>KaraCooney</td>\n",
       "      <td>KaraCooney</td>\n",
       "      <td>2018-11-30</td>\n",
       "      <td>English</td>\n",
       "      <td>10.032</td>\n",
       "      <td>4.5</td>\n",
       "      <td>13.0</td>\n",
       "      <td>555</td>\n",
       "    </tr>\n",
       "    <tr>\n",
       "      <th>22158</th>\n",
       "      <td>Wings of Fire</td>\n",
       "      <td>APJAbdulKalam,ArunTiwari</td>\n",
       "      <td>GirishKarnad</td>\n",
       "      <td>2020-01-04</td>\n",
       "      <td>English</td>\n",
       "      <td>0.900</td>\n",
       "      <td>5.0</td>\n",
       "      <td>1823.0</td>\n",
       "      <td>75</td>\n",
       "    </tr>\n",
       "    <tr>\n",
       "      <th>64428</th>\n",
       "      <td>Wings of Fire</td>\n",
       "      <td>APJAbdulKalam,ArunTiwari</td>\n",
       "      <td>GirishKarnad</td>\n",
       "      <td>2020-01-04</td>\n",
       "      <td>English</td>\n",
       "      <td>0.900</td>\n",
       "      <td>5.0</td>\n",
       "      <td>1827.0</td>\n",
       "      <td>75</td>\n",
       "    </tr>\n",
       "  </tbody>\n",
       "</table>\n",
       "<p>139 rows × 9 columns</p>\n",
       "</div>"
      ],
      "text/plain": [
       "                                              name                    author  \\\n",
       "63978      \"Das Böse ist des Menschen beste Kraft\"         ChristianLiederer   \n",
       "63965      \"Das Böse ist des Menschen beste Kraft\"         ChristianLiederer   \n",
       "24625                         90 Minutes in Heaven     DonPiper,CecilMurphey   \n",
       "24116                         90 Minutes in Heaven     DonPiper,CecilMurphey   \n",
       "16971                                 Adagio in Dm                 BillBrown   \n",
       "...                                            ...                       ...   \n",
       "18338  What I Talk About When I Talk About Running            HarukiMurakami   \n",
       "38021                   When Women Ruled the World                KaraCooney   \n",
       "20260                   When Women Ruled the World                KaraCooney   \n",
       "22158                                Wings of Fire  APJAbdulKalam,ArunTiwari   \n",
       "64428                                Wings of Fire  APJAbdulKalam,ArunTiwari   \n",
       "\n",
       "           narrator releasedate language   price rating_stars  n_ratings  \\\n",
       "63978  ThomasKrause  2021-12-14   German   2.796          NaN        NaN   \n",
       "63965  ThomasKrause  2021-12-23   German   2.796          NaN        NaN   \n",
       "24625      DonPiper  2015-09-25  English   7.032          NaN        NaN   \n",
       "24116      DonPiper  2020-10-15  English   7.032          NaN        NaN   \n",
       "16971     BillBrown  2021-06-08  English   5.472          NaN        NaN   \n",
       "...             ...         ...      ...     ...          ...        ...   \n",
       "18338     RayPorter  2016-07-07  English   4.776          4.5      193.0   \n",
       "38021    KaraCooney  2018-11-30  English  10.032          4.5       14.0   \n",
       "20260    KaraCooney  2018-11-30  English  10.032          4.5       13.0   \n",
       "22158  GirishKarnad  2020-01-04  English   0.900          5.0     1823.0   \n",
       "64428  GirishKarnad  2020-01-04  English   0.900          5.0     1827.0   \n",
       "\n",
       "       time_mins  \n",
       "63978        144  \n",
       "63965        144  \n",
       "24625        495  \n",
       "24116        495  \n",
       "16971         78  \n",
       "...          ...  \n",
       "18338        263  \n",
       "38021        555  \n",
       "20260        555  \n",
       "22158         75  \n",
       "64428         75  \n",
       "\n",
       "[139 rows x 9 columns]"
      ]
     },
     "execution_count": 35,
     "metadata": {},
     "output_type": "execute_result"
    }
   ],
   "source": [
    "# Check the duplicated rows keeping the duplicates and order by the name column\n",
    "audible[audible.duplicated(subset=subset_cols, keep=False)].sort_values(by=['name'])"
   ]
  },
  {
   "cell_type": "markdown",
   "id": "311c02af-9738-40c1-92b6-88ab1a71fc2f",
   "metadata": {},
   "source": [
    "We can see that the duplicates are for files with different release dates. We can decide to keep the record with the last release date.\n",
    "\n",
    "We will can use the `drop_duplicates()` method with the same subset and using `keep=last` to keep the last release date"
   ]
  },
  {
   "cell_type": "code",
   "execution_count": 36,
   "id": "93c6470a-fd3f-4624-b130-1e347e04d64b",
   "metadata": {
    "executionTime": 0,
    "lastSuccessfullyExecutedCode": "# Drop duplicated rows keeping the last release date\naudible.drop_duplicates(subset=subset_cols, keep='last', inplace=True)"
   },
   "outputs": [],
   "source": [
    "# Drop duplicated rows keeping the last release date\n",
    "audible.drop_duplicates(subset=subset_cols, keep='last', inplace=True)"
   ]
  },
  {
   "cell_type": "markdown",
   "id": "cdc50f0f-ba96-45e1-815f-605e9dd3fd06",
   "metadata": {},
   "source": [
    "We can check again for duplicates:"
   ]
  },
  {
   "cell_type": "code",
   "execution_count": 37,
   "id": "19a62e3b-3a6c-4a63-8e85-f46771fb86ec",
   "metadata": {
    "executionTime": 21,
    "lastSuccessfullyExecutedCode": "# Check again for duplicates using our subset of columns\naudible.duplicated(subset=subset_cols).sum()"
   },
   "outputs": [
    {
     "data": {
      "text/plain": [
       "np.int64(0)"
      ]
     },
     "execution_count": 37,
     "metadata": {},
     "output_type": "execute_result"
    }
   ],
   "source": [
    "# Check again for duplicates using our subset of columns\n",
    "audible.duplicated(subset=subset_cols).sum()"
   ]
  },
  {
   "cell_type": "markdown",
   "id": "88e86ba5-c4c4-4604-a15f-b5b582aedd92",
   "metadata": {},
   "source": [
    "## Task 8: Dealing with missing data\n",
    "\n",
    "Before we finish, let's take a look at missing data in our columns. We can use the `.isna()` method and chain it with `.sum()` to get the total:"
   ]
  },
  {
   "cell_type": "code",
   "execution_count": 38,
   "id": "cec72ccc-e505-42c7-9591-63fb7c60850b",
   "metadata": {
    "executionTime": 15,
    "lastSuccessfullyExecutedCode": "# Check for null values\naudible.isna().sum()"
   },
   "outputs": [
    {
     "data": {
      "text/plain": [
       "name                0\n",
       "author              0\n",
       "narrator            0\n",
       "releasedate         0\n",
       "language            0\n",
       "price               0\n",
       "rating_stars    72387\n",
       "n_ratings       72387\n",
       "time_mins           0\n",
       "dtype: int64"
      ]
     },
     "execution_count": 38,
     "metadata": {},
     "output_type": "execute_result"
    }
   ],
   "source": [
    "# Check for null values\n",
    "audible.isna().sum()"
   ]
  },
  {
   "cell_type": "markdown",
   "id": "794f5889-ad5d-48f2-8bf0-a9ec802586ca",
   "metadata": {},
   "source": [
    "We could turn the **NaN** values to 0 or another numeric value, or we could keep them. It depends on our use case.\n",
    "\n",
    "If we want to plot the ratings distribution, it can make sense to drop audiobooks with no ratings. But if we need to use the distribution of prices for our analysis, then removing audiobooks with no ratings will bias our results (since unrated audiobooks are likely more niche and might have a different pricing structure than rated audiobooks).\n",
    "\n",
    "We will keep the unrated audiobooks for now."
   ]
  },
  {
   "cell_type": "markdown",
   "id": "1ee82272-cd9b-48d3-b2c3-a961a36153fb",
   "metadata": {},
   "source": [
    "## Task 9: Save the cleaned data set\n",
    "\n",
    "We can use the `.to_csv` method to save the clean file. We include `index=False` so that we don't also copy the current index to our destination file."
   ]
  },
  {
   "cell_type": "code",
   "execution_count": 39,
   "id": "025c632b-20ba-4f53-98fc-39897869c447",
   "metadata": {
    "executionTime": 0,
    "lastSuccessfullyExecutedCode": "# Save the dataframe to a new file: 'audible_clean.csv'\naudible.to_csv('data/audible_clean.csv', index=False)"
   },
   "outputs": [
    {
     "ename": "OSError",
     "evalue": "Cannot save file into a non-existent directory: 'data'",
     "output_type": "error",
     "traceback": [
      "\u001b[1;31m---------------------------------------------------------------------------\u001b[0m",
      "\u001b[1;31mOSError\u001b[0m                                   Traceback (most recent call last)",
      "Cell \u001b[1;32mIn[39], line 2\u001b[0m\n\u001b[0;32m      1\u001b[0m \u001b[38;5;66;03m# Save the dataframe to a new file: 'audible_clean.csv'\u001b[39;00m\n\u001b[1;32m----> 2\u001b[0m \u001b[43maudible\u001b[49m\u001b[38;5;241;43m.\u001b[39;49m\u001b[43mto_csv\u001b[49m\u001b[43m(\u001b[49m\u001b[38;5;124;43m'\u001b[39;49m\u001b[38;5;124;43mdata/audible_clean.csv\u001b[39;49m\u001b[38;5;124;43m'\u001b[39;49m\u001b[43m,\u001b[49m\u001b[43m \u001b[49m\u001b[43mindex\u001b[49m\u001b[38;5;241;43m=\u001b[39;49m\u001b[38;5;28;43;01mFalse\u001b[39;49;00m\u001b[43m)\u001b[49m\n",
      "File \u001b[1;32md:\\09_Projects\\08_DataCamp\\00_projects\\mmdt_data_projects\\.venv\\Lib\\site-packages\\pandas\\util\\_decorators.py:333\u001b[0m, in \u001b[0;36mdeprecate_nonkeyword_arguments.<locals>.decorate.<locals>.wrapper\u001b[1;34m(*args, **kwargs)\u001b[0m\n\u001b[0;32m    327\u001b[0m \u001b[38;5;28;01mif\u001b[39;00m \u001b[38;5;28mlen\u001b[39m(args) \u001b[38;5;241m>\u001b[39m num_allow_args:\n\u001b[0;32m    328\u001b[0m     warnings\u001b[38;5;241m.\u001b[39mwarn(\n\u001b[0;32m    329\u001b[0m         msg\u001b[38;5;241m.\u001b[39mformat(arguments\u001b[38;5;241m=\u001b[39m_format_argument_list(allow_args)),\n\u001b[0;32m    330\u001b[0m         \u001b[38;5;167;01mFutureWarning\u001b[39;00m,\n\u001b[0;32m    331\u001b[0m         stacklevel\u001b[38;5;241m=\u001b[39mfind_stack_level(),\n\u001b[0;32m    332\u001b[0m     )\n\u001b[1;32m--> 333\u001b[0m \u001b[38;5;28;01mreturn\u001b[39;00m \u001b[43mfunc\u001b[49m\u001b[43m(\u001b[49m\u001b[38;5;241;43m*\u001b[39;49m\u001b[43margs\u001b[49m\u001b[43m,\u001b[49m\u001b[43m \u001b[49m\u001b[38;5;241;43m*\u001b[39;49m\u001b[38;5;241;43m*\u001b[39;49m\u001b[43mkwargs\u001b[49m\u001b[43m)\u001b[49m\n",
      "File \u001b[1;32md:\\09_Projects\\08_DataCamp\\00_projects\\mmdt_data_projects\\.venv\\Lib\\site-packages\\pandas\\core\\generic.py:3967\u001b[0m, in \u001b[0;36mNDFrame.to_csv\u001b[1;34m(self, path_or_buf, sep, na_rep, float_format, columns, header, index, index_label, mode, encoding, compression, quoting, quotechar, lineterminator, chunksize, date_format, doublequote, escapechar, decimal, errors, storage_options)\u001b[0m\n\u001b[0;32m   3956\u001b[0m df \u001b[38;5;241m=\u001b[39m \u001b[38;5;28mself\u001b[39m \u001b[38;5;28;01mif\u001b[39;00m \u001b[38;5;28misinstance\u001b[39m(\u001b[38;5;28mself\u001b[39m, ABCDataFrame) \u001b[38;5;28;01melse\u001b[39;00m \u001b[38;5;28mself\u001b[39m\u001b[38;5;241m.\u001b[39mto_frame()\n\u001b[0;32m   3958\u001b[0m formatter \u001b[38;5;241m=\u001b[39m DataFrameFormatter(\n\u001b[0;32m   3959\u001b[0m     frame\u001b[38;5;241m=\u001b[39mdf,\n\u001b[0;32m   3960\u001b[0m     header\u001b[38;5;241m=\u001b[39mheader,\n\u001b[1;32m   (...)\u001b[0m\n\u001b[0;32m   3964\u001b[0m     decimal\u001b[38;5;241m=\u001b[39mdecimal,\n\u001b[0;32m   3965\u001b[0m )\n\u001b[1;32m-> 3967\u001b[0m \u001b[38;5;28;01mreturn\u001b[39;00m \u001b[43mDataFrameRenderer\u001b[49m\u001b[43m(\u001b[49m\u001b[43mformatter\u001b[49m\u001b[43m)\u001b[49m\u001b[38;5;241;43m.\u001b[39;49m\u001b[43mto_csv\u001b[49m\u001b[43m(\u001b[49m\n\u001b[0;32m   3968\u001b[0m \u001b[43m    \u001b[49m\u001b[43mpath_or_buf\u001b[49m\u001b[43m,\u001b[49m\n\u001b[0;32m   3969\u001b[0m \u001b[43m    \u001b[49m\u001b[43mlineterminator\u001b[49m\u001b[38;5;241;43m=\u001b[39;49m\u001b[43mlineterminator\u001b[49m\u001b[43m,\u001b[49m\n\u001b[0;32m   3970\u001b[0m \u001b[43m    \u001b[49m\u001b[43msep\u001b[49m\u001b[38;5;241;43m=\u001b[39;49m\u001b[43msep\u001b[49m\u001b[43m,\u001b[49m\n\u001b[0;32m   3971\u001b[0m \u001b[43m    \u001b[49m\u001b[43mencoding\u001b[49m\u001b[38;5;241;43m=\u001b[39;49m\u001b[43mencoding\u001b[49m\u001b[43m,\u001b[49m\n\u001b[0;32m   3972\u001b[0m \u001b[43m    \u001b[49m\u001b[43merrors\u001b[49m\u001b[38;5;241;43m=\u001b[39;49m\u001b[43merrors\u001b[49m\u001b[43m,\u001b[49m\n\u001b[0;32m   3973\u001b[0m \u001b[43m    \u001b[49m\u001b[43mcompression\u001b[49m\u001b[38;5;241;43m=\u001b[39;49m\u001b[43mcompression\u001b[49m\u001b[43m,\u001b[49m\n\u001b[0;32m   3974\u001b[0m \u001b[43m    \u001b[49m\u001b[43mquoting\u001b[49m\u001b[38;5;241;43m=\u001b[39;49m\u001b[43mquoting\u001b[49m\u001b[43m,\u001b[49m\n\u001b[0;32m   3975\u001b[0m \u001b[43m    \u001b[49m\u001b[43mcolumns\u001b[49m\u001b[38;5;241;43m=\u001b[39;49m\u001b[43mcolumns\u001b[49m\u001b[43m,\u001b[49m\n\u001b[0;32m   3976\u001b[0m \u001b[43m    \u001b[49m\u001b[43mindex_label\u001b[49m\u001b[38;5;241;43m=\u001b[39;49m\u001b[43mindex_label\u001b[49m\u001b[43m,\u001b[49m\n\u001b[0;32m   3977\u001b[0m \u001b[43m    \u001b[49m\u001b[43mmode\u001b[49m\u001b[38;5;241;43m=\u001b[39;49m\u001b[43mmode\u001b[49m\u001b[43m,\u001b[49m\n\u001b[0;32m   3978\u001b[0m \u001b[43m    \u001b[49m\u001b[43mchunksize\u001b[49m\u001b[38;5;241;43m=\u001b[39;49m\u001b[43mchunksize\u001b[49m\u001b[43m,\u001b[49m\n\u001b[0;32m   3979\u001b[0m \u001b[43m    \u001b[49m\u001b[43mquotechar\u001b[49m\u001b[38;5;241;43m=\u001b[39;49m\u001b[43mquotechar\u001b[49m\u001b[43m,\u001b[49m\n\u001b[0;32m   3980\u001b[0m \u001b[43m    \u001b[49m\u001b[43mdate_format\u001b[49m\u001b[38;5;241;43m=\u001b[39;49m\u001b[43mdate_format\u001b[49m\u001b[43m,\u001b[49m\n\u001b[0;32m   3981\u001b[0m \u001b[43m    \u001b[49m\u001b[43mdoublequote\u001b[49m\u001b[38;5;241;43m=\u001b[39;49m\u001b[43mdoublequote\u001b[49m\u001b[43m,\u001b[49m\n\u001b[0;32m   3982\u001b[0m \u001b[43m    \u001b[49m\u001b[43mescapechar\u001b[49m\u001b[38;5;241;43m=\u001b[39;49m\u001b[43mescapechar\u001b[49m\u001b[43m,\u001b[49m\n\u001b[0;32m   3983\u001b[0m \u001b[43m    \u001b[49m\u001b[43mstorage_options\u001b[49m\u001b[38;5;241;43m=\u001b[39;49m\u001b[43mstorage_options\u001b[49m\u001b[43m,\u001b[49m\n\u001b[0;32m   3984\u001b[0m \u001b[43m\u001b[49m\u001b[43m)\u001b[49m\n",
      "File \u001b[1;32md:\\09_Projects\\08_DataCamp\\00_projects\\mmdt_data_projects\\.venv\\Lib\\site-packages\\pandas\\io\\formats\\format.py:1014\u001b[0m, in \u001b[0;36mDataFrameRenderer.to_csv\u001b[1;34m(self, path_or_buf, encoding, sep, columns, index_label, mode, compression, quoting, quotechar, lineterminator, chunksize, date_format, doublequote, escapechar, errors, storage_options)\u001b[0m\n\u001b[0;32m    993\u001b[0m     created_buffer \u001b[38;5;241m=\u001b[39m \u001b[38;5;28;01mFalse\u001b[39;00m\n\u001b[0;32m    995\u001b[0m csv_formatter \u001b[38;5;241m=\u001b[39m CSVFormatter(\n\u001b[0;32m    996\u001b[0m     path_or_buf\u001b[38;5;241m=\u001b[39mpath_or_buf,\n\u001b[0;32m    997\u001b[0m     lineterminator\u001b[38;5;241m=\u001b[39mlineterminator,\n\u001b[1;32m   (...)\u001b[0m\n\u001b[0;32m   1012\u001b[0m     formatter\u001b[38;5;241m=\u001b[39m\u001b[38;5;28mself\u001b[39m\u001b[38;5;241m.\u001b[39mfmt,\n\u001b[0;32m   1013\u001b[0m )\n\u001b[1;32m-> 1014\u001b[0m \u001b[43mcsv_formatter\u001b[49m\u001b[38;5;241;43m.\u001b[39;49m\u001b[43msave\u001b[49m\u001b[43m(\u001b[49m\u001b[43m)\u001b[49m\n\u001b[0;32m   1016\u001b[0m \u001b[38;5;28;01mif\u001b[39;00m created_buffer:\n\u001b[0;32m   1017\u001b[0m     \u001b[38;5;28;01massert\u001b[39;00m \u001b[38;5;28misinstance\u001b[39m(path_or_buf, StringIO)\n",
      "File \u001b[1;32md:\\09_Projects\\08_DataCamp\\00_projects\\mmdt_data_projects\\.venv\\Lib\\site-packages\\pandas\\io\\formats\\csvs.py:251\u001b[0m, in \u001b[0;36mCSVFormatter.save\u001b[1;34m(self)\u001b[0m\n\u001b[0;32m    247\u001b[0m \u001b[38;5;250m\u001b[39m\u001b[38;5;124;03m\"\"\"\u001b[39;00m\n\u001b[0;32m    248\u001b[0m \u001b[38;5;124;03mCreate the writer & save.\u001b[39;00m\n\u001b[0;32m    249\u001b[0m \u001b[38;5;124;03m\"\"\"\u001b[39;00m\n\u001b[0;32m    250\u001b[0m \u001b[38;5;66;03m# apply compression and byte/text conversion\u001b[39;00m\n\u001b[1;32m--> 251\u001b[0m \u001b[38;5;28;01mwith\u001b[39;00m \u001b[43mget_handle\u001b[49m\u001b[43m(\u001b[49m\n\u001b[0;32m    252\u001b[0m \u001b[43m    \u001b[49m\u001b[38;5;28;43mself\u001b[39;49m\u001b[38;5;241;43m.\u001b[39;49m\u001b[43mfilepath_or_buffer\u001b[49m\u001b[43m,\u001b[49m\n\u001b[0;32m    253\u001b[0m \u001b[43m    \u001b[49m\u001b[38;5;28;43mself\u001b[39;49m\u001b[38;5;241;43m.\u001b[39;49m\u001b[43mmode\u001b[49m\u001b[43m,\u001b[49m\n\u001b[0;32m    254\u001b[0m \u001b[43m    \u001b[49m\u001b[43mencoding\u001b[49m\u001b[38;5;241;43m=\u001b[39;49m\u001b[38;5;28;43mself\u001b[39;49m\u001b[38;5;241;43m.\u001b[39;49m\u001b[43mencoding\u001b[49m\u001b[43m,\u001b[49m\n\u001b[0;32m    255\u001b[0m \u001b[43m    \u001b[49m\u001b[43merrors\u001b[49m\u001b[38;5;241;43m=\u001b[39;49m\u001b[38;5;28;43mself\u001b[39;49m\u001b[38;5;241;43m.\u001b[39;49m\u001b[43merrors\u001b[49m\u001b[43m,\u001b[49m\n\u001b[0;32m    256\u001b[0m \u001b[43m    \u001b[49m\u001b[43mcompression\u001b[49m\u001b[38;5;241;43m=\u001b[39;49m\u001b[38;5;28;43mself\u001b[39;49m\u001b[38;5;241;43m.\u001b[39;49m\u001b[43mcompression\u001b[49m\u001b[43m,\u001b[49m\n\u001b[0;32m    257\u001b[0m \u001b[43m    \u001b[49m\u001b[43mstorage_options\u001b[49m\u001b[38;5;241;43m=\u001b[39;49m\u001b[38;5;28;43mself\u001b[39;49m\u001b[38;5;241;43m.\u001b[39;49m\u001b[43mstorage_options\u001b[49m\u001b[43m,\u001b[49m\n\u001b[0;32m    258\u001b[0m \u001b[43m\u001b[49m\u001b[43m)\u001b[49m \u001b[38;5;28;01mas\u001b[39;00m handles:\n\u001b[0;32m    259\u001b[0m     \u001b[38;5;66;03m# Note: self.encoding is irrelevant here\u001b[39;00m\n\u001b[0;32m    260\u001b[0m     \u001b[38;5;28mself\u001b[39m\u001b[38;5;241m.\u001b[39mwriter \u001b[38;5;241m=\u001b[39m csvlib\u001b[38;5;241m.\u001b[39mwriter(\n\u001b[0;32m    261\u001b[0m         handles\u001b[38;5;241m.\u001b[39mhandle,\n\u001b[0;32m    262\u001b[0m         lineterminator\u001b[38;5;241m=\u001b[39m\u001b[38;5;28mself\u001b[39m\u001b[38;5;241m.\u001b[39mlineterminator,\n\u001b[1;32m   (...)\u001b[0m\n\u001b[0;32m    267\u001b[0m         quotechar\u001b[38;5;241m=\u001b[39m\u001b[38;5;28mself\u001b[39m\u001b[38;5;241m.\u001b[39mquotechar,\n\u001b[0;32m    268\u001b[0m     )\n\u001b[0;32m    270\u001b[0m     \u001b[38;5;28mself\u001b[39m\u001b[38;5;241m.\u001b[39m_save()\n",
      "File \u001b[1;32md:\\09_Projects\\08_DataCamp\\00_projects\\mmdt_data_projects\\.venv\\Lib\\site-packages\\pandas\\io\\common.py:749\u001b[0m, in \u001b[0;36mget_handle\u001b[1;34m(path_or_buf, mode, encoding, compression, memory_map, is_text, errors, storage_options)\u001b[0m\n\u001b[0;32m    747\u001b[0m \u001b[38;5;66;03m# Only for write methods\u001b[39;00m\n\u001b[0;32m    748\u001b[0m \u001b[38;5;28;01mif\u001b[39;00m \u001b[38;5;124m\"\u001b[39m\u001b[38;5;124mr\u001b[39m\u001b[38;5;124m\"\u001b[39m \u001b[38;5;129;01mnot\u001b[39;00m \u001b[38;5;129;01min\u001b[39;00m mode \u001b[38;5;129;01mand\u001b[39;00m is_path:\n\u001b[1;32m--> 749\u001b[0m     \u001b[43mcheck_parent_directory\u001b[49m\u001b[43m(\u001b[49m\u001b[38;5;28;43mstr\u001b[39;49m\u001b[43m(\u001b[49m\u001b[43mhandle\u001b[49m\u001b[43m)\u001b[49m\u001b[43m)\u001b[49m\n\u001b[0;32m    751\u001b[0m \u001b[38;5;28;01mif\u001b[39;00m compression:\n\u001b[0;32m    752\u001b[0m     \u001b[38;5;28;01mif\u001b[39;00m compression \u001b[38;5;241m!=\u001b[39m \u001b[38;5;124m\"\u001b[39m\u001b[38;5;124mzstd\u001b[39m\u001b[38;5;124m\"\u001b[39m:\n\u001b[0;32m    753\u001b[0m         \u001b[38;5;66;03m# compression libraries do not like an explicit text-mode\u001b[39;00m\n",
      "File \u001b[1;32md:\\09_Projects\\08_DataCamp\\00_projects\\mmdt_data_projects\\.venv\\Lib\\site-packages\\pandas\\io\\common.py:616\u001b[0m, in \u001b[0;36mcheck_parent_directory\u001b[1;34m(path)\u001b[0m\n\u001b[0;32m    614\u001b[0m parent \u001b[38;5;241m=\u001b[39m Path(path)\u001b[38;5;241m.\u001b[39mparent\n\u001b[0;32m    615\u001b[0m \u001b[38;5;28;01mif\u001b[39;00m \u001b[38;5;129;01mnot\u001b[39;00m parent\u001b[38;5;241m.\u001b[39mis_dir():\n\u001b[1;32m--> 616\u001b[0m     \u001b[38;5;28;01mraise\u001b[39;00m \u001b[38;5;167;01mOSError\u001b[39;00m(\u001b[38;5;124mrf\u001b[39m\u001b[38;5;124m\"\u001b[39m\u001b[38;5;124mCannot save file into a non-existent directory: \u001b[39m\u001b[38;5;124m'\u001b[39m\u001b[38;5;132;01m{\u001b[39;00mparent\u001b[38;5;132;01m}\u001b[39;00m\u001b[38;5;124m'\u001b[39m\u001b[38;5;124m\"\u001b[39m)\n",
      "\u001b[1;31mOSError\u001b[0m: Cannot save file into a non-existent directory: 'data'"
     ]
    }
   ],
   "source": [
    "# Save the dataframe to a new file: 'audible_clean.csv'\n",
    "audible.to_csv('data/audible_clean.csv', index=False)"
   ]
  }
 ],
 "metadata": {
  "editor": "DataCamp Workspace",
  "kernelspec": {
   "display_name": ".venv",
   "language": "python",
   "name": "python3"
  },
  "language_info": {
   "codemirror_mode": {
    "name": "ipython",
    "version": 3
   },
   "file_extension": ".py",
   "mimetype": "text/x-python",
   "name": "python",
   "nbconvert_exporter": "python",
   "pygments_lexer": "ipython3",
   "version": "3.12.2"
  }
 },
 "nbformat": 4,
 "nbformat_minor": 5
}
