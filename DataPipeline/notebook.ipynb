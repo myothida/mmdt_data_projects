{
 "cells": [
  {
   "cell_type": "markdown",
   "id": "ef36f535-4bdc-4e2b-a22a-179372324b26",
   "metadata": {},
   "source": [
    "![walmartecomm](walmartecomm.jpg)\n",
    "\n",
    "Walmart is the biggest retail store in the United States. Just like others, they have been expanding their e-commerce part of the business. By the end of 2022, e-commerce represented a roaring $80 billion in sales, which is 13% of total sales of Walmart. One of the main factors that affects their sales is public holidays, like the Super Bowl, Labour Day, Thanksgiving, and Christmas. \n",
    "\n",
    "In this project, you have been tasked with creating a data pipeline for the analysis of supply and demand around the holidays, along with conducting a preliminary analysis of the data. You will be working with two data sources: grocery sales and complementary data. You have been provided with the `grocery_sales` table in `PostgreSQL` database with the following features:\n",
    "\n",
    "# `grocery_sales`\n",
    "- `\"index\"` - unique ID of the row\n",
    "- `\"Store_ID\"` - the store number\n",
    "- `\"Date\"` - the week of sales\n",
    "- `\"Weekly_Sales\"` - sales for the given store\n",
    "\n",
    "Also, you have the `extra_data.parquet` file that contains complementary data:\n",
    "\n",
    "# `extra_data.parquet`\n",
    "- `\"IsHoliday\"` - Whether the week contains a public holiday - 1 if yes, 0 if no.\n",
    "- `\"Temperature\"` - Temperature on the day of sale\n",
    "- `\"Fuel_Price\"` - Cost of fuel in the region\n",
    "- `\"CPI\"` – Prevailing consumer price index\n",
    "- `\"Unemployment\"` - The prevailing unemployment rate\n",
    "- `\"MarkDown1\"`, `\"MarkDown2\"`, `\"MarkDown3\"`, `\"MarkDown4\"` - number of promotional markdowns\n",
    "- `\"Dept\"` - Department Number in each store\n",
    "- `\"Size\"` - size of the store\n",
    "- `\"Type\"` - type of the store (depends on `Size` column)\n",
    "\n",
    "You will need to merge those files and perform some data manipulations. The transformed DataFrame can then be stored as the `clean_data` variable containing the following columns:\n",
    "- `\"Store_ID\"`\n",
    "- `\"Month\"`\n",
    "- `\"Dept\"`\n",
    "- `\"IsHoliday\"`\n",
    "- `\"Weekly_Sales\"`\n",
    "- `\"CPI\"`\n",
    "- \"`\"Unemployment\"`\"\n",
    "\n",
    "After merging and cleaning the data, you will have to analyze monthly sales of Walmart and store the results of your analysis as the `agg_data` variable that should look like:\n",
    "\n",
    "|  Month | Weekly_Sales  | \n",
    "|---|---|\n",
    "| 1.0  |  33174.178494 |\n",
    "|  2.0 |  34333.326579 |\n",
    "|  ... | ...  |  \n",
    "\n",
    "Finally, you should save the `clean_data` and `agg_data` as the csv files.\n",
    "\n",
    "It is recommended to use `pandas` for this project. "
   ]
  },
  {
   "cell_type": "code",
   "execution_count": null,
   "id": "59fe49dc-cda5-4d22-bb10-49e94cdb6437",
   "metadata": {
    "collapsed": true,
    "customType": "sql",
    "dataFrameVariableName": "grocery_sales",
    "executionCancelledAt": null,
    "executionTime": 5248,
    "jupyter": {
     "outputs_hidden": true,
     "source_hidden": false
    },
    "lastExecutedAt": 1725955154815,
    "lastExecutedByKernel": "a1aaa64c-395b-4456-b629-3a896bb5fb1b",
    "lastScheduledRunId": null,
    "lastSuccessfullyExecutedCode": "-- Write your SQL query here\nSELECT * FROM grocery_sales",
    "outputsMetadata": {
     "0": {
      "height": 316,
      "type": "dataFrame"
     }
    },
    "sqlCellMode": "dataFrame",
    "sqlSource": {
     "integrationId": "89e17161-a224-4a8a-846b-0adc0fe7a4b1",
     "type": "integration"
    }
   },
   "outputs": [],
   "source": [
    "import pandas as pd\n",
    "grocery_sales = pd.read_csv('grocery_sales.csv')"
   ]
  },
  {
   "cell_type": "code",
   "execution_count": null,
   "id": "c0d64ff1-a4ca-4a82-a8b4-e210244dedc1",
   "metadata": {
    "executionCancelledAt": null,
    "executionTime": 3649,
    "lastExecutedAt": 1725955158464,
    "lastExecutedByKernel": "a1aaa64c-395b-4456-b629-3a896bb5fb1b",
    "lastScheduledRunId": null,
    "lastSuccessfullyExecutedCode": "import pandas as pd\nimport os\n\n# extract functin is already implemented for you \ndef extract(store_data, extra_data):\n    extra_df = pd.read_parquet(extra_data)\n    merged_df = store_data.merge(extra_df, on = \"index\")\n    return merged_df\n\n# calling the extract() function and store it as the \"merged_df\" variable\nmerged_df = extract(grocery_sales, \"extra_data.parquet\")"
   },
   "outputs": [],
   "source": [
    "import pandas as pd\n",
    "import os\n",
    "\n",
    "# Extract function is already implemented for you \n",
    "def extract(store_data, extra_data):\n",
    "    extra_df = pd.read_parquet(extra_data)\n",
    "    merged_df = store_data.merge(extra_df, on = \"index\")\n",
    "    return merged_df\n",
    "\n",
    "# Call the extract() function and store it as the \"merged_df\" variable\n",
    "merged_df = extract(grocery_sales, \"extra_data.parquet\")\n",
    "merged_df.columns"
   ]
  },
  {
   "cell_type": "code",
   "execution_count": null,
   "id": "6d3c25e2-e7d8-4c33-9be0-d45f03b2cf43",
   "metadata": {
    "executionCancelledAt": null,
    "executionTime": 48,
    "lastExecutedAt": 1725955158514,
    "lastExecutedByKernel": "a1aaa64c-395b-4456-b629-3a896bb5fb1b",
    "lastScheduledRunId": null,
    "lastSuccessfullyExecutedCode": "# Create the transform() function with one parameter: \"raw_data\"\ndef transform(raw_data):\n  # Write your code here\n  pass"
   },
   "outputs": [],
   "source": [
    "# Create the transform() function with one parameter: \"raw_data\"\n",
    "def transform(raw_data):\n",
    "    columns = raw_data.columns[raw_data.isna().any()][1:] \n",
    "    clean_data = raw_data.fillna(raw_data[columns].mean())\n",
    "    clean_data['Date'] = pd.to_datetime(clean_data['Date'])\n",
    "    clean_data['Month'] = clean_data['Date'].dt.month\n",
    "    clean_data = clean_data.loc[clean_data['Weekly_Sales']>10000, :]\n",
    "    clean_data  = clean_data.drop(columns = ['Date','index', 'Temperature', 'Temperature', 'Fuel_Price', 'MarkDown1', 'MarkDown2', 'MarkDown3','MarkDown4', 'MarkDown5', 'Type', 'Size'])\n",
    "    return clean_data"
   ]
  },
  {
   "cell_type": "code",
   "execution_count": null,
   "id": "620b7289-06cd-4205-be9e-a50dc8d36cf0",
   "metadata": {
    "executionCancelledAt": null,
    "executionTime": 48,
    "lastExecutedAt": 1725955158562,
    "lastExecutedByKernel": "a1aaa64c-395b-4456-b629-3a896bb5fb1b",
    "lastScheduledRunId": null,
    "lastSuccessfullyExecutedCode": "# Call the transform() function and pass the merged DataFrame\nclean_data = transform(merged_df)"
   },
   "outputs": [],
   "source": [
    "# Call the transform() function and pass the merged DataFrame\n",
    "clean_data = transform(merged_df)\n"
   ]
  },
  {
   "cell_type": "code",
   "execution_count": null,
   "id": "b19b15e3-6624-47a9-927f-d3f12fe8212d",
   "metadata": {
    "executionCancelledAt": null,
    "executionTime": 52,
    "lastExecutedAt": 1725955158614,
    "lastExecutedByKernel": "a1aaa64c-395b-4456-b629-3a896bb5fb1b",
    "lastScheduledRunId": null,
    "lastSuccessfullyExecutedCode": "# Create the avg_monthly_sales function that takes in the cleaned data from the last step\ndef avg_monthly_sales(clean_data):\n    # Write your code here\n    pass"
   },
   "outputs": [],
   "source": [
    "def avg_weekly_sales_per_month(clean_data):\n",
    "    temp_df = clean_data[['Weekly_Sales', \"Month\"]].copy()\n",
    "    agg_data = temp_df.groupby('Month').mean().reset_index().round(2)\n",
    "    agg_data = agg_data.rename(columns={'Weekly_Sales': 'Avg_Sales'})\n",
    "    return agg_data"
   ]
  },
  {
   "cell_type": "code",
   "execution_count": null,
   "id": "fe875e27-b0cf-4e52-994e-4ae1fe6e8876",
   "metadata": {
    "executionCancelledAt": null,
    "executionTime": 48,
    "lastExecutedAt": 1725955158662,
    "lastExecutedByKernel": "a1aaa64c-395b-4456-b629-3a896bb5fb1b",
    "lastScheduledRunId": null,
    "lastSuccessfullyExecutedCode": "# Call the avg_monthly_sales() function and pass the cleaned DataFrame\n"
   },
   "outputs": [],
   "source": [
    "result = avg_weekly_sales_per_month(clean_data) "
   ]
  },
  {
   "cell_type": "code",
   "execution_count": null,
   "id": "921cb123-3153-4334-bdeb-9bb227fdc530",
   "metadata": {
    "executionCancelledAt": null,
    "executionTime": 48,
    "lastExecutedAt": 1725955158710,
    "lastExecutedByKernel": "a1aaa64c-395b-4456-b629-3a896bb5fb1b",
    "lastScheduledRunId": null,
    "lastSuccessfullyExecutedCode": "# Create the load() function that takes in the cleaned DataFrame and the aggregated one with the paths where they are going to be stored\ndef load(full_data, full_data_file_path, agg_data, agg_data_file_path):\n    # Write your code here\n    pass"
   },
   "outputs": [],
   "source": [
    "# Create the load() function that takes in the cleaned DataFrame and the aggregated one with the paths where they are going to be stored\n",
    "def load(full_data, full_data_file_path, agg_data, agg_data_file_path):\n",
    "    full_data.to_csv(full_data_file_path, index = False)\n",
    "    agg_data.to_csv(agg_data_file_path, index = False)"
   ]
  },
  {
   "cell_type": "code",
   "execution_count": null,
   "id": "f518ad5c-214e-474b-80bd-827b0c0e1536",
   "metadata": {
    "executionCancelledAt": null,
    "executionTime": 52,
    "lastExecutedAt": 1725955158762,
    "lastExecutedByKernel": "a1aaa64c-395b-4456-b629-3a896bb5fb1b",
    "lastScheduledRunId": null,
    "lastSuccessfullyExecutedCode": "# Call the load() function and pass the cleaned and aggregated DataFrames with their paths    "
   },
   "outputs": [],
   "source": [
    "load(clean_data, 'clean_data.csv', result, 'agg_data.csv') "
   ]
  },
  {
   "cell_type": "code",
   "execution_count": null,
   "id": "61b5f58a-70cb-40b3-bdbe-20b4079276e3",
   "metadata": {
    "executionCancelledAt": null,
    "executionTime": 55,
    "lastExecutedAt": 1725955158818,
    "lastExecutedByKernel": "a1aaa64c-395b-4456-b629-3a896bb5fb1b",
    "lastScheduledRunId": null,
    "lastSuccessfullyExecutedCode": "# Create the validation() function with one parameter: file_path - to check whether the previous function was correctly executed\ndef validation(file_path):\n    # Write your code here\n    pass"
   },
   "outputs": [],
   "source": [
    "def validation(file_path):\n",
    "    return os.path.exists(file_path)"
   ]
  },
  {
   "cell_type": "code",
   "execution_count": null,
   "id": "df1659ff-41c4-4a92-9812-80c6eaa02b90",
   "metadata": {
    "executionCancelledAt": null,
    "executionTime": 48,
    "lastExecutedAt": 1725955158866,
    "lastExecutedByKernel": "a1aaa64c-395b-4456-b629-3a896bb5fb1b",
    "lastScheduledRunId": null,
    "lastSuccessfullyExecutedCode": "# Call the validation() function and pass first, the cleaned DataFrame path, and then the aggregated DataFrame path\n"
   },
   "outputs": [],
   "source": [
    "print(validation('clean_data.csv'))\n",
    "print(validation('agg_data.csv'))"
   ]
  }
 ],
 "metadata": {
  "colab": {
   "name": "Welcome to DataCamp Workspaces.ipynb",
   "provenance": []
  },
  "editor": "DataLab",
  "kernelspec": {
   "display_name": ".venv",
   "language": "python",
   "name": "python3"
  },
  "language_info": {
   "codemirror_mode": {
    "name": "ipython",
    "version": 3
   },
   "file_extension": ".py",
   "mimetype": "text/x-python",
   "name": "python",
   "nbconvert_exporter": "python",
   "pygments_lexer": "ipython3",
   "version": "3.12.2"
  }
 },
 "nbformat": 4,
 "nbformat_minor": 5
}
